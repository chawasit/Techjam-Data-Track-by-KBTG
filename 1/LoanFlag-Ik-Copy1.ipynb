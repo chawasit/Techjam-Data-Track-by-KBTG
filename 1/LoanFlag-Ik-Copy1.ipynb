{
 "cells": [
  {
   "cell_type": "markdown",
   "metadata": {
    "ExecuteTime": {
     "end_time": "2017-07-28T22:23:30.818775Z",
     "start_time": "2017-07-28T22:23:30.811276Z"
    }
   },
   "source": [
    "# 1 Non-Performing Loan Flag Prediction from Credit Card Information\n",
    "\n",
    "Each year, non-performing loans cost the economy millions of baht. Predicting whether a\n",
    "customer will default on their credit card loans is a non-trivial task, which if solved, can be\n",
    "highly beneficial to both KBank and KBank’s customers. If default could be predicted in\n",
    "advance, loans could be restructured, this would save customers from bankruptcy, and prevent\n",
    "KBank from losing revenue.\n",
    "\n",
    "The task is to use the data given to predict if customers defaulted on their credit card\n",
    "loans in a certain period of time."
   ]
  },
  {
   "cell_type": "code",
   "execution_count": 3,
   "metadata": {
    "ExecuteTime": {
     "end_time": "2017-07-29T13:27:57.439949Z",
     "start_time": "2017-07-29T13:27:57.091950Z"
    },
    "collapsed": true
   },
   "outputs": [],
   "source": [
    "import pandas as pd\n",
    "import numpy as np\n",
    "import seaborn as sns\n",
    "from matplotlib import pyplot as plt\n",
    "%matplotlib inline\n",
    "\n",
    "# Beautiful format for float type\n",
    "pd.set_option('display.float_format', lambda x: '%.3f' % x)"
   ]
  },
  {
   "cell_type": "markdown",
   "metadata": {},
   "source": [
    "## CSV to DataFrame"
   ]
  },
  {
   "cell_type": "code",
   "execution_count": 4,
   "metadata": {
    "ExecuteTime": {
     "end_time": "2017-07-29T13:27:58.336954Z",
     "start_time": "2017-07-29T13:27:57.923956Z"
    },
    "collapsed": true
   },
   "outputs": [],
   "source": [
    "card_details = pd.read_csv('tj_01_creditcard_card.csv')\n",
    "customer_details = pd.read_csv('tj_01_creditcard_customer.csv')\n",
    "transactions = pd.read_csv('tj_01_creditcard_transaction.csv')\n",
    "\n",
    "mcc_codes = pd.read_csv('mcc_codes.csv')\n",
    "\n",
    "data_train = pd.read_csv('tj_01_training.csv', header = None, names = ['card_no', 'npl_flag'])\n",
    "data_test = pd.read_csv('tj_01_test.csv', header = None, names = ['card_no'])"
   ]
  },
  {
   "cell_type": "code",
   "execution_count": null,
   "metadata": {
    "ExecuteTime": {
     "end_time": "2017-07-29T12:10:34.161890Z",
     "start_time": "2017-07-29T12:09:54.845Z"
    },
    "collapsed": true
   },
   "outputs": [],
   "source": [
    "data_train[data_train.groupby('card_no').count().reset_index()['npl_flag'] > 1]"
   ]
  },
  {
   "cell_type": "code",
   "execution_count": 5,
   "metadata": {
    "ExecuteTime": {
     "end_time": "2017-07-29T13:28:00.030951Z",
     "start_time": "2017-07-29T13:28:00.018951Z"
    }
   },
   "outputs": [
    {
     "data": {
      "text/plain": [
       "False"
      ]
     },
     "execution_count": 5,
     "metadata": {},
     "output_type": "execute_result"
    }
   ],
   "source": [
    "card_details = card_details.dropna()\n",
    "card_details.isnull().values.any()"
   ]
  },
  {
   "cell_type": "code",
   "execution_count": 6,
   "metadata": {
    "ExecuteTime": {
     "end_time": "2017-07-29T13:28:00.601950Z",
     "start_time": "2017-07-29T13:28:00.595451Z"
    }
   },
   "outputs": [
    {
     "data": {
      "text/plain": [
       "False"
      ]
     },
     "execution_count": 6,
     "metadata": {},
     "output_type": "execute_result"
    }
   ],
   "source": [
    "customer_details = customer_details.fillna(0)\n",
    "customer_details.isnull().values.any()"
   ]
  },
  {
   "cell_type": "code",
   "execution_count": 7,
   "metadata": {
    "ExecuteTime": {
     "end_time": "2017-07-29T13:28:01.153951Z",
     "start_time": "2017-07-29T13:28:01.100951Z"
    }
   },
   "outputs": [
    {
     "data": {
      "text/plain": [
       "False"
      ]
     },
     "execution_count": 7,
     "metadata": {},
     "output_type": "execute_result"
    }
   ],
   "source": [
    "transactions = transactions.fillna(0)\n",
    "transactions.isnull().values.any()"
   ]
  },
  {
   "cell_type": "code",
   "execution_count": 8,
   "metadata": {
    "ExecuteTime": {
     "end_time": "2017-07-29T13:28:01.759202Z",
     "start_time": "2017-07-29T13:28:01.752703Z"
    }
   },
   "outputs": [
    {
     "data": {
      "text/plain": [
       "False"
      ]
     },
     "execution_count": 8,
     "metadata": {},
     "output_type": "execute_result"
    }
   ],
   "source": [
    "mcc_codes = mcc_codes.fillna(\"0\")\n",
    "mcc_codes.isnull().values.any()"
   ]
  },
  {
   "cell_type": "markdown",
   "metadata": {},
   "source": [
    "## Merge Related DataFrame"
   ]
  },
  {
   "cell_type": "code",
   "execution_count": 9,
   "metadata": {
    "ExecuteTime": {
     "end_time": "2017-07-29T13:28:02.913951Z",
     "start_time": "2017-07-29T13:28:02.896451Z"
    }
   },
   "outputs": [
    {
     "data": {
      "text/html": [
       "<div>\n",
       "<style>\n",
       "    .dataframe thead tr:only-child th {\n",
       "        text-align: right;\n",
       "    }\n",
       "\n",
       "    .dataframe thead th {\n",
       "        text-align: left;\n",
       "    }\n",
       "\n",
       "    .dataframe tbody tr th {\n",
       "        vertical-align: top;\n",
       "    }\n",
       "</style>\n",
       "<table border=\"1\" class=\"dataframe\">\n",
       "  <thead>\n",
       "    <tr style=\"text-align: right;\">\n",
       "      <th></th>\n",
       "      <th>card_no</th>\n",
       "      <th>bill_cyc</th>\n",
       "      <th>pos_dt_x</th>\n",
       "      <th>cst_id</th>\n",
       "      <th>open_dt</th>\n",
       "      <th>exp_dt</th>\n",
       "      <th>cr_lmt_amt</th>\n",
       "      <th>prev_cr_lmt_amt</th>\n",
       "      <th>incm_amt</th>\n",
       "      <th>age</th>\n",
       "      <th>main_zip_cd</th>\n",
       "      <th>cr_line_amt</th>\n",
       "      <th>pos_dt_y</th>\n",
       "    </tr>\n",
       "  </thead>\n",
       "  <tbody>\n",
       "    <tr>\n",
       "      <th>9152</th>\n",
       "      <td>1234000000025202</td>\n",
       "      <td>20</td>\n",
       "      <td>2017-02-23 00:00:00</td>\n",
       "      <td>1000011886</td>\n",
       "      <td>2015-06-03 00:00:00</td>\n",
       "      <td>620</td>\n",
       "      <td>24000.000</td>\n",
       "      <td>0.000</td>\n",
       "      <td>17000</td>\n",
       "      <td>27.000</td>\n",
       "      <td>12130</td>\n",
       "      <td>24000.000</td>\n",
       "      <td>2017-02-23 00:00:00</td>\n",
       "    </tr>\n",
       "  </tbody>\n",
       "</table>\n",
       "</div>"
      ],
      "text/plain": [
       "               card_no  bill_cyc             pos_dt_x      cst_id  \\\n",
       "9152  1234000000025202        20  2017-02-23 00:00:00  1000011886   \n",
       "\n",
       "                  open_dt  exp_dt  cr_lmt_amt  prev_cr_lmt_amt  incm_amt  \\\n",
       "9152  2015-06-03 00:00:00     620   24000.000            0.000     17000   \n",
       "\n",
       "        age  main_zip_cd  cr_line_amt             pos_dt_y  \n",
       "9152 27.000        12130    24000.000  2017-02-23 00:00:00  "
      ]
     },
     "execution_count": 9,
     "metadata": {},
     "output_type": "execute_result"
    }
   ],
   "source": [
    "card_details = card_details.merge(customer_details, left_on = 'cst_id', right_on = 'cst_id', how = \"left\")\n",
    "card_details.sample()"
   ]
  },
  {
   "cell_type": "code",
   "execution_count": 10,
   "metadata": {
    "ExecuteTime": {
     "end_time": "2017-07-29T13:28:03.732450Z",
     "start_time": "2017-07-29T13:28:03.543449Z"
    }
   },
   "outputs": [
    {
     "data": {
      "text/html": [
       "<div>\n",
       "<style>\n",
       "    .dataframe thead tr:only-child th {\n",
       "        text-align: right;\n",
       "    }\n",
       "\n",
       "    .dataframe thead th {\n",
       "        text-align: left;\n",
       "    }\n",
       "\n",
       "    .dataframe tbody tr th {\n",
       "        vertical-align: top;\n",
       "    }\n",
       "</style>\n",
       "<table border=\"1\" class=\"dataframe\">\n",
       "  <thead>\n",
       "    <tr style=\"text-align: right;\">\n",
       "      <th></th>\n",
       "      <th>card_no</th>\n",
       "      <th>txn_date</th>\n",
       "      <th>txn_hour</th>\n",
       "      <th>txn_amount</th>\n",
       "      <th>mer_cat_code</th>\n",
       "      <th>mer_id</th>\n",
       "      <th>mcc</th>\n",
       "      <th>edited_description</th>\n",
       "      <th>combined_description</th>\n",
       "      <th>usda_description</th>\n",
       "      <th>irs_description</th>\n",
       "      <th>irs_reportable</th>\n",
       "    </tr>\n",
       "  </thead>\n",
       "  <tbody>\n",
       "    <tr>\n",
       "      <th>200758</th>\n",
       "      <td>1234000000023380</td>\n",
       "      <td>2016-03-31 00:00:00</td>\n",
       "      <td>8</td>\n",
       "      <td>350.000</td>\n",
       "      <td>4111</td>\n",
       "      <td>0</td>\n",
       "      <td>4111.000</td>\n",
       "      <td>Local/Suburban Commuter Passenger Transportati...</td>\n",
       "      <td>Local/Suburban Commuter Passenger Transportati...</td>\n",
       "      <td>Local/Suburban Commuter Passenger Transportati...</td>\n",
       "      <td>Commuter Transport, Ferries</td>\n",
       "      <td>Yes</td>\n",
       "    </tr>\n",
       "    <tr>\n",
       "      <th>526275</th>\n",
       "      <td>1234000000011427</td>\n",
       "      <td>2016-08-05 00:00:00</td>\n",
       "      <td>12</td>\n",
       "      <td>1050.000</td>\n",
       "      <td>5812</td>\n",
       "      <td>24875</td>\n",
       "      <td>5812.000</td>\n",
       "      <td>Eating places and Restaurants</td>\n",
       "      <td>Eating places and Restaurants</td>\n",
       "      <td>Eating places and Restaurants</td>\n",
       "      <td>Eating Places, Restaurants</td>\n",
       "      <td>No1.6041-3(c)</td>\n",
       "    </tr>\n",
       "    <tr>\n",
       "      <th>174108</th>\n",
       "      <td>1234000000015812</td>\n",
       "      <td>2016-08-06 00:00:00</td>\n",
       "      <td>14</td>\n",
       "      <td>200.000</td>\n",
       "      <td>5411</td>\n",
       "      <td>0</td>\n",
       "      <td>5411.000</td>\n",
       "      <td>Grocery Stores, Supermarkets</td>\n",
       "      <td>Grocery Stores, Supermarkets</td>\n",
       "      <td>Grocery Stores</td>\n",
       "      <td>Grocery Stores, Supermarkets</td>\n",
       "      <td>No1.6041-3(c)</td>\n",
       "    </tr>\n",
       "  </tbody>\n",
       "</table>\n",
       "</div>"
      ],
      "text/plain": [
       "                 card_no             txn_date  txn_hour  txn_amount  \\\n",
       "200758  1234000000023380  2016-03-31 00:00:00         8     350.000   \n",
       "526275  1234000000011427  2016-08-05 00:00:00        12    1050.000   \n",
       "174108  1234000000015812  2016-08-06 00:00:00        14     200.000   \n",
       "\n",
       "        mer_cat_code  mer_id      mcc  \\\n",
       "200758          4111       0 4111.000   \n",
       "526275          5812   24875 5812.000   \n",
       "174108          5411       0 5411.000   \n",
       "\n",
       "                                       edited_description  \\\n",
       "200758  Local/Suburban Commuter Passenger Transportati...   \n",
       "526275                      Eating places and Restaurants   \n",
       "174108                       Grocery Stores, Supermarkets   \n",
       "\n",
       "                                     combined_description  \\\n",
       "200758  Local/Suburban Commuter Passenger Transportati...   \n",
       "526275                      Eating places and Restaurants   \n",
       "174108                       Grocery Stores, Supermarkets   \n",
       "\n",
       "                                         usda_description  \\\n",
       "200758  Local/Suburban Commuter Passenger Transportati...   \n",
       "526275                      Eating places and Restaurants   \n",
       "174108                                     Grocery Stores   \n",
       "\n",
       "                     irs_description irs_reportable  \n",
       "200758   Commuter Transport, Ferries            Yes  \n",
       "526275    Eating Places, Restaurants  No1.6041-3(c)  \n",
       "174108  Grocery Stores, Supermarkets  No1.6041-3(c)  "
      ]
     },
     "execution_count": 10,
     "metadata": {},
     "output_type": "execute_result"
    }
   ],
   "source": [
    "transactions = transactions.merge(mcc_codes, how = \"left\", left_on = \"mer_cat_code\", right_on = \"mcc\")\n",
    "transactions.sample(3)"
   ]
  },
  {
   "cell_type": "markdown",
   "metadata": {},
   "source": [
    "## Cleanup Cards"
   ]
  },
  {
   "cell_type": "code",
   "execution_count": null,
   "metadata": {
    "ExecuteTime": {
     "end_time": "2017-07-29T12:10:34.168388Z",
     "start_time": "2017-07-29T12:09:54.854Z"
    },
    "collapsed": true
   },
   "outputs": [],
   "source": [
    "card_details.sample()"
   ]
  },
  {
   "cell_type": "code",
   "execution_count": 11,
   "metadata": {
    "ExecuteTime": {
     "end_time": "2017-07-29T13:28:05.608993Z",
     "start_time": "2017-07-29T13:28:05.587491Z"
    }
   },
   "outputs": [
    {
     "data": {
      "text/html": [
       "<div>\n",
       "<style>\n",
       "    .dataframe thead tr:only-child th {\n",
       "        text-align: right;\n",
       "    }\n",
       "\n",
       "    .dataframe thead th {\n",
       "        text-align: left;\n",
       "    }\n",
       "\n",
       "    .dataframe tbody tr th {\n",
       "        vertical-align: top;\n",
       "    }\n",
       "</style>\n",
       "<table border=\"1\" class=\"dataframe\">\n",
       "  <thead>\n",
       "    <tr style=\"text-align: right;\">\n",
       "      <th></th>\n",
       "      <th>card_no</th>\n",
       "      <th>bill_cycle</th>\n",
       "      <th>credit_limit</th>\n",
       "      <th>prev_credit_limit</th>\n",
       "      <th>income</th>\n",
       "      <th>age</th>\n",
       "      <th>zip</th>\n",
       "      <th>credit_available</th>\n",
       "    </tr>\n",
       "  </thead>\n",
       "  <tbody>\n",
       "    <tr>\n",
       "      <th>8189</th>\n",
       "      <td>1234000000022813</td>\n",
       "      <td>17</td>\n",
       "      <td>150000.000</td>\n",
       "      <td>0.000</td>\n",
       "      <td>75766</td>\n",
       "      <td>28.000</td>\n",
       "      <td>10250</td>\n",
       "      <td>150000.000</td>\n",
       "    </tr>\n",
       "  </tbody>\n",
       "</table>\n",
       "</div>"
      ],
      "text/plain": [
       "               card_no  bill_cycle  credit_limit  prev_credit_limit  income  \\\n",
       "8189  1234000000022813          17    150000.000              0.000   75766   \n",
       "\n",
       "        age    zip  credit_available  \n",
       "8189 28.000  10250        150000.000  "
      ]
     },
     "execution_count": 11,
     "metadata": {},
     "output_type": "execute_result"
    }
   ],
   "source": [
    "def cleanup_card_columns(df):\n",
    "    drop_columns = ['pos_dt_x'\n",
    "                    , 'cst_id'\n",
    "                    , 'open_dt'\n",
    "                    , 'exp_dt'\n",
    "                    , 'pos_dt_y']\n",
    "    \n",
    "    return df.drop(drop_columns, axis = 1)\n",
    "\n",
    "\n",
    "def make_readable_columns(df):\n",
    "    df.columns = ['card_no'\n",
    "                  , 'bill_cycle'\n",
    "                  , 'credit_limit'\n",
    "                  , 'prev_credit_limit'\n",
    "                  , 'income'\n",
    "                  , 'age'\n",
    "                  , 'zip'\n",
    "                  , 'credit_available']\n",
    "    \n",
    "    return df\n",
    "\n",
    "\n",
    "def cleanup_cards(df):\n",
    "    df = cleanup_card_columns(df)\n",
    "    df = make_readable_columns(df)\n",
    "    \n",
    "    return df\n",
    "\n",
    "\n",
    "clean_card_details = cleanup_cards(card_details)\n",
    "clean_card_details.sample()"
   ]
  },
  {
   "cell_type": "markdown",
   "metadata": {},
   "source": [
    "## Cleanup Transactions"
   ]
  },
  {
   "cell_type": "code",
   "execution_count": null,
   "metadata": {
    "ExecuteTime": {
     "end_time": "2017-07-29T12:10:34.169390Z",
     "start_time": "2017-07-29T12:09:54.857Z"
    },
    "collapsed": true
   },
   "outputs": [],
   "source": [
    "transactions.sample()"
   ]
  },
  {
   "cell_type": "code",
   "execution_count": 12,
   "metadata": {
    "ExecuteTime": {
     "end_time": "2017-07-29T13:28:09.901455Z",
     "start_time": "2017-07-29T13:28:06.508953Z"
    }
   },
   "outputs": [
    {
     "data": {
      "text/html": [
       "<div>\n",
       "<style>\n",
       "    .dataframe thead tr:only-child th {\n",
       "        text-align: right;\n",
       "    }\n",
       "\n",
       "    .dataframe thead th {\n",
       "        text-align: left;\n",
       "    }\n",
       "\n",
       "    .dataframe tbody tr th {\n",
       "        vertical-align: top;\n",
       "    }\n",
       "</style>\n",
       "<table border=\"1\" class=\"dataframe\">\n",
       "  <thead>\n",
       "    <tr style=\"text-align: right;\">\n",
       "      <th></th>\n",
       "      <th>card_no</th>\n",
       "      <th>date</th>\n",
       "      <th>amount</th>\n",
       "      <th>merchant</th>\n",
       "    </tr>\n",
       "  </thead>\n",
       "  <tbody>\n",
       "    <tr>\n",
       "      <th>28068</th>\n",
       "      <td>1234000000014886</td>\n",
       "      <td>2016-08</td>\n",
       "      <td>350.000</td>\n",
       "      <td>Eating places and Restaurants</td>\n",
       "    </tr>\n",
       "  </tbody>\n",
       "</table>\n",
       "</div>"
      ],
      "text/plain": [
       "                card_no     date  amount                       merchant\n",
       "28068  1234000000014886  2016-08 350.000  Eating places and Restaurants"
      ]
     },
     "execution_count": 12,
     "metadata": {},
     "output_type": "execute_result"
    }
   ],
   "source": [
    "def cleanup_transaction_columns(df):\n",
    "    drop_columns = ['mer_cat_code'\n",
    "                    , 'mer_id'\n",
    "                    , 'mcc'\n",
    "                    , 'txn_hour'\n",
    "                    , 'combined_description'\n",
    "                    , 'usda_description'\n",
    "                    , 'irs_description'\n",
    "                    , 'irs_reportable']\n",
    "    \n",
    "    return df.drop(drop_columns, axis = 1)\n",
    "\n",
    "\n",
    "def make_readable_columns(df):\n",
    "    df.columns = ['card_no'\n",
    "                  , 'date'\n",
    "                  , 'amount'\n",
    "                  , 'merchant']\n",
    "    \n",
    "    return df\n",
    "\n",
    "\n",
    "def simplify_date(df):\n",
    "    df['date'] = pd.to_datetime(df['date']).map(lambda x: x.strftime('%Y-%m'))\n",
    "    \n",
    "    return df\n",
    "\n",
    "\n",
    "def cleanup_transactions(df):\n",
    "    df = cleanup_transaction_columns(df)\n",
    "    df = make_readable_columns(df)\n",
    "    df = simplify_date(df)\n",
    "    \n",
    "    return df\n",
    "\n",
    "\n",
    "clean_transactions = cleanup_transactions(transactions)\n",
    "clean_transactions.sample()"
   ]
  },
  {
   "cell_type": "markdown",
   "metadata": {},
   "source": [
    "## Visualizing Data\n",
    "### Card Detail"
   ]
  },
  {
   "cell_type": "code",
   "execution_count": null,
   "metadata": {
    "ExecuteTime": {
     "end_time": "2017-07-29T12:10:34.170891Z",
     "start_time": "2017-07-29T12:09:54.860Z"
    },
    "collapsed": true
   },
   "outputs": [],
   "source": [
    "sns.barplot(data = clean_card_details, x = 'age', y = 'credit_limit')"
   ]
  },
  {
   "cell_type": "code",
   "execution_count": null,
   "metadata": {
    "ExecuteTime": {
     "end_time": "2017-07-29T12:10:34.171390Z",
     "start_time": "2017-07-29T12:09:54.861Z"
    },
    "collapsed": true
   },
   "outputs": [],
   "source": [
    "sns.barplot(data = clean_card_details, x = 'age', y = 'income')"
   ]
  },
  {
   "cell_type": "markdown",
   "metadata": {},
   "source": [
    "### Transaction"
   ]
  },
  {
   "cell_type": "code",
   "execution_count": null,
   "metadata": {
    "ExecuteTime": {
     "end_time": "2017-07-29T12:10:34.171889Z",
     "start_time": "2017-07-29T12:09:54.862Z"
    },
    "collapsed": true,
    "scrolled": true
   },
   "outputs": [],
   "source": [
    "# sns.distplot(data = clean_transactions, x = 'date', y = 'amount')"
   ]
  },
  {
   "cell_type": "markdown",
   "metadata": {
    "ExecuteTime": {
     "end_time": "2017-07-29T00:04:49.223286Z",
     "start_time": "2017-07-29T00:04:49.220286Z"
    }
   },
   "source": [
    "## Feature Engineering"
   ]
  },
  {
   "cell_type": "markdown",
   "metadata": {
    "ExecuteTime": {
     "end_time": "2017-07-29T00:06:39.285983Z",
     "start_time": "2017-07-29T00:06:39.282984Z"
    }
   },
   "source": [
    "### Use amount per month"
   ]
  },
  {
   "cell_type": "code",
   "execution_count": 13,
   "metadata": {
    "ExecuteTime": {
     "end_time": "2017-07-29T13:28:09.998452Z",
     "start_time": "2017-07-29T13:28:09.902956Z"
    },
    "scrolled": true
   },
   "outputs": [
    {
     "data": {
      "text/html": [
       "<div>\n",
       "<style>\n",
       "    .dataframe thead tr:only-child th {\n",
       "        text-align: right;\n",
       "    }\n",
       "\n",
       "    .dataframe thead th {\n",
       "        text-align: left;\n",
       "    }\n",
       "\n",
       "    .dataframe tbody tr th {\n",
       "        vertical-align: top;\n",
       "    }\n",
       "</style>\n",
       "<table border=\"1\" class=\"dataframe\">\n",
       "  <thead>\n",
       "    <tr style=\"text-align: right;\">\n",
       "      <th></th>\n",
       "      <th>card_no</th>\n",
       "      <th>date</th>\n",
       "      <th>amount</th>\n",
       "    </tr>\n",
       "  </thead>\n",
       "  <tbody>\n",
       "    <tr>\n",
       "      <th>0</th>\n",
       "      <td>1234000000000004</td>\n",
       "      <td>2016-01</td>\n",
       "      <td>9500.000</td>\n",
       "    </tr>\n",
       "    <tr>\n",
       "      <th>1</th>\n",
       "      <td>1234000000000004</td>\n",
       "      <td>2016-02</td>\n",
       "      <td>3200.000</td>\n",
       "    </tr>\n",
       "    <tr>\n",
       "      <th>2</th>\n",
       "      <td>1234000000000004</td>\n",
       "      <td>2016-03</td>\n",
       "      <td>5200.000</td>\n",
       "    </tr>\n",
       "    <tr>\n",
       "      <th>3</th>\n",
       "      <td>1234000000000004</td>\n",
       "      <td>2016-04</td>\n",
       "      <td>4500.000</td>\n",
       "    </tr>\n",
       "    <tr>\n",
       "      <th>4</th>\n",
       "      <td>1234000000000004</td>\n",
       "      <td>2016-05</td>\n",
       "      <td>4400.000</td>\n",
       "    </tr>\n",
       "    <tr>\n",
       "      <th>5</th>\n",
       "      <td>1234000000000004</td>\n",
       "      <td>2016-06</td>\n",
       "      <td>2700.000</td>\n",
       "    </tr>\n",
       "  </tbody>\n",
       "</table>\n",
       "</div>"
      ],
      "text/plain": [
       "            card_no     date   amount\n",
       "0  1234000000000004  2016-01 9500.000\n",
       "1  1234000000000004  2016-02 3200.000\n",
       "2  1234000000000004  2016-03 5200.000\n",
       "3  1234000000000004  2016-04 4500.000\n",
       "4  1234000000000004  2016-05 4400.000\n",
       "5  1234000000000004  2016-06 2700.000"
      ]
     },
     "execution_count": 13,
     "metadata": {},
     "output_type": "execute_result"
    }
   ],
   "source": [
    "transaction_amount_per_month = clean_transactions.groupby(['card_no', 'date']).sum().reset_index()\n",
    "transaction_amount_per_month.head(6)"
   ]
  },
  {
   "cell_type": "markdown",
   "metadata": {},
   "source": [
    "### Max amount"
   ]
  },
  {
   "cell_type": "code",
   "execution_count": 14,
   "metadata": {
    "ExecuteTime": {
     "end_time": "2017-07-29T13:28:13.054450Z",
     "start_time": "2017-07-29T13:28:11.170950Z"
    }
   },
   "outputs": [
    {
     "data": {
      "text/html": [
       "<div>\n",
       "<style>\n",
       "    .dataframe thead tr:only-child th {\n",
       "        text-align: right;\n",
       "    }\n",
       "\n",
       "    .dataframe thead th {\n",
       "        text-align: left;\n",
       "    }\n",
       "\n",
       "    .dataframe tbody tr th {\n",
       "        vertical-align: top;\n",
       "    }\n",
       "</style>\n",
       "<table border=\"1\" class=\"dataframe\">\n",
       "  <thead>\n",
       "    <tr style=\"text-align: right;\">\n",
       "      <th></th>\n",
       "      <th>card_no</th>\n",
       "      <th>max_amount</th>\n",
       "    </tr>\n",
       "  </thead>\n",
       "  <tbody>\n",
       "    <tr>\n",
       "      <th>0</th>\n",
       "      <td>1234000000000004</td>\n",
       "      <td>9500.000</td>\n",
       "    </tr>\n",
       "    <tr>\n",
       "      <th>1</th>\n",
       "      <td>1234000000000005</td>\n",
       "      <td>750.000</td>\n",
       "    </tr>\n",
       "    <tr>\n",
       "      <th>2</th>\n",
       "      <td>1234000000000006</td>\n",
       "      <td>77200.000</td>\n",
       "    </tr>\n",
       "    <tr>\n",
       "      <th>3</th>\n",
       "      <td>1234000000000010</td>\n",
       "      <td>7100.000</td>\n",
       "    </tr>\n",
       "    <tr>\n",
       "      <th>4</th>\n",
       "      <td>1234000000000012</td>\n",
       "      <td>13250.000</td>\n",
       "    </tr>\n",
       "    <tr>\n",
       "      <th>5</th>\n",
       "      <td>1234000000000014</td>\n",
       "      <td>22350.000</td>\n",
       "    </tr>\n",
       "  </tbody>\n",
       "</table>\n",
       "</div>"
      ],
      "text/plain": [
       "            card_no  max_amount\n",
       "0  1234000000000004    9500.000\n",
       "1  1234000000000005     750.000\n",
       "2  1234000000000006   77200.000\n",
       "3  1234000000000010    7100.000\n",
       "4  1234000000000012   13250.000\n",
       "5  1234000000000014   22350.000"
      ]
     },
     "execution_count": 14,
     "metadata": {},
     "output_type": "execute_result"
    }
   ],
   "source": [
    "transaction_max = transaction_amount_per_month.groupby(['card_no']).max().reset_index()\n",
    "transaction_max = transaction_max.fillna(0).drop('date', axis = 1)\n",
    "transaction_max.columns = ['card_no', 'max_amount']\n",
    "transaction_max.head(6)"
   ]
  },
  {
   "cell_type": "markdown",
   "metadata": {},
   "source": [
    "## Min amount"
   ]
  },
  {
   "cell_type": "code",
   "execution_count": 15,
   "metadata": {
    "ExecuteTime": {
     "end_time": "2017-07-29T13:28:16.161456Z",
     "start_time": "2017-07-29T13:28:14.238451Z"
    }
   },
   "outputs": [
    {
     "data": {
      "text/html": [
       "<div>\n",
       "<style>\n",
       "    .dataframe thead tr:only-child th {\n",
       "        text-align: right;\n",
       "    }\n",
       "\n",
       "    .dataframe thead th {\n",
       "        text-align: left;\n",
       "    }\n",
       "\n",
       "    .dataframe tbody tr th {\n",
       "        vertical-align: top;\n",
       "    }\n",
       "</style>\n",
       "<table border=\"1\" class=\"dataframe\">\n",
       "  <thead>\n",
       "    <tr style=\"text-align: right;\">\n",
       "      <th></th>\n",
       "      <th>card_no</th>\n",
       "      <th>min_amount</th>\n",
       "    </tr>\n",
       "  </thead>\n",
       "  <tbody>\n",
       "    <tr>\n",
       "      <th>0</th>\n",
       "      <td>1234000000000004</td>\n",
       "      <td>2050.000</td>\n",
       "    </tr>\n",
       "    <tr>\n",
       "      <th>1</th>\n",
       "      <td>1234000000000005</td>\n",
       "      <td>100.000</td>\n",
       "    </tr>\n",
       "    <tr>\n",
       "      <th>2</th>\n",
       "      <td>1234000000000006</td>\n",
       "      <td>1750.000</td>\n",
       "    </tr>\n",
       "    <tr>\n",
       "      <th>3</th>\n",
       "      <td>1234000000000010</td>\n",
       "      <td>1700.000</td>\n",
       "    </tr>\n",
       "    <tr>\n",
       "      <th>4</th>\n",
       "      <td>1234000000000012</td>\n",
       "      <td>500.000</td>\n",
       "    </tr>\n",
       "    <tr>\n",
       "      <th>5</th>\n",
       "      <td>1234000000000014</td>\n",
       "      <td>450.000</td>\n",
       "    </tr>\n",
       "  </tbody>\n",
       "</table>\n",
       "</div>"
      ],
      "text/plain": [
       "            card_no  min_amount\n",
       "0  1234000000000004    2050.000\n",
       "1  1234000000000005     100.000\n",
       "2  1234000000000006    1750.000\n",
       "3  1234000000000010    1700.000\n",
       "4  1234000000000012     500.000\n",
       "5  1234000000000014     450.000"
      ]
     },
     "execution_count": 15,
     "metadata": {},
     "output_type": "execute_result"
    }
   ],
   "source": [
    "transaction_min = transaction_amount_per_month.groupby(['card_no']).min().reset_index()\n",
    "transaction_min = transaction_min.fillna(0).drop('date', axis = 1)\n",
    "transaction_min.columns = ['card_no', 'min_amount']\n",
    "transaction_min.head(6)"
   ]
  },
  {
   "cell_type": "markdown",
   "metadata": {},
   "source": [
    "### Mean"
   ]
  },
  {
   "cell_type": "code",
   "execution_count": 16,
   "metadata": {
    "ExecuteTime": {
     "end_time": "2017-07-29T13:28:16.808956Z",
     "start_time": "2017-07-29T13:28:16.794455Z"
    }
   },
   "outputs": [
    {
     "data": {
      "text/html": [
       "<div>\n",
       "<style>\n",
       "    .dataframe thead tr:only-child th {\n",
       "        text-align: right;\n",
       "    }\n",
       "\n",
       "    .dataframe thead th {\n",
       "        text-align: left;\n",
       "    }\n",
       "\n",
       "    .dataframe tbody tr th {\n",
       "        vertical-align: top;\n",
       "    }\n",
       "</style>\n",
       "<table border=\"1\" class=\"dataframe\">\n",
       "  <thead>\n",
       "    <tr style=\"text-align: right;\">\n",
       "      <th></th>\n",
       "      <th>card_no</th>\n",
       "      <th>mean_amount</th>\n",
       "    </tr>\n",
       "  </thead>\n",
       "  <tbody>\n",
       "    <tr>\n",
       "      <th>0</th>\n",
       "      <td>1234000000000004</td>\n",
       "      <td>4868.750</td>\n",
       "    </tr>\n",
       "    <tr>\n",
       "      <th>1</th>\n",
       "      <td>1234000000000005</td>\n",
       "      <td>312.500</td>\n",
       "    </tr>\n",
       "    <tr>\n",
       "      <th>2</th>\n",
       "      <td>1234000000000006</td>\n",
       "      <td>18800.000</td>\n",
       "    </tr>\n",
       "    <tr>\n",
       "      <th>3</th>\n",
       "      <td>1234000000000010</td>\n",
       "      <td>3756.250</td>\n",
       "    </tr>\n",
       "    <tr>\n",
       "      <th>4</th>\n",
       "      <td>1234000000000012</td>\n",
       "      <td>7406.250</td>\n",
       "    </tr>\n",
       "    <tr>\n",
       "      <th>5</th>\n",
       "      <td>1234000000000014</td>\n",
       "      <td>6587.500</td>\n",
       "    </tr>\n",
       "  </tbody>\n",
       "</table>\n",
       "</div>"
      ],
      "text/plain": [
       "            card_no  mean_amount\n",
       "0  1234000000000004     4868.750\n",
       "1  1234000000000005      312.500\n",
       "2  1234000000000006    18800.000\n",
       "3  1234000000000010     3756.250\n",
       "4  1234000000000012     7406.250\n",
       "5  1234000000000014     6587.500"
      ]
     },
     "execution_count": 16,
     "metadata": {},
     "output_type": "execute_result"
    }
   ],
   "source": [
    "transaction_mean = transaction_amount_per_month.groupby(['card_no']).mean().reset_index().fillna(0)\n",
    "transaction_mean.columns = ['card_no', 'mean_amount']\n",
    "transaction_mean.head(6)"
   ]
  },
  {
   "cell_type": "markdown",
   "metadata": {},
   "source": [
    "### Diff Credit Limit  "
   ]
  },
  {
   "cell_type": "code",
   "execution_count": 17,
   "metadata": {
    "ExecuteTime": {
     "end_time": "2017-07-29T13:28:18.112456Z",
     "start_time": "2017-07-29T13:28:18.097955Z"
    },
    "scrolled": true
   },
   "outputs": [
    {
     "data": {
      "text/html": [
       "<div>\n",
       "<style>\n",
       "    .dataframe thead tr:only-child th {\n",
       "        text-align: right;\n",
       "    }\n",
       "\n",
       "    .dataframe thead th {\n",
       "        text-align: left;\n",
       "    }\n",
       "\n",
       "    .dataframe tbody tr th {\n",
       "        vertical-align: top;\n",
       "    }\n",
       "</style>\n",
       "<table border=\"1\" class=\"dataframe\">\n",
       "  <thead>\n",
       "    <tr style=\"text-align: right;\">\n",
       "      <th></th>\n",
       "      <th>card_no</th>\n",
       "      <th>diff_credit_limit</th>\n",
       "    </tr>\n",
       "  </thead>\n",
       "  <tbody>\n",
       "    <tr>\n",
       "      <th>532</th>\n",
       "      <td>1234000000023808</td>\n",
       "      <td>0.708</td>\n",
       "    </tr>\n",
       "    <tr>\n",
       "      <th>6883</th>\n",
       "      <td>1234000000009806</td>\n",
       "      <td>60000.000</td>\n",
       "    </tr>\n",
       "    <tr>\n",
       "      <th>253</th>\n",
       "      <td>1234000000002576</td>\n",
       "      <td>0.833</td>\n",
       "    </tr>\n",
       "    <tr>\n",
       "      <th>2930</th>\n",
       "      <td>1234000000020697</td>\n",
       "      <td>0.314</td>\n",
       "    </tr>\n",
       "    <tr>\n",
       "      <th>10498</th>\n",
       "      <td>1234000000005555</td>\n",
       "      <td>2.000</td>\n",
       "    </tr>\n",
       "    <tr>\n",
       "      <th>6900</th>\n",
       "      <td>1234000000002770</td>\n",
       "      <td>1.555</td>\n",
       "    </tr>\n",
       "  </tbody>\n",
       "</table>\n",
       "</div>"
      ],
      "text/plain": [
       "                card_no  diff_credit_limit\n",
       "532    1234000000023808              0.708\n",
       "6883   1234000000009806          60000.000\n",
       "253    1234000000002576              0.833\n",
       "2930   1234000000020697              0.314\n",
       "10498  1234000000005555              2.000\n",
       "6900   1234000000002770              1.555"
      ]
     },
     "execution_count": 17,
     "metadata": {},
     "output_type": "execute_result"
    }
   ],
   "source": [
    "clean_card_details_with_diff = pd.DataFrame(columns = ['card_no', 'diff_credit_limit'])\n",
    "clean_card_details_with_diff.card_no = clean_card_details.card_no\n",
    "clean_prev_credit_limit = clean_card_details.prev_credit_limit.apply(lambda x: 1 if x == 0 else x)\n",
    "clean_card_details_with_diff.diff_credit_limit = (clean_card_details.credit_limit \\\n",
    "                                                / clean_prev_credit_limit)\n",
    "clean_card_details_with_diff.sample(6)"
   ]
  },
  {
   "cell_type": "markdown",
   "metadata": {},
   "source": [
    "### Pivot Merchant in transactions"
   ]
  },
  {
   "cell_type": "code",
   "execution_count": 39,
   "metadata": {
    "ExecuteTime": {
     "end_time": "2017-07-29T12:39:44.581707Z",
     "start_time": "2017-07-29T12:39:44.561218Z"
    }
   },
   "outputs": [
    {
     "data": {
      "text/html": [
       "<div>\n",
       "<style>\n",
       "    .dataframe thead tr:only-child th {\n",
       "        text-align: right;\n",
       "    }\n",
       "\n",
       "    .dataframe thead th {\n",
       "        text-align: left;\n",
       "    }\n",
       "\n",
       "    .dataframe tbody tr th {\n",
       "        vertical-align: top;\n",
       "    }\n",
       "</style>\n",
       "<table border=\"1\" class=\"dataframe\">\n",
       "  <thead>\n",
       "    <tr style=\"text-align: right;\">\n",
       "      <th></th>\n",
       "      <th>card_no</th>\n",
       "      <th>date</th>\n",
       "      <th>amount</th>\n",
       "      <th>merchant</th>\n",
       "    </tr>\n",
       "  </thead>\n",
       "  <tbody>\n",
       "    <tr>\n",
       "      <th>475308</th>\n",
       "      <td>1234000000011958</td>\n",
       "      <td>2016-05</td>\n",
       "      <td>450.000</td>\n",
       "      <td>Misc. Food Stores – Convenience Stores and Spe...</td>\n",
       "    </tr>\n",
       "    <tr>\n",
       "      <th>174375</th>\n",
       "      <td>1234000000016887</td>\n",
       "      <td>2016-07</td>\n",
       "      <td>200.000</td>\n",
       "      <td>Insurance Sales, Underwriting, and Premiums</td>\n",
       "    </tr>\n",
       "    <tr>\n",
       "      <th>254502</th>\n",
       "      <td>1234000000025188</td>\n",
       "      <td>2016-02</td>\n",
       "      <td>350.000</td>\n",
       "      <td>Department Stores</td>\n",
       "    </tr>\n",
       "    <tr>\n",
       "      <th>271197</th>\n",
       "      <td>1234000000007271</td>\n",
       "      <td>2016-07</td>\n",
       "      <td>350.000</td>\n",
       "      <td>Insurance Sales, Underwriting, and Premiums</td>\n",
       "    </tr>\n",
       "  </tbody>\n",
       "</table>\n",
       "</div>"
      ],
      "text/plain": [
       "                 card_no     date  amount  \\\n",
       "475308  1234000000011958  2016-05 450.000   \n",
       "174375  1234000000016887  2016-07 200.000   \n",
       "254502  1234000000025188  2016-02 350.000   \n",
       "271197  1234000000007271  2016-07 350.000   \n",
       "\n",
       "                                                 merchant  \n",
       "475308  Misc. Food Stores – Convenience Stores and Spe...  \n",
       "174375        Insurance Sales, Underwriting, and Premiums  \n",
       "254502                                  Department Stores  \n",
       "271197        Insurance Sales, Underwriting, and Premiums  "
      ]
     },
     "execution_count": 39,
     "metadata": {},
     "output_type": "execute_result"
    }
   ],
   "source": [
    "clean_transactions.sample(4)"
   ]
  },
  {
   "cell_type": "code",
   "execution_count": 18,
   "metadata": {
    "ExecuteTime": {
     "end_time": "2017-07-29T13:28:21.493917Z",
     "start_time": "2017-07-29T13:28:21.236919Z"
    }
   },
   "outputs": [
    {
     "data": {
      "text/html": [
       "<div>\n",
       "<style>\n",
       "    .dataframe thead tr:only-child th {\n",
       "        text-align: right;\n",
       "    }\n",
       "\n",
       "    .dataframe thead th {\n",
       "        text-align: left;\n",
       "    }\n",
       "\n",
       "    .dataframe tbody tr th {\n",
       "        vertical-align: top;\n",
       "    }\n",
       "</style>\n",
       "<table border=\"1\" class=\"dataframe\">\n",
       "  <thead>\n",
       "    <tr style=\"text-align: right;\">\n",
       "      <th>merchant</th>\n",
       "      <th>card_no</th>\n",
       "      <th>AEORFLOT</th>\n",
       "      <th>AEROMEXICO</th>\n",
       "      <th>AIR CANADA</th>\n",
       "      <th>AIR CHINA</th>\n",
       "      <th>AIR FRANCE</th>\n",
       "      <th>AIR NEW ZEALAND</th>\n",
       "      <th>ALAMO RENT-A-CAR</th>\n",
       "      <th>ALASKA AIRLINES</th>\n",
       "      <th>ALL NIPPON AIRWAYS</th>\n",
       "      <th>...</th>\n",
       "      <th>Video Tape Rental Stores</th>\n",
       "      <th>Vocational Schools and Trade Schools</th>\n",
       "      <th>WESTIN HOTELS</th>\n",
       "      <th>Watch, Clock, Jewelry, and Silverware Stores</th>\n",
       "      <th>Watch, Clock, and Jewelry Repair</th>\n",
       "      <th>Welding Repair</th>\n",
       "      <th>Wholesale Clubs</th>\n",
       "      <th>Wig and Toupee Stores</th>\n",
       "      <th>Women’s Accessory and Specialty Shops</th>\n",
       "      <th>Women’s Ready-to-Wear Stores</th>\n",
       "    </tr>\n",
       "  </thead>\n",
       "  <tbody>\n",
       "    <tr>\n",
       "      <th>3229</th>\n",
       "      <td>1234000000007761</td>\n",
       "      <td>0.000</td>\n",
       "      <td>0.000</td>\n",
       "      <td>0.000</td>\n",
       "      <td>0.000</td>\n",
       "      <td>0.000</td>\n",
       "      <td>0.000</td>\n",
       "      <td>0.000</td>\n",
       "      <td>0.000</td>\n",
       "      <td>0.000</td>\n",
       "      <td>...</td>\n",
       "      <td>0.000</td>\n",
       "      <td>0.000</td>\n",
       "      <td>0.000</td>\n",
       "      <td>4750.000</td>\n",
       "      <td>0.000</td>\n",
       "      <td>0.000</td>\n",
       "      <td>0.000</td>\n",
       "      <td>0.000</td>\n",
       "      <td>0.000</td>\n",
       "      <td>0.000</td>\n",
       "    </tr>\n",
       "    <tr>\n",
       "      <th>7748</th>\n",
       "      <td>1234000000018326</td>\n",
       "      <td>0.000</td>\n",
       "      <td>0.000</td>\n",
       "      <td>0.000</td>\n",
       "      <td>0.000</td>\n",
       "      <td>0.000</td>\n",
       "      <td>0.000</td>\n",
       "      <td>0.000</td>\n",
       "      <td>0.000</td>\n",
       "      <td>0.000</td>\n",
       "      <td>...</td>\n",
       "      <td>0.000</td>\n",
       "      <td>0.000</td>\n",
       "      <td>0.000</td>\n",
       "      <td>0.000</td>\n",
       "      <td>0.000</td>\n",
       "      <td>0.000</td>\n",
       "      <td>0.000</td>\n",
       "      <td>0.000</td>\n",
       "      <td>1150.000</td>\n",
       "      <td>0.000</td>\n",
       "    </tr>\n",
       "    <tr>\n",
       "      <th>11232</th>\n",
       "      <td>1234000000026684</td>\n",
       "      <td>0.000</td>\n",
       "      <td>0.000</td>\n",
       "      <td>0.000</td>\n",
       "      <td>0.000</td>\n",
       "      <td>0.000</td>\n",
       "      <td>0.000</td>\n",
       "      <td>0.000</td>\n",
       "      <td>0.000</td>\n",
       "      <td>0.000</td>\n",
       "      <td>...</td>\n",
       "      <td>0.000</td>\n",
       "      <td>0.000</td>\n",
       "      <td>0.000</td>\n",
       "      <td>11100.000</td>\n",
       "      <td>0.000</td>\n",
       "      <td>0.000</td>\n",
       "      <td>0.000</td>\n",
       "      <td>0.000</td>\n",
       "      <td>0.000</td>\n",
       "      <td>0.000</td>\n",
       "    </tr>\n",
       "  </tbody>\n",
       "</table>\n",
       "<p>3 rows × 344 columns</p>\n",
       "</div>"
      ],
      "text/plain": [
       "merchant           card_no  AEORFLOT  AEROMEXICO  AIR CANADA  AIR CHINA  \\\n",
       "3229      1234000000007761     0.000       0.000       0.000      0.000   \n",
       "7748      1234000000018326     0.000       0.000       0.000      0.000   \n",
       "11232     1234000000026684     0.000       0.000       0.000      0.000   \n",
       "\n",
       "merchant  AIR FRANCE  AIR NEW ZEALAND  ALAMO RENT-A-CAR  ALASKA AIRLINES  \\\n",
       "3229           0.000            0.000             0.000            0.000   \n",
       "7748           0.000            0.000             0.000            0.000   \n",
       "11232          0.000            0.000             0.000            0.000   \n",
       "\n",
       "merchant  ALL NIPPON AIRWAYS              ...               \\\n",
       "3229                   0.000              ...                \n",
       "7748                   0.000              ...                \n",
       "11232                  0.000              ...                \n",
       "\n",
       "merchant  Video Tape Rental Stores  Vocational Schools and Trade Schools  \\\n",
       "3229                         0.000                                 0.000   \n",
       "7748                         0.000                                 0.000   \n",
       "11232                        0.000                                 0.000   \n",
       "\n",
       "merchant  WESTIN HOTELS  Watch, Clock, Jewelry, and Silverware Stores  \\\n",
       "3229              0.000                                      4750.000   \n",
       "7748              0.000                                         0.000   \n",
       "11232             0.000                                     11100.000   \n",
       "\n",
       "merchant  Watch, Clock, and Jewelry Repair  Welding Repair  Wholesale Clubs  \\\n",
       "3229                                 0.000           0.000            0.000   \n",
       "7748                                 0.000           0.000            0.000   \n",
       "11232                                0.000           0.000            0.000   \n",
       "\n",
       "merchant  Wig and Toupee Stores  Women’s Accessory and Specialty Shops  \\\n",
       "3229                      0.000                                  0.000   \n",
       "7748                      0.000                               1150.000   \n",
       "11232                     0.000                                  0.000   \n",
       "\n",
       "merchant  Women’s Ready-to-Wear Stores  \n",
       "3229                             0.000  \n",
       "7748                             0.000  \n",
       "11232                            0.000  \n",
       "\n",
       "[3 rows x 344 columns]"
      ]
     },
     "execution_count": 18,
     "metadata": {},
     "output_type": "execute_result"
    }
   ],
   "source": [
    "transaction_merchants = clean_transactions.drop(['date'], axis = 1)\n",
    "# transaction_merchants = transaction_merchants.groupby(['card_no', 'merchant']).sum()\n",
    "\n",
    "transaction_merchants = pd.pivot_table(transaction_merchants\n",
    "                                       , values='amount'\n",
    "                                       , index=['card_no']\n",
    "                                       , columns=['merchant']\n",
    "                                       , aggfunc=np.sum).fillna(0).reset_index()\n",
    "transaction_merchants.sample(3)"
   ]
  },
  {
   "cell_type": "markdown",
   "metadata": {
    "ExecuteTime": {
     "end_time": "2017-07-29T00:07:03.186491Z",
     "start_time": "2017-07-29T00:07:03.183491Z"
    }
   },
   "source": [
    "### Merge to cards"
   ]
  },
  {
   "cell_type": "code",
   "execution_count": 19,
   "metadata": {
    "ExecuteTime": {
     "end_time": "2017-07-29T13:28:22.817450Z",
     "start_time": "2017-07-29T13:28:22.734951Z"
    }
   },
   "outputs": [
    {
     "data": {
      "text/html": [
       "<div>\n",
       "<style>\n",
       "    .dataframe thead tr:only-child th {\n",
       "        text-align: right;\n",
       "    }\n",
       "\n",
       "    .dataframe thead th {\n",
       "        text-align: left;\n",
       "    }\n",
       "\n",
       "    .dataframe tbody tr th {\n",
       "        vertical-align: top;\n",
       "    }\n",
       "</style>\n",
       "<table border=\"1\" class=\"dataframe\">\n",
       "  <thead>\n",
       "    <tr style=\"text-align: right;\">\n",
       "      <th></th>\n",
       "      <th>card_no</th>\n",
       "      <th>bill_cycle</th>\n",
       "      <th>credit_limit</th>\n",
       "      <th>prev_credit_limit</th>\n",
       "      <th>income</th>\n",
       "      <th>age</th>\n",
       "      <th>zip</th>\n",
       "      <th>credit_available</th>\n",
       "      <th>mean_amount</th>\n",
       "      <th>min_amount</th>\n",
       "      <th>...</th>\n",
       "      <th>Video Tape Rental Stores</th>\n",
       "      <th>Vocational Schools and Trade Schools</th>\n",
       "      <th>WESTIN HOTELS</th>\n",
       "      <th>Watch, Clock, Jewelry, and Silverware Stores</th>\n",
       "      <th>Watch, Clock, and Jewelry Repair</th>\n",
       "      <th>Welding Repair</th>\n",
       "      <th>Wholesale Clubs</th>\n",
       "      <th>Wig and Toupee Stores</th>\n",
       "      <th>Women’s Accessory and Specialty Shops</th>\n",
       "      <th>Women’s Ready-to-Wear Stores</th>\n",
       "    </tr>\n",
       "  </thead>\n",
       "  <tbody>\n",
       "    <tr>\n",
       "      <th>3890</th>\n",
       "      <td>1234000000023736</td>\n",
       "      <td>20</td>\n",
       "      <td>120000.000</td>\n",
       "      <td>0.000</td>\n",
       "      <td>101695</td>\n",
       "      <td>33.000</td>\n",
       "      <td>84320</td>\n",
       "      <td>120000.000</td>\n",
       "      <td>1850.000</td>\n",
       "      <td>600.000</td>\n",
       "      <td>...</td>\n",
       "      <td>0.000</td>\n",
       "      <td>0.000</td>\n",
       "      <td>0.000</td>\n",
       "      <td>0.000</td>\n",
       "      <td>0.000</td>\n",
       "      <td>0.000</td>\n",
       "      <td>0.000</td>\n",
       "      <td>0.000</td>\n",
       "      <td>0.000</td>\n",
       "      <td>0.000</td>\n",
       "    </tr>\n",
       "    <tr>\n",
       "      <th>4304</th>\n",
       "      <td>1234000000001670</td>\n",
       "      <td>20</td>\n",
       "      <td>80000.000</td>\n",
       "      <td>0.000</td>\n",
       "      <td>26000</td>\n",
       "      <td>54.000</td>\n",
       "      <td>10140</td>\n",
       "      <td>80000.000</td>\n",
       "      <td>3925.000</td>\n",
       "      <td>400.000</td>\n",
       "      <td>...</td>\n",
       "      <td>0.000</td>\n",
       "      <td>0.000</td>\n",
       "      <td>0.000</td>\n",
       "      <td>0.000</td>\n",
       "      <td>0.000</td>\n",
       "      <td>0.000</td>\n",
       "      <td>0.000</td>\n",
       "      <td>0.000</td>\n",
       "      <td>0.000</td>\n",
       "      <td>0.000</td>\n",
       "    </tr>\n",
       "    <tr>\n",
       "      <th>790</th>\n",
       "      <td>1234000000002611</td>\n",
       "      <td>20</td>\n",
       "      <td>28000.000</td>\n",
       "      <td>33600.000</td>\n",
       "      <td>16500</td>\n",
       "      <td>35.000</td>\n",
       "      <td>10600</td>\n",
       "      <td>28000.000</td>\n",
       "      <td>5112.500</td>\n",
       "      <td>750.000</td>\n",
       "      <td>...</td>\n",
       "      <td>0.000</td>\n",
       "      <td>0.000</td>\n",
       "      <td>0.000</td>\n",
       "      <td>0.000</td>\n",
       "      <td>0.000</td>\n",
       "      <td>0.000</td>\n",
       "      <td>0.000</td>\n",
       "      <td>0.000</td>\n",
       "      <td>0.000</td>\n",
       "      <td>250.000</td>\n",
       "    </tr>\n",
       "    <tr>\n",
       "      <th>9645</th>\n",
       "      <td>1234000000020466</td>\n",
       "      <td>17</td>\n",
       "      <td>147000.000</td>\n",
       "      <td>50000.000</td>\n",
       "      <td>42000</td>\n",
       "      <td>31.000</td>\n",
       "      <td>66000</td>\n",
       "      <td>147000.000</td>\n",
       "      <td>7750.000</td>\n",
       "      <td>650.000</td>\n",
       "      <td>...</td>\n",
       "      <td>0.000</td>\n",
       "      <td>0.000</td>\n",
       "      <td>0.000</td>\n",
       "      <td>0.000</td>\n",
       "      <td>0.000</td>\n",
       "      <td>0.000</td>\n",
       "      <td>0.000</td>\n",
       "      <td>0.000</td>\n",
       "      <td>0.000</td>\n",
       "      <td>0.000</td>\n",
       "    </tr>\n",
       "    <tr>\n",
       "      <th>214</th>\n",
       "      <td>1234000000000108</td>\n",
       "      <td>20</td>\n",
       "      <td>80000.000</td>\n",
       "      <td>90000.000</td>\n",
       "      <td>15000</td>\n",
       "      <td>62.000</td>\n",
       "      <td>10900</td>\n",
       "      <td>150000.000</td>\n",
       "      <td>3912.500</td>\n",
       "      <td>950.000</td>\n",
       "      <td>...</td>\n",
       "      <td>0.000</td>\n",
       "      <td>0.000</td>\n",
       "      <td>0.000</td>\n",
       "      <td>0.000</td>\n",
       "      <td>0.000</td>\n",
       "      <td>0.000</td>\n",
       "      <td>0.000</td>\n",
       "      <td>0.000</td>\n",
       "      <td>0.000</td>\n",
       "      <td>0.000</td>\n",
       "    </tr>\n",
       "    <tr>\n",
       "      <th>6292</th>\n",
       "      <td>1234000000000272</td>\n",
       "      <td>20</td>\n",
       "      <td>40000.000</td>\n",
       "      <td>0.000</td>\n",
       "      <td>20000</td>\n",
       "      <td>35.000</td>\n",
       "      <td>41320</td>\n",
       "      <td>40000.000</td>\n",
       "      <td>3587.500</td>\n",
       "      <td>850.000</td>\n",
       "      <td>...</td>\n",
       "      <td>0.000</td>\n",
       "      <td>0.000</td>\n",
       "      <td>0.000</td>\n",
       "      <td>0.000</td>\n",
       "      <td>0.000</td>\n",
       "      <td>0.000</td>\n",
       "      <td>0.000</td>\n",
       "      <td>0.000</td>\n",
       "      <td>0.000</td>\n",
       "      <td>0.000</td>\n",
       "    </tr>\n",
       "  </tbody>\n",
       "</table>\n",
       "<p>6 rows × 355 columns</p>\n",
       "</div>"
      ],
      "text/plain": [
       "               card_no  bill_cycle  credit_limit  prev_credit_limit  income  \\\n",
       "3890  1234000000023736          20    120000.000              0.000  101695   \n",
       "4304  1234000000001670          20     80000.000              0.000   26000   \n",
       "790   1234000000002611          20     28000.000          33600.000   16500   \n",
       "9645  1234000000020466          17    147000.000          50000.000   42000   \n",
       "214   1234000000000108          20     80000.000          90000.000   15000   \n",
       "6292  1234000000000272          20     40000.000              0.000   20000   \n",
       "\n",
       "        age    zip  credit_available  mean_amount  min_amount  \\\n",
       "3890 33.000  84320        120000.000     1850.000     600.000   \n",
       "4304 54.000  10140         80000.000     3925.000     400.000   \n",
       "790  35.000  10600         28000.000     5112.500     750.000   \n",
       "9645 31.000  66000        147000.000     7750.000     650.000   \n",
       "214  62.000  10900        150000.000     3912.500     950.000   \n",
       "6292 35.000  41320         40000.000     3587.500     850.000   \n",
       "\n",
       "                  ...               Video Tape Rental Stores  \\\n",
       "3890              ...                                  0.000   \n",
       "4304              ...                                  0.000   \n",
       "790               ...                                  0.000   \n",
       "9645              ...                                  0.000   \n",
       "214               ...                                  0.000   \n",
       "6292              ...                                  0.000   \n",
       "\n",
       "      Vocational Schools and Trade Schools  WESTIN HOTELS  \\\n",
       "3890                                 0.000          0.000   \n",
       "4304                                 0.000          0.000   \n",
       "790                                  0.000          0.000   \n",
       "9645                                 0.000          0.000   \n",
       "214                                  0.000          0.000   \n",
       "6292                                 0.000          0.000   \n",
       "\n",
       "      Watch, Clock, Jewelry, and Silverware Stores  \\\n",
       "3890                                         0.000   \n",
       "4304                                         0.000   \n",
       "790                                          0.000   \n",
       "9645                                         0.000   \n",
       "214                                          0.000   \n",
       "6292                                         0.000   \n",
       "\n",
       "      Watch, Clock, and Jewelry Repair  Welding Repair  Wholesale Clubs  \\\n",
       "3890                             0.000           0.000            0.000   \n",
       "4304                             0.000           0.000            0.000   \n",
       "790                              0.000           0.000            0.000   \n",
       "9645                             0.000           0.000            0.000   \n",
       "214                              0.000           0.000            0.000   \n",
       "6292                             0.000           0.000            0.000   \n",
       "\n",
       "      Wig and Toupee Stores  Women’s Accessory and Specialty Shops  \\\n",
       "3890                  0.000                                  0.000   \n",
       "4304                  0.000                                  0.000   \n",
       "790                   0.000                                  0.000   \n",
       "9645                  0.000                                  0.000   \n",
       "214                   0.000                                  0.000   \n",
       "6292                  0.000                                  0.000   \n",
       "\n",
       "      Women’s Ready-to-Wear Stores  \n",
       "3890                         0.000  \n",
       "4304                         0.000  \n",
       "790                        250.000  \n",
       "9645                         0.000  \n",
       "214                          0.000  \n",
       "6292                         0.000  \n",
       "\n",
       "[6 rows x 355 columns]"
      ]
     },
     "execution_count": 19,
     "metadata": {},
     "output_type": "execute_result"
    }
   ],
   "source": [
    "merge_clean_card_details = clean_card_details.join(transaction_mean.set_index('card_no'), on = 'card_no', how = 'left')\n",
    "merge_clean_card_details = merge_clean_card_details.join(transaction_min.set_index('card_no'), on = 'card_no', how = 'left')\n",
    "merge_clean_card_details = merge_clean_card_details.join(transaction_max.set_index('card_no'), on = 'card_no', how = 'left')\n",
    "merge_clean_card_details = merge_clean_card_details.join(clean_card_details_with_diff.set_index('card_no'), on = 'card_no', how = 'left')\n",
    "merge_clean_card_details = merge_clean_card_details.join(transaction_merchants.set_index('card_no'), on = 'card_no', how = 'left')\n",
    "merge_clean_card_details.sample(6)"
   ]
  },
  {
   "cell_type": "markdown",
   "metadata": {},
   "source": [
    "### Diff income and  mean"
   ]
  },
  {
   "cell_type": "code",
   "execution_count": 20,
   "metadata": {
    "ExecuteTime": {
     "end_time": "2017-07-29T13:28:24.554452Z",
     "start_time": "2017-07-29T13:28:24.504452Z"
    },
    "scrolled": false
   },
   "outputs": [
    {
     "data": {
      "text/html": [
       "<div>\n",
       "<style>\n",
       "    .dataframe thead tr:only-child th {\n",
       "        text-align: right;\n",
       "    }\n",
       "\n",
       "    .dataframe thead th {\n",
       "        text-align: left;\n",
       "    }\n",
       "\n",
       "    .dataframe tbody tr th {\n",
       "        vertical-align: top;\n",
       "    }\n",
       "</style>\n",
       "<table border=\"1\" class=\"dataframe\">\n",
       "  <thead>\n",
       "    <tr style=\"text-align: right;\">\n",
       "      <th></th>\n",
       "      <th>card_no</th>\n",
       "      <th>bill_cycle</th>\n",
       "      <th>credit_limit</th>\n",
       "      <th>prev_credit_limit</th>\n",
       "      <th>income</th>\n",
       "      <th>age</th>\n",
       "      <th>zip</th>\n",
       "      <th>credit_available</th>\n",
       "      <th>mean_amount</th>\n",
       "      <th>min_amount</th>\n",
       "      <th>...</th>\n",
       "      <th>Vocational Schools and Trade Schools</th>\n",
       "      <th>WESTIN HOTELS</th>\n",
       "      <th>Watch, Clock, Jewelry, and Silverware Stores</th>\n",
       "      <th>Watch, Clock, and Jewelry Repair</th>\n",
       "      <th>Welding Repair</th>\n",
       "      <th>Wholesale Clubs</th>\n",
       "      <th>Wig and Toupee Stores</th>\n",
       "      <th>Women’s Accessory and Specialty Shops</th>\n",
       "      <th>Women’s Ready-to-Wear Stores</th>\n",
       "      <th>diff_income_amount</th>\n",
       "    </tr>\n",
       "  </thead>\n",
       "  <tbody>\n",
       "    <tr>\n",
       "      <th>10253</th>\n",
       "      <td>1234000000002324</td>\n",
       "      <td>20</td>\n",
       "      <td>68000.000</td>\n",
       "      <td>0.000</td>\n",
       "      <td>34058</td>\n",
       "      <td>36.000</td>\n",
       "      <td>10400</td>\n",
       "      <td>68000.000</td>\n",
       "      <td>3631.250</td>\n",
       "      <td>1150.000</td>\n",
       "      <td>...</td>\n",
       "      <td>0.000</td>\n",
       "      <td>0.000</td>\n",
       "      <td>0.000</td>\n",
       "      <td>0.000</td>\n",
       "      <td>0.000</td>\n",
       "      <td>0.000</td>\n",
       "      <td>0.000</td>\n",
       "      <td>2000.000</td>\n",
       "      <td>0.000</td>\n",
       "      <td>30426.750</td>\n",
       "    </tr>\n",
       "    <tr>\n",
       "      <th>2345</th>\n",
       "      <td>1234000000023578</td>\n",
       "      <td>17</td>\n",
       "      <td>130000.000</td>\n",
       "      <td>115000.000</td>\n",
       "      <td>57880</td>\n",
       "      <td>27.000</td>\n",
       "      <td>11120</td>\n",
       "      <td>130000.000</td>\n",
       "      <td>683.333</td>\n",
       "      <td>300.000</td>\n",
       "      <td>...</td>\n",
       "      <td>0.000</td>\n",
       "      <td>0.000</td>\n",
       "      <td>0.000</td>\n",
       "      <td>0.000</td>\n",
       "      <td>0.000</td>\n",
       "      <td>0.000</td>\n",
       "      <td>0.000</td>\n",
       "      <td>0.000</td>\n",
       "      <td>0.000</td>\n",
       "      <td>57196.667</td>\n",
       "    </tr>\n",
       "    <tr>\n",
       "      <th>2086</th>\n",
       "      <td>1234000000018229</td>\n",
       "      <td>5</td>\n",
       "      <td>400000.000</td>\n",
       "      <td>200000.000</td>\n",
       "      <td>261036</td>\n",
       "      <td>58.000</td>\n",
       "      <td>12000</td>\n",
       "      <td>400000.000</td>\n",
       "      <td>5656.250</td>\n",
       "      <td>850.000</td>\n",
       "      <td>...</td>\n",
       "      <td>0.000</td>\n",
       "      <td>0.000</td>\n",
       "      <td>0.000</td>\n",
       "      <td>0.000</td>\n",
       "      <td>0.000</td>\n",
       "      <td>0.000</td>\n",
       "      <td>0.000</td>\n",
       "      <td>0.000</td>\n",
       "      <td>0.000</td>\n",
       "      <td>255379.750</td>\n",
       "    </tr>\n",
       "    <tr>\n",
       "      <th>1311</th>\n",
       "      <td>1234000000017350</td>\n",
       "      <td>17</td>\n",
       "      <td>200000.000</td>\n",
       "      <td>0.000</td>\n",
       "      <td>109629</td>\n",
       "      <td>39.000</td>\n",
       "      <td>12120</td>\n",
       "      <td>200000.000</td>\n",
       "      <td>7033.333</td>\n",
       "      <td>200.000</td>\n",
       "      <td>...</td>\n",
       "      <td>0.000</td>\n",
       "      <td>0.000</td>\n",
       "      <td>0.000</td>\n",
       "      <td>0.000</td>\n",
       "      <td>0.000</td>\n",
       "      <td>0.000</td>\n",
       "      <td>0.000</td>\n",
       "      <td>0.000</td>\n",
       "      <td>0.000</td>\n",
       "      <td>102595.667</td>\n",
       "    </tr>\n",
       "    <tr>\n",
       "      <th>2874</th>\n",
       "      <td>1234000000015302</td>\n",
       "      <td>25</td>\n",
       "      <td>348000.000</td>\n",
       "      <td>0.000</td>\n",
       "      <td>174353</td>\n",
       "      <td>59.000</td>\n",
       "      <td>10210</td>\n",
       "      <td>348000.000</td>\n",
       "      <td>5100.000</td>\n",
       "      <td>2600.000</td>\n",
       "      <td>...</td>\n",
       "      <td>0.000</td>\n",
       "      <td>0.000</td>\n",
       "      <td>0.000</td>\n",
       "      <td>0.000</td>\n",
       "      <td>0.000</td>\n",
       "      <td>0.000</td>\n",
       "      <td>0.000</td>\n",
       "      <td>0.000</td>\n",
       "      <td>0.000</td>\n",
       "      <td>169253.000</td>\n",
       "    </tr>\n",
       "    <tr>\n",
       "      <th>10690</th>\n",
       "      <td>1234000000027068</td>\n",
       "      <td>17</td>\n",
       "      <td>40000.000</td>\n",
       "      <td>0.000</td>\n",
       "      <td>21970</td>\n",
       "      <td>66.000</td>\n",
       "      <td>45000</td>\n",
       "      <td>40000.000</td>\n",
       "      <td>400.000</td>\n",
       "      <td>400.000</td>\n",
       "      <td>...</td>\n",
       "      <td>0.000</td>\n",
       "      <td>0.000</td>\n",
       "      <td>0.000</td>\n",
       "      <td>0.000</td>\n",
       "      <td>0.000</td>\n",
       "      <td>0.000</td>\n",
       "      <td>0.000</td>\n",
       "      <td>0.000</td>\n",
       "      <td>0.000</td>\n",
       "      <td>21570.000</td>\n",
       "    </tr>\n",
       "  </tbody>\n",
       "</table>\n",
       "<p>6 rows × 356 columns</p>\n",
       "</div>"
      ],
      "text/plain": [
       "                card_no  bill_cycle  credit_limit  prev_credit_limit  income  \\\n",
       "10253  1234000000002324          20     68000.000              0.000   34058   \n",
       "2345   1234000000023578          17    130000.000         115000.000   57880   \n",
       "2086   1234000000018229           5    400000.000         200000.000  261036   \n",
       "1311   1234000000017350          17    200000.000              0.000  109629   \n",
       "2874   1234000000015302          25    348000.000              0.000  174353   \n",
       "10690  1234000000027068          17     40000.000              0.000   21970   \n",
       "\n",
       "         age    zip  credit_available  mean_amount  min_amount  \\\n",
       "10253 36.000  10400         68000.000     3631.250    1150.000   \n",
       "2345  27.000  11120        130000.000      683.333     300.000   \n",
       "2086  58.000  12000        400000.000     5656.250     850.000   \n",
       "1311  39.000  12120        200000.000     7033.333     200.000   \n",
       "2874  59.000  10210        348000.000     5100.000    2600.000   \n",
       "10690 66.000  45000         40000.000      400.000     400.000   \n",
       "\n",
       "              ...          Vocational Schools and Trade Schools  \\\n",
       "10253         ...                                         0.000   \n",
       "2345          ...                                         0.000   \n",
       "2086          ...                                         0.000   \n",
       "1311          ...                                         0.000   \n",
       "2874          ...                                         0.000   \n",
       "10690         ...                                         0.000   \n",
       "\n",
       "       WESTIN HOTELS  Watch, Clock, Jewelry, and Silverware Stores  \\\n",
       "10253          0.000                                         0.000   \n",
       "2345           0.000                                         0.000   \n",
       "2086           0.000                                         0.000   \n",
       "1311           0.000                                         0.000   \n",
       "2874           0.000                                         0.000   \n",
       "10690          0.000                                         0.000   \n",
       "\n",
       "       Watch, Clock, and Jewelry Repair  Welding Repair  Wholesale Clubs  \\\n",
       "10253                             0.000           0.000            0.000   \n",
       "2345                              0.000           0.000            0.000   \n",
       "2086                              0.000           0.000            0.000   \n",
       "1311                              0.000           0.000            0.000   \n",
       "2874                              0.000           0.000            0.000   \n",
       "10690                             0.000           0.000            0.000   \n",
       "\n",
       "       Wig and Toupee Stores  Women’s Accessory and Specialty Shops  \\\n",
       "10253                  0.000                               2000.000   \n",
       "2345                   0.000                                  0.000   \n",
       "2086                   0.000                                  0.000   \n",
       "1311                   0.000                                  0.000   \n",
       "2874                   0.000                                  0.000   \n",
       "10690                  0.000                                  0.000   \n",
       "\n",
       "       Women’s Ready-to-Wear Stores  diff_income_amount  \n",
       "10253                         0.000           30426.750  \n",
       "2345                          0.000           57196.667  \n",
       "2086                          0.000          255379.750  \n",
       "1311                          0.000          102595.667  \n",
       "2874                          0.000          169253.000  \n",
       "10690                         0.000           21570.000  \n",
       "\n",
       "[6 rows x 356 columns]"
      ]
     },
     "execution_count": 20,
     "metadata": {},
     "output_type": "execute_result"
    }
   ],
   "source": [
    "diff_card_details = merge_clean_card_details.copy()\n",
    "# clean_card_details.income.astypeype('int64')\n",
    "# clean_card_details.mean.astype('int64')\n",
    "diff_card_details['diff_income_amount'] = diff_card_details.income \\\n",
    "                                                - diff_card_details.mean_amount\n",
    "diff_card_details.sample(6)"
   ]
  },
  {
   "cell_type": "code",
   "execution_count": 42,
   "metadata": {
    "ExecuteTime": {
     "end_time": "2017-07-29T13:39:30.745729Z",
     "start_time": "2017-07-29T13:39:30.164766Z"
    },
    "scrolled": false
   },
   "outputs": [
    {
     "data": {
      "text/html": [
       "<div>\n",
       "<style>\n",
       "    .dataframe thead tr:only-child th {\n",
       "        text-align: right;\n",
       "    }\n",
       "\n",
       "    .dataframe thead th {\n",
       "        text-align: left;\n",
       "    }\n",
       "\n",
       "    .dataframe tbody tr th {\n",
       "        vertical-align: top;\n",
       "    }\n",
       "</style>\n",
       "<table border=\"1\" class=\"dataframe\">\n",
       "  <thead>\n",
       "    <tr style=\"text-align: right;\">\n",
       "      <th></th>\n",
       "      <th>card_no</th>\n",
       "      <th>income</th>\n",
       "      <th>age</th>\n",
       "      <th>diff_credit_limit</th>\n",
       "      <th>AEORFLOT</th>\n",
       "      <th>AEROMEXICO</th>\n",
       "      <th>AIR CANADA</th>\n",
       "      <th>AIR CHINA</th>\n",
       "      <th>AIR FRANCE</th>\n",
       "      <th>AIR NEW ZEALAND</th>\n",
       "      <th>...</th>\n",
       "      <th>Watch, Clock, and Jewelry Repair</th>\n",
       "      <th>Welding Repair</th>\n",
       "      <th>Wholesale Clubs</th>\n",
       "      <th>Wig and Toupee Stores</th>\n",
       "      <th>Women’s Accessory and Specialty Shops</th>\n",
       "      <th>Women’s Ready-to-Wear Stores</th>\n",
       "      <th>diff_income_amount</th>\n",
       "      <th>income_mean_ratio</th>\n",
       "      <th>income_max_ratio</th>\n",
       "      <th>income_min_ratio</th>\n",
       "    </tr>\n",
       "  </thead>\n",
       "  <tbody>\n",
       "    <tr>\n",
       "      <th>count</th>\n",
       "      <td>11875.000</td>\n",
       "      <td>11875.000</td>\n",
       "      <td>11875.000</td>\n",
       "      <td>11875.000</td>\n",
       "      <td>11875.000</td>\n",
       "      <td>11875.000</td>\n",
       "      <td>11875.000</td>\n",
       "      <td>11875.000</td>\n",
       "      <td>11875.000</td>\n",
       "      <td>11875.000</td>\n",
       "      <td>...</td>\n",
       "      <td>11875.000</td>\n",
       "      <td>11875.000</td>\n",
       "      <td>11875.000</td>\n",
       "      <td>11875.000</td>\n",
       "      <td>11875.000</td>\n",
       "      <td>11875.000</td>\n",
       "      <td>11875.000</td>\n",
       "      <td>11875.000</td>\n",
       "      <td>11875.000</td>\n",
       "      <td>11875.000</td>\n",
       "    </tr>\n",
       "    <tr>\n",
       "      <th>mean</th>\n",
       "      <td>1234000000014100.500</td>\n",
       "      <td>70396.859</td>\n",
       "      <td>41.080</td>\n",
       "      <td>60004.235</td>\n",
       "      <td>0.417</td>\n",
       "      <td>0.008</td>\n",
       "      <td>0.051</td>\n",
       "      <td>7.676</td>\n",
       "      <td>2.072</td>\n",
       "      <td>0.008</td>\n",
       "      <td>...</td>\n",
       "      <td>3.853</td>\n",
       "      <td>1.423</td>\n",
       "      <td>2646.939</td>\n",
       "      <td>3.739</td>\n",
       "      <td>492.863</td>\n",
       "      <td>358.295</td>\n",
       "      <td>56339.600</td>\n",
       "      <td>24.408</td>\n",
       "      <td>17.518</td>\n",
       "      <td>130.746</td>\n",
       "    </tr>\n",
       "    <tr>\n",
       "      <th>std</th>\n",
       "      <td>8130.274</td>\n",
       "      <td>112634.628</td>\n",
       "      <td>10.433</td>\n",
       "      <td>94299.221</td>\n",
       "      <td>34.692</td>\n",
       "      <td>0.918</td>\n",
       "      <td>4.104</td>\n",
       "      <td>780.567</td>\n",
       "      <td>153.717</td>\n",
       "      <td>0.918</td>\n",
       "      <td>...</td>\n",
       "      <td>122.281</td>\n",
       "      <td>104.409</td>\n",
       "      <td>31188.300</td>\n",
       "      <td>278.282</td>\n",
       "      <td>4315.542</td>\n",
       "      <td>2200.293</td>\n",
       "      <td>119708.103</td>\n",
       "      <td>110.595</td>\n",
       "      <td>103.893</td>\n",
       "      <td>375.648</td>\n",
       "    </tr>\n",
       "    <tr>\n",
       "      <th>min</th>\n",
       "      <td>1234000000000004.000</td>\n",
       "      <td>0.000</td>\n",
       "      <td>0.000</td>\n",
       "      <td>0.000</td>\n",
       "      <td>0.000</td>\n",
       "      <td>0.000</td>\n",
       "      <td>0.000</td>\n",
       "      <td>0.000</td>\n",
       "      <td>0.000</td>\n",
       "      <td>0.000</td>\n",
       "      <td>...</td>\n",
       "      <td>0.000</td>\n",
       "      <td>0.000</td>\n",
       "      <td>0.000</td>\n",
       "      <td>0.000</td>\n",
       "      <td>0.000</td>\n",
       "      <td>0.000</td>\n",
       "      <td>-3397658.500</td>\n",
       "      <td>0.000</td>\n",
       "      <td>0.000</td>\n",
       "      <td>0.000</td>\n",
       "    </tr>\n",
       "    <tr>\n",
       "      <th>25%</th>\n",
       "      <td>1234000000007142.500</td>\n",
       "      <td>24824.500</td>\n",
       "      <td>33.000</td>\n",
       "      <td>0.861</td>\n",
       "      <td>0.000</td>\n",
       "      <td>0.000</td>\n",
       "      <td>0.000</td>\n",
       "      <td>0.000</td>\n",
       "      <td>0.000</td>\n",
       "      <td>0.000</td>\n",
       "      <td>...</td>\n",
       "      <td>0.000</td>\n",
       "      <td>0.000</td>\n",
       "      <td>0.000</td>\n",
       "      <td>0.000</td>\n",
       "      <td>0.000</td>\n",
       "      <td>0.000</td>\n",
       "      <td>16863.375</td>\n",
       "      <td>3.259</td>\n",
       "      <td>1.291</td>\n",
       "      <td>14.439</td>\n",
       "    </tr>\n",
       "    <tr>\n",
       "      <th>50%</th>\n",
       "      <td>1234000000014085.000</td>\n",
       "      <td>42347.000</td>\n",
       "      <td>39.000</td>\n",
       "      <td>30000.000</td>\n",
       "      <td>0.000</td>\n",
       "      <td>0.000</td>\n",
       "      <td>0.000</td>\n",
       "      <td>0.000</td>\n",
       "      <td>0.000</td>\n",
       "      <td>0.000</td>\n",
       "      <td>...</td>\n",
       "      <td>0.000</td>\n",
       "      <td>0.000</td>\n",
       "      <td>0.000</td>\n",
       "      <td>0.000</td>\n",
       "      <td>0.000</td>\n",
       "      <td>0.000</td>\n",
       "      <td>32762.750</td>\n",
       "      <td>6.190</td>\n",
       "      <td>2.643</td>\n",
       "      <td>33.810</td>\n",
       "    </tr>\n",
       "    <tr>\n",
       "      <th>75%</th>\n",
       "      <td>1234000000021072.000</td>\n",
       "      <td>77373.500</td>\n",
       "      <td>48.000</td>\n",
       "      <td>81000.000</td>\n",
       "      <td>0.000</td>\n",
       "      <td>0.000</td>\n",
       "      <td>0.000</td>\n",
       "      <td>0.000</td>\n",
       "      <td>0.000</td>\n",
       "      <td>0.000</td>\n",
       "      <td>...</td>\n",
       "      <td>0.000</td>\n",
       "      <td>0.000</td>\n",
       "      <td>0.000</td>\n",
       "      <td>0.000</td>\n",
       "      <td>0.000</td>\n",
       "      <td>0.000</td>\n",
       "      <td>63885.000</td>\n",
       "      <td>12.568</td>\n",
       "      <td>5.995</td>\n",
       "      <td>99.064</td>\n",
       "    </tr>\n",
       "    <tr>\n",
       "      <th>max</th>\n",
       "      <td>1234000000028171.000</td>\n",
       "      <td>3859715.000</td>\n",
       "      <td>117.000</td>\n",
       "      <td>1000000.000</td>\n",
       "      <td>3700.000</td>\n",
       "      <td>100.000</td>\n",
       "      <td>400.000</td>\n",
       "      <td>84900.000</td>\n",
       "      <td>12300.000</td>\n",
       "      <td>100.000</td>\n",
       "      <td>...</td>\n",
       "      <td>7750.000</td>\n",
       "      <td>10400.000</td>\n",
       "      <td>1217400.000</td>\n",
       "      <td>28450.000</td>\n",
       "      <td>245000.000</td>\n",
       "      <td>77350.000</td>\n",
       "      <td>3839065.000</td>\n",
       "      <td>3191.140</td>\n",
       "      <td>3191.140</td>\n",
       "      <td>10774.700</td>\n",
       "    </tr>\n",
       "  </tbody>\n",
       "</table>\n",
       "<p>8 rows × 351 columns</p>\n",
       "</div>"
      ],
      "text/plain": [
       "                   card_no      income       age  diff_credit_limit  AEORFLOT  \\\n",
       "count            11875.000   11875.000 11875.000          11875.000 11875.000   \n",
       "mean  1234000000014100.500   70396.859    41.080          60004.235     0.417   \n",
       "std               8130.274  112634.628    10.433          94299.221    34.692   \n",
       "min   1234000000000004.000       0.000     0.000              0.000     0.000   \n",
       "25%   1234000000007142.500   24824.500    33.000              0.861     0.000   \n",
       "50%   1234000000014085.000   42347.000    39.000          30000.000     0.000   \n",
       "75%   1234000000021072.000   77373.500    48.000          81000.000     0.000   \n",
       "max   1234000000028171.000 3859715.000   117.000        1000000.000  3700.000   \n",
       "\n",
       "       AEROMEXICO  AIR CANADA  AIR CHINA  AIR FRANCE  AIR NEW ZEALAND  \\\n",
       "count   11875.000   11875.000  11875.000   11875.000        11875.000   \n",
       "mean        0.008       0.051      7.676       2.072            0.008   \n",
       "std         0.918       4.104    780.567     153.717            0.918   \n",
       "min         0.000       0.000      0.000       0.000            0.000   \n",
       "25%         0.000       0.000      0.000       0.000            0.000   \n",
       "50%         0.000       0.000      0.000       0.000            0.000   \n",
       "75%         0.000       0.000      0.000       0.000            0.000   \n",
       "max       100.000     400.000  84900.000   12300.000          100.000   \n",
       "\n",
       "             ...         Watch, Clock, and Jewelry Repair  Welding Repair  \\\n",
       "count        ...                                11875.000       11875.000   \n",
       "mean         ...                                    3.853           1.423   \n",
       "std          ...                                  122.281         104.409   \n",
       "min          ...                                    0.000           0.000   \n",
       "25%          ...                                    0.000           0.000   \n",
       "50%          ...                                    0.000           0.000   \n",
       "75%          ...                                    0.000           0.000   \n",
       "max          ...                                 7750.000       10400.000   \n",
       "\n",
       "       Wholesale Clubs  Wig and Toupee Stores  \\\n",
       "count        11875.000              11875.000   \n",
       "mean          2646.939                  3.739   \n",
       "std          31188.300                278.282   \n",
       "min              0.000                  0.000   \n",
       "25%              0.000                  0.000   \n",
       "50%              0.000                  0.000   \n",
       "75%              0.000                  0.000   \n",
       "max        1217400.000              28450.000   \n",
       "\n",
       "       Women’s Accessory and Specialty Shops  Women’s Ready-to-Wear Stores  \\\n",
       "count                              11875.000                     11875.000   \n",
       "mean                                 492.863                       358.295   \n",
       "std                                 4315.542                      2200.293   \n",
       "min                                    0.000                         0.000   \n",
       "25%                                    0.000                         0.000   \n",
       "50%                                    0.000                         0.000   \n",
       "75%                                    0.000                         0.000   \n",
       "max                               245000.000                     77350.000   \n",
       "\n",
       "       diff_income_amount  income_mean_ratio  income_max_ratio  \\\n",
       "count           11875.000          11875.000         11875.000   \n",
       "mean            56339.600             24.408            17.518   \n",
       "std            119708.103            110.595           103.893   \n",
       "min          -3397658.500              0.000             0.000   \n",
       "25%             16863.375              3.259             1.291   \n",
       "50%             32762.750              6.190             2.643   \n",
       "75%             63885.000             12.568             5.995   \n",
       "max           3839065.000           3191.140          3191.140   \n",
       "\n",
       "       income_min_ratio  \n",
       "count         11875.000  \n",
       "mean            130.746  \n",
       "std             375.648  \n",
       "min               0.000  \n",
       "25%              14.439  \n",
       "50%              33.810  \n",
       "75%              99.064  \n",
       "max           10774.700  \n",
       "\n",
       "[8 rows x 351 columns]"
      ]
     },
     "execution_count": 42,
     "metadata": {},
     "output_type": "execute_result"
    }
   ],
   "source": [
    "final_card_details = diff_card_details.copy()\n",
    "final_card_details['income_mean_ratio'] = final_card_details.income / final_card_details.mean_amount\n",
    "final_card_details['income_max_ratio'] = final_card_details.income / final_card_details.max_amount\n",
    "final_card_details['income_min_ratio'] = final_card_details.income / final_card_details.min_amount\n",
    "\n",
    "final_card_details = final_card_details.drop(['bill_cycle'\n",
    "                                              , 'credit_limit'\n",
    "                                              , 'prev_credit_limit'\n",
    "                                              , 'credit_available']\n",
    "                                             , axis = 1)\n",
    "final_card_details = final_card_details.fillna(0)\n",
    "final_card_details = final_card_details.drop(['mean_amount', 'min_amount', 'max_amount', 'zip'], axis = 1)\n",
    "final_card_details.describe()"
   ]
  },
  {
   "cell_type": "markdown",
   "metadata": {},
   "source": [
    "## Splitting up the training Data"
   ]
  },
  {
   "cell_type": "code",
   "execution_count": 43,
   "metadata": {
    "ExecuteTime": {
     "end_time": "2017-07-29T13:39:32.282244Z",
     "start_time": "2017-07-29T13:39:32.242243Z"
    }
   },
   "outputs": [
    {
     "data": {
      "text/html": [
       "<div>\n",
       "<style>\n",
       "    .dataframe thead tr:only-child th {\n",
       "        text-align: right;\n",
       "    }\n",
       "\n",
       "    .dataframe thead th {\n",
       "        text-align: left;\n",
       "    }\n",
       "\n",
       "    .dataframe tbody tr th {\n",
       "        vertical-align: top;\n",
       "    }\n",
       "</style>\n",
       "<table border=\"1\" class=\"dataframe\">\n",
       "  <thead>\n",
       "    <tr style=\"text-align: right;\">\n",
       "      <th></th>\n",
       "      <th>card_no</th>\n",
       "      <th>npl_flag</th>\n",
       "      <th>income</th>\n",
       "      <th>age</th>\n",
       "      <th>diff_credit_limit</th>\n",
       "      <th>AEORFLOT</th>\n",
       "      <th>AEROMEXICO</th>\n",
       "      <th>AIR CANADA</th>\n",
       "      <th>AIR CHINA</th>\n",
       "      <th>AIR FRANCE</th>\n",
       "      <th>...</th>\n",
       "      <th>Watch, Clock, and Jewelry Repair</th>\n",
       "      <th>Welding Repair</th>\n",
       "      <th>Wholesale Clubs</th>\n",
       "      <th>Wig and Toupee Stores</th>\n",
       "      <th>Women’s Accessory and Specialty Shops</th>\n",
       "      <th>Women’s Ready-to-Wear Stores</th>\n",
       "      <th>diff_income_amount</th>\n",
       "      <th>income_mean_ratio</th>\n",
       "      <th>income_max_ratio</th>\n",
       "      <th>income_min_ratio</th>\n",
       "    </tr>\n",
       "  </thead>\n",
       "  <tbody>\n",
       "    <tr>\n",
       "      <th>4629</th>\n",
       "      <td>1234000000017679</td>\n",
       "      <td>0</td>\n",
       "      <td>35144</td>\n",
       "      <td>33.000</td>\n",
       "      <td>61000.000</td>\n",
       "      <td>0.000</td>\n",
       "      <td>0.000</td>\n",
       "      <td>0.000</td>\n",
       "      <td>0.000</td>\n",
       "      <td>0.000</td>\n",
       "      <td>...</td>\n",
       "      <td>0.000</td>\n",
       "      <td>0.000</td>\n",
       "      <td>0.000</td>\n",
       "      <td>0.000</td>\n",
       "      <td>0.000</td>\n",
       "      <td>0.000</td>\n",
       "      <td>26575.250</td>\n",
       "      <td>4.101</td>\n",
       "      <td>0.666</td>\n",
       "      <td>78.098</td>\n",
       "    </tr>\n",
       "  </tbody>\n",
       "</table>\n",
       "<p>1 rows × 352 columns</p>\n",
       "</div>"
      ],
      "text/plain": [
       "               card_no  npl_flag  income    age  diff_credit_limit  AEORFLOT  \\\n",
       "4629  1234000000017679         0   35144 33.000          61000.000     0.000   \n",
       "\n",
       "      AEROMEXICO  AIR CANADA  AIR CHINA  AIR FRANCE        ...         \\\n",
       "4629       0.000       0.000      0.000       0.000        ...          \n",
       "\n",
       "      Watch, Clock, and Jewelry Repair  Welding Repair  Wholesale Clubs  \\\n",
       "4629                             0.000           0.000            0.000   \n",
       "\n",
       "      Wig and Toupee Stores  Women’s Accessory and Specialty Shops  \\\n",
       "4629                  0.000                                  0.000   \n",
       "\n",
       "      Women’s Ready-to-Wear Stores  diff_income_amount  income_mean_ratio  \\\n",
       "4629                         0.000           26575.250              4.101   \n",
       "\n",
       "      income_max_ratio  income_min_ratio  \n",
       "4629             0.666            78.098  \n",
       "\n",
       "[1 rows x 352 columns]"
      ]
     },
     "execution_count": 43,
     "metadata": {},
     "output_type": "execute_result"
    }
   ],
   "source": [
    "data_train_with_details = data_train.join(final_card_details.set_index('card_no'), on = 'card_no', how = 'left')\n",
    "data_train_with_details.sample()"
   ]
  },
  {
   "cell_type": "code",
   "execution_count": 32,
   "metadata": {
    "ExecuteTime": {
     "end_time": "2017-07-29T13:36:36.533862Z",
     "start_time": "2017-07-29T13:36:36.505865Z"
    },
    "collapsed": true
   },
   "outputs": [],
   "source": [
    "from sklearn.model_selection import train_test_split\n",
    "\n",
    "X_all = data_train_with_details.drop(['card_no', 'npl_flag'], axis=1)\n",
    "y_all = data_train_with_details['npl_flag']\n",
    "\n",
    "num_test = 0.20\n",
    "X_train, X_test, y_train, y_test = train_test_split(X_all, y_all, test_size=num_test, random_state=23)"
   ]
  },
  {
   "cell_type": "code",
   "execution_count": 33,
   "metadata": {
    "ExecuteTime": {
     "end_time": "2017-07-29T13:36:40.123152Z",
     "start_time": "2017-07-29T13:36:40.118651Z"
    }
   },
   "outputs": [
    {
     "data": {
      "text/plain": [
       "(7600, 354)"
      ]
     },
     "execution_count": 33,
     "metadata": {},
     "output_type": "execute_result"
    }
   ],
   "source": [
    "X_train.shape"
   ]
  },
  {
   "cell_type": "code",
   "execution_count": null,
   "metadata": {
    "ExecuteTime": {
     "end_time": "2017-07-29T12:10:34.178889Z",
     "start_time": "2017-07-29T12:09:54.879Z"
    },
    "collapsed": true
   },
   "outputs": [],
   "source": [
    "X_train.describe()"
   ]
  },
  {
   "cell_type": "markdown",
   "metadata": {
    "ExecuteTime": {
     "end_time": "2017-07-29T00:17:31.410653Z",
     "start_time": "2017-07-29T00:17:31.407654Z"
    }
   },
   "source": [
    "## Fitting and Tuning an Classifier"
   ]
  },
  {
   "cell_type": "code",
   "execution_count": 37,
   "metadata": {
    "ExecuteTime": {
     "end_time": "2017-07-29T13:38:14.432932Z",
     "start_time": "2017-07-29T13:37:50.816140Z"
    },
    "scrolled": false
   },
   "outputs": [
    {
     "data": {
      "text/plain": [
       "RandomForestClassifier(bootstrap=True, class_weight=None, criterion='gini',\n",
       "            max_depth=None, max_features='auto', max_leaf_nodes=None,\n",
       "            min_impurity_split=1e-07, min_samples_leaf=5,\n",
       "            min_samples_split=2, min_weight_fraction_leaf=0.0,\n",
       "            n_estimators=500, n_jobs=1, oob_score=False, random_state=None,\n",
       "            verbose=0, warm_start=False)"
      ]
     },
     "execution_count": 37,
     "metadata": {},
     "output_type": "execute_result"
    }
   ],
   "source": [
    "from sklearn.ensemble import RandomForestClassifier\n",
    "from sklearn.metrics import make_scorer, accuracy_score\n",
    "from sklearn.model_selection import GridSearchCV\n",
    "\n",
    "# Choose the type of classifier. \n",
    "random_forest = RandomForestClassifier()\n",
    "\n",
    "# Choose some parameter combinations to try\n",
    "parameters = {'n_estimators': [500], \n",
    "#               'max_features': ['log2', 'sqrt', 'auto'], \n",
    "#               'criterion': ['entropy', 'gini'],\n",
    "#               'max_depth': [2, 3, 5, 10], \n",
    "#               'min_samples_split': [2, 3, 5],\n",
    "              'min_samples_leaf': [5]\n",
    "             }\n",
    "\n",
    "# Type of scoring used to compare parameter combinations\n",
    "acc_scorer = make_scorer(accuracy_score)\n",
    "\n",
    "# Run the grid search\n",
    "grid_obj = GridSearchCV(random_forest, parameters, scoring=acc_scorer)\n",
    "grid_obj = grid_obj.fit(X_train, y_train)\n",
    "\n",
    "# Set the clf to the best combination of parameters\n",
    "random_forest = grid_obj.best_estimator_\n",
    "\n",
    "# Fit the best algorithm to the data. \n",
    "random_forest.fit(X_train, y_train)"
   ]
  },
  {
   "cell_type": "code",
   "execution_count": 38,
   "metadata": {
    "ExecuteTime": {
     "end_time": "2017-07-29T13:38:20.044213Z",
     "start_time": "2017-07-29T13:38:19.895712Z"
    }
   },
   "outputs": [
    {
     "name": "stdout",
     "output_type": "stream",
     "text": [
      "0.785789473684\n"
     ]
    }
   ],
   "source": [
    "predictions = random_forest.predict(X_test)\n",
    "print(accuracy_score(y_test, predictions))"
   ]
  },
  {
   "cell_type": "markdown",
   "metadata": {
    "ExecuteTime": {
     "end_time": "2017-07-29T00:15:16.938649Z",
     "start_time": "2017-07-29T00:15:16.935648Z"
    }
   },
   "source": [
    "## Validate with KFold"
   ]
  },
  {
   "cell_type": "code",
   "execution_count": 39,
   "metadata": {
    "ExecuteTime": {
     "end_time": "2017-07-29T13:38:31.896376Z",
     "start_time": "2017-07-29T13:38:24.542719Z"
    }
   },
   "outputs": [
    {
     "name": "stdout",
     "output_type": "stream",
     "text": [
      "Fold 1 accuracy: 0.7\n",
      "Fold 2 accuracy: 0.797752808988764\n",
      "Fold 3 accuracy: 0.8651685393258427\n",
      "Fold 4 accuracy: 0.7640449438202247\n",
      "Fold 5 accuracy: 0.7528089887640449\n",
      "Fold 6 accuracy: 0.7528089887640449\n",
      "Fold 7 accuracy: 0.6966292134831461\n",
      "Fold 8 accuracy: 0.8426966292134831\n",
      "Fold 9 accuracy: 0.7640449438202247\n",
      "Fold 10 accuracy: 0.8089887640449438\n",
      "Mean Accuracy: 0.7744943820224719\n"
     ]
    }
   ],
   "source": [
    "from sklearn.cross_validation import KFold\n",
    "\n",
    "clf = random_forest\n",
    "\n",
    "def run_kfold(clf):\n",
    "    kf = KFold(891, n_folds=10)\n",
    "    outcomes = []\n",
    "    fold = 0\n",
    "    for train_index, test_index in kf:\n",
    "        fold += 1\n",
    "        X_train, X_test = X_all.values[train_index], X_all.values[test_index]\n",
    "        y_train, y_test = y_all.values[train_index], y_all.values[test_index]\n",
    "        clf.fit(X_train, y_train)\n",
    "        predictions = clf.predict(X_test)\n",
    "        accuracy = accuracy_score(y_test, predictions)\n",
    "        outcomes.append(accuracy)\n",
    "        print(\"Fold {0} accuracy: {1}\".format(fold, accuracy))     \n",
    "    mean_outcome = np.mean(outcomes)\n",
    "    print(\"Mean Accuracy: {0}\".format(mean_outcome)) \n",
    "\n",
    "run_kfold(clf)"
   ]
  },
  {
   "cell_type": "markdown",
   "metadata": {},
   "source": [
    "## Model Version\n",
    "### Save model to file"
   ]
  },
  {
   "cell_type": "code",
   "execution_count": 28,
   "metadata": {
    "ExecuteTime": {
     "end_time": "2017-07-29T13:33:57.897870Z",
     "start_time": "2017-07-29T13:33:45.867067Z"
    },
    "scrolled": true
   },
   "outputs": [
    {
     "name": "stdout",
     "output_type": "stream",
     "text": [
      "version name: 774494\n"
     ]
    },
    {
     "data": {
      "text/plain": [
       "['model_774494.pkl']"
      ]
     },
     "execution_count": 28,
     "metadata": {},
     "output_type": "execute_result"
    }
   ],
   "source": [
    "from sklearn.externals import joblib\n",
    "\n",
    "version_name = input('version name: ')\n",
    "\n",
    "joblib.dump(clf, 'model_{}.pkl'.format(version_name)) "
   ]
  },
  {
   "cell_type": "markdown",
   "metadata": {},
   "source": [
    "### Load model from file"
   ]
  },
  {
   "cell_type": "code",
   "execution_count": 40,
   "metadata": {
    "ExecuteTime": {
     "end_time": "2017-07-29T13:39:08.135726Z",
     "start_time": "2017-07-29T13:39:05.021230Z"
    }
   },
   "outputs": [
    {
     "name": "stdout",
     "output_type": "stream",
     "text": [
      "version name: 779013\n"
     ]
    }
   ],
   "source": [
    "from sklearn.externals import joblib\n",
    "\n",
    "version_name = input('version name: ')\n",
    "\n",
    "clf = joblib.load('model_{}.pkl'.format(version_name)) "
   ]
  },
  {
   "cell_type": "markdown",
   "metadata": {},
   "source": [
    "## Predict the Actual Test Data"
   ]
  },
  {
   "cell_type": "code",
   "execution_count": 45,
   "metadata": {
    "ExecuteTime": {
     "end_time": "2017-07-29T13:40:08.180743Z",
     "start_time": "2017-07-29T13:40:07.975742Z"
    }
   },
   "outputs": [
    {
     "data": {
      "text/html": [
       "<div>\n",
       "<style>\n",
       "    .dataframe thead tr:only-child th {\n",
       "        text-align: right;\n",
       "    }\n",
       "\n",
       "    .dataframe thead th {\n",
       "        text-align: left;\n",
       "    }\n",
       "\n",
       "    .dataframe tbody tr th {\n",
       "        vertical-align: top;\n",
       "    }\n",
       "</style>\n",
       "<table border=\"1\" class=\"dataframe\">\n",
       "  <thead>\n",
       "    <tr style=\"text-align: right;\">\n",
       "      <th></th>\n",
       "      <th>npl_flag</th>\n",
       "    </tr>\n",
       "  </thead>\n",
       "  <tbody>\n",
       "    <tr>\n",
       "      <th>0</th>\n",
       "      <td>0</td>\n",
       "    </tr>\n",
       "    <tr>\n",
       "      <th>1</th>\n",
       "      <td>0</td>\n",
       "    </tr>\n",
       "    <tr>\n",
       "      <th>2</th>\n",
       "      <td>0</td>\n",
       "    </tr>\n",
       "    <tr>\n",
       "      <th>3</th>\n",
       "      <td>0</td>\n",
       "    </tr>\n",
       "    <tr>\n",
       "      <th>4</th>\n",
       "      <td>0</td>\n",
       "    </tr>\n",
       "    <tr>\n",
       "      <th>5</th>\n",
       "      <td>0</td>\n",
       "    </tr>\n",
       "    <tr>\n",
       "      <th>6</th>\n",
       "      <td>0</td>\n",
       "    </tr>\n",
       "    <tr>\n",
       "      <th>7</th>\n",
       "      <td>0</td>\n",
       "    </tr>\n",
       "    <tr>\n",
       "      <th>8</th>\n",
       "      <td>0</td>\n",
       "    </tr>\n",
       "    <tr>\n",
       "      <th>9</th>\n",
       "      <td>0</td>\n",
       "    </tr>\n",
       "  </tbody>\n",
       "</table>\n",
       "</div>"
      ],
      "text/plain": [
       "   npl_flag\n",
       "0         0\n",
       "1         0\n",
       "2         0\n",
       "3         0\n",
       "4         0\n",
       "5         0\n",
       "6         0\n",
       "7         0\n",
       "8         0\n",
       "9         0"
      ]
     },
     "execution_count": 45,
     "metadata": {},
     "output_type": "execute_result"
    }
   ],
   "source": [
    "test = data_test.join(final_card_details.set_index('card_no'), on = 'card_no', how = 'left')\n",
    "predictions = clf.predict(test.drop('card_no', axis = 1))\n",
    "\n",
    "output = pd.DataFrame({'npl_flag': predictions })\n",
    "output.to_csv('1.txt', index = False, header = None)\n",
    "output.head(10)"
   ]
  }
 ],
 "metadata": {
  "kernelspec": {
   "display_name": "Python 3",
   "language": "python",
   "name": "python3"
  },
  "language_info": {
   "codemirror_mode": {
    "name": "ipython",
    "version": 3
   },
   "file_extension": ".py",
   "mimetype": "text/x-python",
   "name": "python",
   "nbconvert_exporter": "python",
   "pygments_lexer": "ipython3",
   "version": "3.6.2"
  },
  "toc": {
   "colors": {
    "hover_highlight": "#DAA520",
    "navigate_num": "#000000",
    "navigate_text": "#333333",
    "running_highlight": "#FF0000",
    "selected_highlight": "#FFD700",
    "sidebar_border": "#EEEEEE",
    "wrapper_background": "#FFFFFF"
   },
   "moveMenuLeft": true,
   "nav_menu": {
    "height": "12px",
    "width": "252px"
   },
   "navigate_menu": true,
   "number_sections": true,
   "sideBar": true,
   "threshold": 4,
   "toc_cell": false,
   "toc_section_display": "block",
   "toc_window_display": false,
   "widenNotebook": false
  }
 },
 "nbformat": 4,
 "nbformat_minor": 2
}
