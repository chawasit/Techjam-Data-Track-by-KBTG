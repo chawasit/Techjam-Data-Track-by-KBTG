{
 "cells": [
  {
   "cell_type": "markdown",
   "metadata": {
    "ExecuteTime": {
     "end_time": "2017-07-28T22:23:30.818775Z",
     "start_time": "2017-07-28T22:23:30.811276Z"
    }
   },
   "source": [
    "# 1 Non-Performing Loan Flag Prediction from Credit Card Information\n",
    "\n",
    "Each year, non-performing loans cost the economy millions of baht. Predicting whether a\n",
    "customer will default on their credit card loans is a non-trivial task, which if solved, can be\n",
    "highly beneficial to both KBank and KBank’s customers. If default could be predicted in\n",
    "advance, loans could be restructured, this would save customers from bankruptcy, and prevent\n",
    "KBank from losing revenue.\n",
    "\n",
    "The task is to use the data given to predict if customers defaulted on their credit card\n",
    "loans in a certain period of time."
   ]
  },
  {
   "cell_type": "code",
   "execution_count": 1,
   "metadata": {
    "ExecuteTime": {
     "end_time": "2017-07-29T00:19:28.499932Z",
     "start_time": "2017-07-29T00:19:27.943432Z"
    },
    "collapsed": true
   },
   "outputs": [],
   "source": [
    "import pandas as pd\n",
    "import numpy as np\n",
    "import seaborn as sns\n",
    "from matplotlib import pyplot as plt\n",
    "%matplotlib inline\n",
    "\n",
    "# Beautiful format for float type\n",
    "pd.set_option('display.float_format', lambda x: '%.3f' % x)"
   ]
  },
  {
   "cell_type": "markdown",
   "metadata": {},
   "source": [
    "## CSV to DataFrame"
   ]
  },
  {
   "cell_type": "code",
   "execution_count": 79,
   "metadata": {
    "ExecuteTime": {
     "end_time": "2017-07-29T00:43:57.157054Z",
     "start_time": "2017-07-29T00:43:56.750055Z"
    },
    "collapsed": true
   },
   "outputs": [],
   "source": [
    "card_details = pd.read_csv('tj_01_creditcard_card.csv')\n",
    "customer_details = pd.read_csv('tj_01_creditcard_customer.csv')\n",
    "transactions = pd.read_csv('tj_01_creditcard_transaction.csv')\n",
    "\n",
    "mcc_codes = pd.read_csv('mcc_codes.csv')\n",
    "\n",
    "data_train = pd.read_csv('tj_01_training.csv', header = None, names = ['card_no', 'npl_flag'])\n",
    "data_test = pd.read_csv('tj_01_test.csv', header = None, names = ['card_no'])"
   ]
  },
  {
   "cell_type": "code",
   "execution_count": 80,
   "metadata": {
    "ExecuteTime": {
     "end_time": "2017-07-29T00:43:58.020924Z",
     "start_time": "2017-07-29T00:43:58.013926Z"
    }
   },
   "outputs": [
    {
     "data": {
      "text/plain": [
       "False"
      ]
     },
     "execution_count": 80,
     "metadata": {},
     "output_type": "execute_result"
    }
   ],
   "source": [
    "card_details = card_details.fillna(0)\n",
    "card_details.isnull().values.any()"
   ]
  },
  {
   "cell_type": "code",
   "execution_count": 81,
   "metadata": {
    "ExecuteTime": {
     "end_time": "2017-07-29T00:43:58.900057Z",
     "start_time": "2017-07-29T00:43:58.894057Z"
    }
   },
   "outputs": [
    {
     "data": {
      "text/plain": [
       "False"
      ]
     },
     "execution_count": 81,
     "metadata": {},
     "output_type": "execute_result"
    }
   ],
   "source": [
    "customer_details = customer_details.fillna(0)\n",
    "customer_details.isnull().values.any()"
   ]
  },
  {
   "cell_type": "code",
   "execution_count": 82,
   "metadata": {
    "ExecuteTime": {
     "end_time": "2017-07-29T00:43:59.751055Z",
     "start_time": "2017-07-29T00:43:59.700557Z"
    }
   },
   "outputs": [
    {
     "data": {
      "text/plain": [
       "False"
      ]
     },
     "execution_count": 82,
     "metadata": {},
     "output_type": "execute_result"
    }
   ],
   "source": [
    "transactions = transactions.fillna(0)\n",
    "transactions.isnull().values.any()"
   ]
  },
  {
   "cell_type": "code",
   "execution_count": 83,
   "metadata": {
    "ExecuteTime": {
     "end_time": "2017-07-29T00:44:00.468426Z",
     "start_time": "2017-07-29T00:44:00.462924Z"
    }
   },
   "outputs": [
    {
     "data": {
      "text/plain": [
       "False"
      ]
     },
     "execution_count": 83,
     "metadata": {},
     "output_type": "execute_result"
    }
   ],
   "source": [
    "mcc_codes = mcc_codes.fillna(\"0\")\n",
    "mcc_codes.isnull().values.any()"
   ]
  },
  {
   "cell_type": "markdown",
   "metadata": {},
   "source": [
    "## Merge Related DataFrame"
   ]
  },
  {
   "cell_type": "code",
   "execution_count": 84,
   "metadata": {
    "ExecuteTime": {
     "end_time": "2017-07-29T00:44:04.009562Z",
     "start_time": "2017-07-29T00:44:03.992559Z"
    }
   },
   "outputs": [
    {
     "data": {
      "text/html": [
       "<div>\n",
       "<style>\n",
       "    .dataframe thead tr:only-child th {\n",
       "        text-align: right;\n",
       "    }\n",
       "\n",
       "    .dataframe thead th {\n",
       "        text-align: left;\n",
       "    }\n",
       "\n",
       "    .dataframe tbody tr th {\n",
       "        vertical-align: top;\n",
       "    }\n",
       "</style>\n",
       "<table border=\"1\" class=\"dataframe\">\n",
       "  <thead>\n",
       "    <tr style=\"text-align: right;\">\n",
       "      <th></th>\n",
       "      <th>card_no</th>\n",
       "      <th>bill_cyc</th>\n",
       "      <th>pos_dt_x</th>\n",
       "      <th>cst_id</th>\n",
       "      <th>open_dt</th>\n",
       "      <th>exp_dt</th>\n",
       "      <th>cr_lmt_amt</th>\n",
       "      <th>prev_cr_lmt_amt</th>\n",
       "      <th>incm_amt</th>\n",
       "      <th>age</th>\n",
       "      <th>main_zip_cd</th>\n",
       "      <th>cr_line_amt</th>\n",
       "      <th>pos_dt_y</th>\n",
       "    </tr>\n",
       "  </thead>\n",
       "  <tbody>\n",
       "    <tr>\n",
       "      <th>8468</th>\n",
       "      <td>1234000000019638</td>\n",
       "      <td>5</td>\n",
       "      <td>2017-02-23 00:00:00</td>\n",
       "      <td>1000003333</td>\n",
       "      <td>2009-06-15 00:00:00</td>\n",
       "      <td>619</td>\n",
       "      <td>165000.000</td>\n",
       "      <td>265000.000</td>\n",
       "      <td>66190</td>\n",
       "      <td>51.000</td>\n",
       "      <td>10160</td>\n",
       "      <td>165000.000</td>\n",
       "      <td>2017-02-23 00:00:00</td>\n",
       "    </tr>\n",
       "  </tbody>\n",
       "</table>\n",
       "</div>"
      ],
      "text/plain": [
       "               card_no  bill_cyc             pos_dt_x      cst_id  \\\n",
       "8468  1234000000019638         5  2017-02-23 00:00:00  1000003333   \n",
       "\n",
       "                  open_dt  exp_dt  cr_lmt_amt  prev_cr_lmt_amt  incm_amt  \\\n",
       "8468  2009-06-15 00:00:00     619  165000.000       265000.000     66190   \n",
       "\n",
       "        age  main_zip_cd  cr_line_amt             pos_dt_y  \n",
       "8468 51.000        10160   165000.000  2017-02-23 00:00:00  "
      ]
     },
     "execution_count": 84,
     "metadata": {},
     "output_type": "execute_result"
    }
   ],
   "source": [
    "card_details = card_details.merge(customer_details, left_on = 'cst_id', right_on = 'cst_id', how = \"left\")\n",
    "card_details.sample()"
   ]
  },
  {
   "cell_type": "code",
   "execution_count": 85,
   "metadata": {
    "ExecuteTime": {
     "end_time": "2017-07-29T00:44:05.639057Z",
     "start_time": "2017-07-29T00:44:05.447556Z"
    }
   },
   "outputs": [
    {
     "data": {
      "text/html": [
       "<div>\n",
       "<style>\n",
       "    .dataframe thead tr:only-child th {\n",
       "        text-align: right;\n",
       "    }\n",
       "\n",
       "    .dataframe thead th {\n",
       "        text-align: left;\n",
       "    }\n",
       "\n",
       "    .dataframe tbody tr th {\n",
       "        vertical-align: top;\n",
       "    }\n",
       "</style>\n",
       "<table border=\"1\" class=\"dataframe\">\n",
       "  <thead>\n",
       "    <tr style=\"text-align: right;\">\n",
       "      <th></th>\n",
       "      <th>card_no</th>\n",
       "      <th>txn_date</th>\n",
       "      <th>txn_hour</th>\n",
       "      <th>txn_amount</th>\n",
       "      <th>mer_cat_code</th>\n",
       "      <th>mer_id</th>\n",
       "      <th>mcc</th>\n",
       "      <th>edited_description</th>\n",
       "      <th>combined_description</th>\n",
       "      <th>usda_description</th>\n",
       "      <th>irs_description</th>\n",
       "      <th>irs_reportable</th>\n",
       "    </tr>\n",
       "  </thead>\n",
       "  <tbody>\n",
       "    <tr>\n",
       "      <th>118761</th>\n",
       "      <td>1234000000004782</td>\n",
       "      <td>2016-02-04 00:00:00</td>\n",
       "      <td>19</td>\n",
       "      <td>1400.000</td>\n",
       "      <td>5631</td>\n",
       "      <td>0</td>\n",
       "      <td>5631.000</td>\n",
       "      <td>Women’s Accessory and Specialty Shops</td>\n",
       "      <td>Women’s Accessory and Specialty Shops</td>\n",
       "      <td>Women’s Accessory and Specialty Shops</td>\n",
       "      <td>Women’s Accessory and Specialty Shops</td>\n",
       "      <td>No1.6041-3(c)</td>\n",
       "    </tr>\n",
       "    <tr>\n",
       "      <th>50558</th>\n",
       "      <td>1234000000012213</td>\n",
       "      <td>2016-04-15 00:00:00</td>\n",
       "      <td>18</td>\n",
       "      <td>550.000</td>\n",
       "      <td>5311</td>\n",
       "      <td>0</td>\n",
       "      <td>5311.000</td>\n",
       "      <td>Department Stores</td>\n",
       "      <td>Department Stores</td>\n",
       "      <td>Department Stores</td>\n",
       "      <td>Department Stores</td>\n",
       "      <td>No1.6041-3(c)</td>\n",
       "    </tr>\n",
       "    <tr>\n",
       "      <th>574972</th>\n",
       "      <td>1234000000013126</td>\n",
       "      <td>2016-02-11 00:00:00</td>\n",
       "      <td>13</td>\n",
       "      <td>2000.000</td>\n",
       "      <td>6011</td>\n",
       "      <td>28725</td>\n",
       "      <td>6011.000</td>\n",
       "      <td>Financial Institutions – Manual Cash Disbursem...</td>\n",
       "      <td>Financial Institutions – Manual Cash Disbursem...</td>\n",
       "      <td>Financial Institutions – Manual Cash Disbursem...</td>\n",
       "      <td>Automated Cash Disburse</td>\n",
       "      <td>No1.6041-3(c)</td>\n",
       "    </tr>\n",
       "  </tbody>\n",
       "</table>\n",
       "</div>"
      ],
      "text/plain": [
       "                 card_no             txn_date  txn_hour  txn_amount  \\\n",
       "118761  1234000000004782  2016-02-04 00:00:00        19    1400.000   \n",
       "50558   1234000000012213  2016-04-15 00:00:00        18     550.000   \n",
       "574972  1234000000013126  2016-02-11 00:00:00        13    2000.000   \n",
       "\n",
       "        mer_cat_code  mer_id      mcc  \\\n",
       "118761          5631       0 5631.000   \n",
       "50558           5311       0 5311.000   \n",
       "574972          6011   28725 6011.000   \n",
       "\n",
       "                                       edited_description  \\\n",
       "118761              Women’s Accessory and Specialty Shops   \n",
       "50558                                   Department Stores   \n",
       "574972  Financial Institutions – Manual Cash Disbursem...   \n",
       "\n",
       "                                     combined_description  \\\n",
       "118761              Women’s Accessory and Specialty Shops   \n",
       "50558                                   Department Stores   \n",
       "574972  Financial Institutions – Manual Cash Disbursem...   \n",
       "\n",
       "                                         usda_description  \\\n",
       "118761              Women’s Accessory and Specialty Shops   \n",
       "50558                                   Department Stores   \n",
       "574972  Financial Institutions – Manual Cash Disbursem...   \n",
       "\n",
       "                              irs_description irs_reportable  \n",
       "118761  Women’s Accessory and Specialty Shops  No1.6041-3(c)  \n",
       "50558                       Department Stores  No1.6041-3(c)  \n",
       "574972                Automated Cash Disburse  No1.6041-3(c)  "
      ]
     },
     "execution_count": 85,
     "metadata": {},
     "output_type": "execute_result"
    }
   ],
   "source": [
    "transactions = transactions.merge(mcc_codes, how = \"left\", left_on = \"mer_cat_code\", right_on = \"mcc\")\n",
    "transactions.sample(3)"
   ]
  },
  {
   "cell_type": "markdown",
   "metadata": {},
   "source": [
    "## Cleanup Cards"
   ]
  },
  {
   "cell_type": "code",
   "execution_count": 5,
   "metadata": {
    "ExecuteTime": {
     "end_time": "2017-07-29T00:19:34.817064Z",
     "start_time": "2017-07-29T00:19:34.807062Z"
    }
   },
   "outputs": [
    {
     "data": {
      "text/html": [
       "<div>\n",
       "<style>\n",
       "    .dataframe thead tr:only-child th {\n",
       "        text-align: right;\n",
       "    }\n",
       "\n",
       "    .dataframe thead th {\n",
       "        text-align: left;\n",
       "    }\n",
       "\n",
       "    .dataframe tbody tr th {\n",
       "        vertical-align: top;\n",
       "    }\n",
       "</style>\n",
       "<table border=\"1\" class=\"dataframe\">\n",
       "  <thead>\n",
       "    <tr style=\"text-align: right;\">\n",
       "      <th></th>\n",
       "      <th>card_no</th>\n",
       "      <th>bill_cyc</th>\n",
       "      <th>pos_dt_x</th>\n",
       "      <th>cst_id</th>\n",
       "      <th>open_dt</th>\n",
       "      <th>exp_dt</th>\n",
       "      <th>cr_lmt_amt</th>\n",
       "      <th>prev_cr_lmt_amt</th>\n",
       "      <th>incm_amt</th>\n",
       "      <th>age</th>\n",
       "      <th>main_zip_cd</th>\n",
       "      <th>cr_line_amt</th>\n",
       "      <th>pos_dt_y</th>\n",
       "    </tr>\n",
       "  </thead>\n",
       "  <tbody>\n",
       "    <tr>\n",
       "      <th>6931</th>\n",
       "      <td>1234000000016510</td>\n",
       "      <td>20</td>\n",
       "      <td>2017-02-23 00:00:00</td>\n",
       "      <td>1000002282</td>\n",
       "      <td>2006-11-27 00:00:00</td>\n",
       "      <td>1121</td>\n",
       "      <td>31000.000</td>\n",
       "      <td>32000.000</td>\n",
       "      <td>15623</td>\n",
       "      <td>38.000</td>\n",
       "      <td>10300</td>\n",
       "      <td>31000.000</td>\n",
       "      <td>2017-02-23 00:00:00</td>\n",
       "    </tr>\n",
       "  </tbody>\n",
       "</table>\n",
       "</div>"
      ],
      "text/plain": [
       "               card_no  bill_cyc             pos_dt_x      cst_id  \\\n",
       "6931  1234000000016510        20  2017-02-23 00:00:00  1000002282   \n",
       "\n",
       "                  open_dt  exp_dt  cr_lmt_amt  prev_cr_lmt_amt  incm_amt  \\\n",
       "6931  2006-11-27 00:00:00    1121   31000.000        32000.000     15623   \n",
       "\n",
       "        age  main_zip_cd  cr_line_amt             pos_dt_y  \n",
       "6931 38.000        10300    31000.000  2017-02-23 00:00:00  "
      ]
     },
     "execution_count": 5,
     "metadata": {},
     "output_type": "execute_result"
    }
   ],
   "source": [
    "card_details.sample()"
   ]
  },
  {
   "cell_type": "code",
   "execution_count": 86,
   "metadata": {
    "ExecuteTime": {
     "end_time": "2017-07-29T00:44:08.129553Z",
     "start_time": "2017-07-29T00:44:08.109554Z"
    }
   },
   "outputs": [
    {
     "data": {
      "text/html": [
       "<div>\n",
       "<style>\n",
       "    .dataframe thead tr:only-child th {\n",
       "        text-align: right;\n",
       "    }\n",
       "\n",
       "    .dataframe thead th {\n",
       "        text-align: left;\n",
       "    }\n",
       "\n",
       "    .dataframe tbody tr th {\n",
       "        vertical-align: top;\n",
       "    }\n",
       "</style>\n",
       "<table border=\"1\" class=\"dataframe\">\n",
       "  <thead>\n",
       "    <tr style=\"text-align: right;\">\n",
       "      <th></th>\n",
       "      <th>card_no</th>\n",
       "      <th>credit_limit</th>\n",
       "      <th>prev_credit_limit</th>\n",
       "      <th>income</th>\n",
       "      <th>age</th>\n",
       "      <th>zip</th>\n",
       "      <th>credit_available</th>\n",
       "    </tr>\n",
       "  </thead>\n",
       "  <tbody>\n",
       "    <tr>\n",
       "      <th>6614</th>\n",
       "      <td>1234000000012213</td>\n",
       "      <td>100000.000</td>\n",
       "      <td>240000.000</td>\n",
       "      <td>48204</td>\n",
       "      <td>34.000</td>\n",
       "      <td>11000</td>\n",
       "      <td>100000.000</td>\n",
       "    </tr>\n",
       "  </tbody>\n",
       "</table>\n",
       "</div>"
      ],
      "text/plain": [
       "               card_no  credit_limit  prev_credit_limit  income    age    zip  \\\n",
       "6614  1234000000012213    100000.000         240000.000   48204 34.000  11000   \n",
       "\n",
       "      credit_available  \n",
       "6614        100000.000  "
      ]
     },
     "execution_count": 86,
     "metadata": {},
     "output_type": "execute_result"
    }
   ],
   "source": [
    "def cleanup_card_columns(df):\n",
    "    drop_columns = ['pos_dt_x'\n",
    "                    , 'bill_cyc'\n",
    "                    , 'cst_id'\n",
    "                    , 'open_dt'\n",
    "                    , 'exp_dt'\n",
    "                    , 'pos_dt_y']\n",
    "    \n",
    "    return df.drop(drop_columns, axis = 1)\n",
    "\n",
    "\n",
    "def make_readable_columns(df):\n",
    "    df.columns = ['card_no'\n",
    "                  , 'credit_limit'\n",
    "                  , 'prev_credit_limit'\n",
    "                  , 'income'\n",
    "                  , 'age'\n",
    "                  , 'zip'\n",
    "                  , 'credit_available']\n",
    "    \n",
    "    return df\n",
    "\n",
    "\n",
    "def cleanup_cards(df):\n",
    "    df = cleanup_card_columns(df)\n",
    "    df = make_readable_columns(df)\n",
    "    \n",
    "    return df\n",
    "\n",
    "\n",
    "clean_card_details = cleanup_cards(card_details)\n",
    "clean_card_details.sample()"
   ]
  },
  {
   "cell_type": "markdown",
   "metadata": {},
   "source": [
    "## Cleanup Transactions"
   ]
  },
  {
   "cell_type": "code",
   "execution_count": 42,
   "metadata": {
    "ExecuteTime": {
     "end_time": "2017-07-29T00:31:30.521256Z",
     "start_time": "2017-07-29T00:31:30.499257Z"
    }
   },
   "outputs": [
    {
     "data": {
      "text/html": [
       "<div>\n",
       "<style>\n",
       "    .dataframe thead tr:only-child th {\n",
       "        text-align: right;\n",
       "    }\n",
       "\n",
       "    .dataframe thead th {\n",
       "        text-align: left;\n",
       "    }\n",
       "\n",
       "    .dataframe tbody tr th {\n",
       "        vertical-align: top;\n",
       "    }\n",
       "</style>\n",
       "<table border=\"1\" class=\"dataframe\">\n",
       "  <thead>\n",
       "    <tr style=\"text-align: right;\">\n",
       "      <th></th>\n",
       "      <th>card_no</th>\n",
       "      <th>txn_date</th>\n",
       "      <th>txn_hour</th>\n",
       "      <th>txn_amount</th>\n",
       "      <th>mer_cat_code</th>\n",
       "      <th>mer_id</th>\n",
       "      <th>mcc</th>\n",
       "      <th>edited_description</th>\n",
       "      <th>combined_description</th>\n",
       "      <th>usda_description</th>\n",
       "      <th>irs_description</th>\n",
       "      <th>irs_reportable</th>\n",
       "    </tr>\n",
       "  </thead>\n",
       "  <tbody>\n",
       "    <tr>\n",
       "      <th>486820</th>\n",
       "      <td>1234000000026255</td>\n",
       "      <td>2016-06-11 00:00:00</td>\n",
       "      <td>19</td>\n",
       "      <td>450.000</td>\n",
       "      <td>4812</td>\n",
       "      <td>16783</td>\n",
       "      <td>4812.000</td>\n",
       "      <td>Telecommunications Equipment including telepho...</td>\n",
       "      <td>Telecommunications Equipment including telepho...</td>\n",
       "      <td>Telecommunications Equipment including telepho...</td>\n",
       "      <td>Telecommunication Equipment and Telephone Sales</td>\n",
       "      <td>No1.6041-3(c)</td>\n",
       "    </tr>\n",
       "  </tbody>\n",
       "</table>\n",
       "</div>"
      ],
      "text/plain": [
       "                 card_no             txn_date  txn_hour  txn_amount  \\\n",
       "486820  1234000000026255  2016-06-11 00:00:00        19     450.000   \n",
       "\n",
       "        mer_cat_code  mer_id      mcc  \\\n",
       "486820          4812   16783 4812.000   \n",
       "\n",
       "                                       edited_description  \\\n",
       "486820  Telecommunications Equipment including telepho...   \n",
       "\n",
       "                                     combined_description  \\\n",
       "486820  Telecommunications Equipment including telepho...   \n",
       "\n",
       "                                         usda_description  \\\n",
       "486820  Telecommunications Equipment including telepho...   \n",
       "\n",
       "                                        irs_description irs_reportable  \n",
       "486820  Telecommunication Equipment and Telephone Sales  No1.6041-3(c)  "
      ]
     },
     "execution_count": 42,
     "metadata": {},
     "output_type": "execute_result"
    }
   ],
   "source": [
    "transactions.sample()"
   ]
  },
  {
   "cell_type": "code",
   "execution_count": 87,
   "metadata": {
    "ExecuteTime": {
     "end_time": "2017-07-29T00:44:14.397507Z",
     "start_time": "2017-07-29T00:44:11.079934Z"
    }
   },
   "outputs": [
    {
     "data": {
      "text/html": [
       "<div>\n",
       "<style>\n",
       "    .dataframe thead tr:only-child th {\n",
       "        text-align: right;\n",
       "    }\n",
       "\n",
       "    .dataframe thead th {\n",
       "        text-align: left;\n",
       "    }\n",
       "\n",
       "    .dataframe tbody tr th {\n",
       "        vertical-align: top;\n",
       "    }\n",
       "</style>\n",
       "<table border=\"1\" class=\"dataframe\">\n",
       "  <thead>\n",
       "    <tr style=\"text-align: right;\">\n",
       "      <th></th>\n",
       "      <th>card_no</th>\n",
       "      <th>date</th>\n",
       "      <th>amount</th>\n",
       "      <th>merchant</th>\n",
       "    </tr>\n",
       "  </thead>\n",
       "  <tbody>\n",
       "    <tr>\n",
       "      <th>334509</th>\n",
       "      <td>1234000000025246</td>\n",
       "      <td>2016-02</td>\n",
       "      <td>450.000</td>\n",
       "      <td>Insurance Sales, Underwriting, and Premiums</td>\n",
       "    </tr>\n",
       "  </tbody>\n",
       "</table>\n",
       "</div>"
      ],
      "text/plain": [
       "                 card_no     date  amount  \\\n",
       "334509  1234000000025246  2016-02 450.000   \n",
       "\n",
       "                                           merchant  \n",
       "334509  Insurance Sales, Underwriting, and Premiums  "
      ]
     },
     "execution_count": 87,
     "metadata": {},
     "output_type": "execute_result"
    }
   ],
   "source": [
    "def cleanup_transaction_columns(df):\n",
    "    drop_columns = ['mer_cat_code'\n",
    "                    , 'mer_id'\n",
    "                    , 'mcc'\n",
    "                    , 'txn_hour'\n",
    "                    , 'combined_description'\n",
    "                    , 'usda_description'\n",
    "                    , 'irs_description'\n",
    "                    , 'irs_reportable']\n",
    "    \n",
    "    return df.drop(drop_columns, axis = 1)\n",
    "\n",
    "\n",
    "def make_readable_columns(df):\n",
    "    df.columns = ['card_no'\n",
    "                  , 'date'\n",
    "                  , 'amount'\n",
    "                  , 'merchant']\n",
    "    \n",
    "    return df\n",
    "\n",
    "\n",
    "def simplify_date(df):\n",
    "    df['date'] = pd.to_datetime(df['date']).map(lambda x: x.strftime('%Y-%m'))\n",
    "    \n",
    "    return df\n",
    "\n",
    "\n",
    "def cleanup_transactions(df):\n",
    "    df = cleanup_transaction_columns(df)\n",
    "    df = make_readable_columns(df)\n",
    "    df = simplify_date(df)\n",
    "    \n",
    "    return df\n",
    "\n",
    "\n",
    "clean_transactions = cleanup_transactions(transactions)\n",
    "clean_transactions.sample()"
   ]
  },
  {
   "cell_type": "markdown",
   "metadata": {},
   "source": [
    "## Visualizing Data\n",
    "### Card Detail"
   ]
  },
  {
   "cell_type": "code",
   "execution_count": 9,
   "metadata": {
    "ExecuteTime": {
     "end_time": "2017-07-29T00:19:56.622668Z",
     "start_time": "2017-07-29T00:19:55.394651Z"
    }
   },
   "outputs": [
    {
     "data": {
      "text/plain": [
       "<matplotlib.axes._subplots.AxesSubplot at 0x1f3be92fef0>"
      ]
     },
     "execution_count": 9,
     "metadata": {},
     "output_type": "execute_result"
    },
    {
     "data": {
      "image/png": "[encoded data removed]",
      "text/plain": [
       "<matplotlib.figure.Figure at 0x1f3b0bb38d0>"
      ]
     },
     "metadata": {},
     "output_type": "display_data"
    }
   ],
   "source": [
    "sns.barplot(data = clean_card_details, x = 'age', y = 'credit_limit')"
   ]
  },
  {
   "cell_type": "code",
   "execution_count": 10,
   "metadata": {
    "ExecuteTime": {
     "end_time": "2017-07-29T00:19:59.394146Z",
     "start_time": "2017-07-29T00:19:58.082649Z"
    }
   },
   "outputs": [
    {
     "data": {
      "text/plain": [
       "<matplotlib.axes._subplots.AxesSubplot at 0x1f3b1341b38>"
      ]
     },
     "execution_count": 10,
     "metadata": {},
     "output_type": "execute_result"
    },
    {
     "data": {
      "image/png": "[encoded data removed]",
      "text/plain": [
       "<matplotlib.figure.Figure at 0x1f3b12cdf60>"
      ]
     },
     "metadata": {},
     "output_type": "display_data"
    }
   ],
   "source": [
    "sns.barplot(data = clean_card_details, x = 'age', y = 'income')"
   ]
  },
  {
   "cell_type": "markdown",
   "metadata": {},
   "source": [
    "### Transaction"
   ]
  },
  {
   "cell_type": "code",
   "execution_count": 11,
   "metadata": {
    "ExecuteTime": {
     "end_time": "2017-07-29T00:18:11.738958Z",
     "start_time": "2017-07-29T00:18:11.736457Z"
    },
    "collapsed": true,
    "scrolled": true
   },
   "outputs": [],
   "source": [
    "# sns.distplot(data = clean_transactions, x = 'date', y = 'amount')"
   ]
  },
  {
   "cell_type": "markdown",
   "metadata": {
    "ExecuteTime": {
     "end_time": "2017-07-29T00:04:49.223286Z",
     "start_time": "2017-07-29T00:04:49.220286Z"
    }
   },
   "source": [
    "## Calculate mean amount of transactions"
   ]
  },
  {
   "cell_type": "markdown",
   "metadata": {
    "ExecuteTime": {
     "end_time": "2017-07-29T00:06:39.285983Z",
     "start_time": "2017-07-29T00:06:39.282984Z"
    }
   },
   "source": [
    "### Amount per month"
   ]
  },
  {
   "cell_type": "code",
   "execution_count": 88,
   "metadata": {
    "ExecuteTime": {
     "end_time": "2017-07-29T00:44:18.774570Z",
     "start_time": "2017-07-29T00:44:18.679070Z"
    },
    "scrolled": true
   },
   "outputs": [
    {
     "data": {
      "text/html": [
       "<div>\n",
       "<style>\n",
       "    .dataframe thead tr:only-child th {\n",
       "        text-align: right;\n",
       "    }\n",
       "\n",
       "    .dataframe thead th {\n",
       "        text-align: left;\n",
       "    }\n",
       "\n",
       "    .dataframe tbody tr th {\n",
       "        vertical-align: top;\n",
       "    }\n",
       "</style>\n",
       "<table border=\"1\" class=\"dataframe\">\n",
       "  <thead>\n",
       "    <tr style=\"text-align: right;\">\n",
       "      <th></th>\n",
       "      <th>card_no</th>\n",
       "      <th>date</th>\n",
       "      <th>amount</th>\n",
       "    </tr>\n",
       "  </thead>\n",
       "  <tbody>\n",
       "    <tr>\n",
       "      <th>0</th>\n",
       "      <td>1234000000000004</td>\n",
       "      <td>2016-01</td>\n",
       "      <td>9500.000</td>\n",
       "    </tr>\n",
       "    <tr>\n",
       "      <th>1</th>\n",
       "      <td>1234000000000004</td>\n",
       "      <td>2016-02</td>\n",
       "      <td>3200.000</td>\n",
       "    </tr>\n",
       "    <tr>\n",
       "      <th>2</th>\n",
       "      <td>1234000000000004</td>\n",
       "      <td>2016-03</td>\n",
       "      <td>5200.000</td>\n",
       "    </tr>\n",
       "    <tr>\n",
       "      <th>3</th>\n",
       "      <td>1234000000000004</td>\n",
       "      <td>2016-04</td>\n",
       "      <td>4500.000</td>\n",
       "    </tr>\n",
       "    <tr>\n",
       "      <th>4</th>\n",
       "      <td>1234000000000004</td>\n",
       "      <td>2016-05</td>\n",
       "      <td>4400.000</td>\n",
       "    </tr>\n",
       "    <tr>\n",
       "      <th>5</th>\n",
       "      <td>1234000000000004</td>\n",
       "      <td>2016-06</td>\n",
       "      <td>2700.000</td>\n",
       "    </tr>\n",
       "  </tbody>\n",
       "</table>\n",
       "</div>"
      ],
      "text/plain": [
       "            card_no     date   amount\n",
       "0  1234000000000004  2016-01 9500.000\n",
       "1  1234000000000004  2016-02 3200.000\n",
       "2  1234000000000004  2016-03 5200.000\n",
       "3  1234000000000004  2016-04 4500.000\n",
       "4  1234000000000004  2016-05 4400.000\n",
       "5  1234000000000004  2016-06 2700.000"
      ]
     },
     "execution_count": 88,
     "metadata": {},
     "output_type": "execute_result"
    }
   ],
   "source": [
    "transaction_amount_per_month = clean_transactions.groupby(['card_no', 'date']).sum().reset_index()\n",
    "transaction_amount_per_month.head(6)"
   ]
  },
  {
   "cell_type": "markdown",
   "metadata": {},
   "source": [
    "### Mean"
   ]
  },
  {
   "cell_type": "code",
   "execution_count": 89,
   "metadata": {
    "ExecuteTime": {
     "end_time": "2017-07-29T00:44:20.005034Z",
     "start_time": "2017-07-29T00:44:19.994033Z"
    }
   },
   "outputs": [
    {
     "data": {
      "text/html": [
       "<div>\n",
       "<style>\n",
       "    .dataframe thead tr:only-child th {\n",
       "        text-align: right;\n",
       "    }\n",
       "\n",
       "    .dataframe thead th {\n",
       "        text-align: left;\n",
       "    }\n",
       "\n",
       "    .dataframe tbody tr th {\n",
       "        vertical-align: top;\n",
       "    }\n",
       "</style>\n",
       "<table border=\"1\" class=\"dataframe\">\n",
       "  <thead>\n",
       "    <tr style=\"text-align: right;\">\n",
       "      <th></th>\n",
       "      <th>card_no</th>\n",
       "      <th>amount</th>\n",
       "    </tr>\n",
       "  </thead>\n",
       "  <tbody>\n",
       "    <tr>\n",
       "      <th>0</th>\n",
       "      <td>1234000000000004</td>\n",
       "      <td>4868.750</td>\n",
       "    </tr>\n",
       "    <tr>\n",
       "      <th>1</th>\n",
       "      <td>1234000000000005</td>\n",
       "      <td>312.500</td>\n",
       "    </tr>\n",
       "    <tr>\n",
       "      <th>2</th>\n",
       "      <td>1234000000000006</td>\n",
       "      <td>18800.000</td>\n",
       "    </tr>\n",
       "    <tr>\n",
       "      <th>3</th>\n",
       "      <td>1234000000000010</td>\n",
       "      <td>3756.250</td>\n",
       "    </tr>\n",
       "    <tr>\n",
       "      <th>4</th>\n",
       "      <td>1234000000000012</td>\n",
       "      <td>7406.250</td>\n",
       "    </tr>\n",
       "    <tr>\n",
       "      <th>5</th>\n",
       "      <td>1234000000000014</td>\n",
       "      <td>6587.500</td>\n",
       "    </tr>\n",
       "  </tbody>\n",
       "</table>\n",
       "</div>"
      ],
      "text/plain": [
       "            card_no    amount\n",
       "0  1234000000000004  4868.750\n",
       "1  1234000000000005   312.500\n",
       "2  1234000000000006 18800.000\n",
       "3  1234000000000010  3756.250\n",
       "4  1234000000000012  7406.250\n",
       "5  1234000000000014  6587.500"
      ]
     },
     "execution_count": 89,
     "metadata": {},
     "output_type": "execute_result"
    }
   ],
   "source": [
    "transaction_mean = transaction_amount_per_month.groupby(['card_no']).mean().reset_index().fillna(0)\n",
    "transaction_mean.head(6)"
   ]
  },
  {
   "cell_type": "markdown",
   "metadata": {
    "ExecuteTime": {
     "end_time": "2017-07-29T00:07:03.186491Z",
     "start_time": "2017-07-29T00:07:03.183491Z"
    }
   },
   "source": [
    "### Merge to cards"
   ]
  },
  {
   "cell_type": "code",
   "execution_count": 90,
   "metadata": {
    "ExecuteTime": {
     "end_time": "2017-07-29T00:44:21.688071Z",
     "start_time": "2017-07-29T00:44:21.674572Z"
    }
   },
   "outputs": [
    {
     "data": {
      "text/html": [
       "<div>\n",
       "<style>\n",
       "    .dataframe thead tr:only-child th {\n",
       "        text-align: right;\n",
       "    }\n",
       "\n",
       "    .dataframe thead th {\n",
       "        text-align: left;\n",
       "    }\n",
       "\n",
       "    .dataframe tbody tr th {\n",
       "        vertical-align: top;\n",
       "    }\n",
       "</style>\n",
       "<table border=\"1\" class=\"dataframe\">\n",
       "  <thead>\n",
       "    <tr style=\"text-align: right;\">\n",
       "      <th></th>\n",
       "      <th>card_no</th>\n",
       "      <th>credit_limit</th>\n",
       "      <th>prev_credit_limit</th>\n",
       "      <th>income</th>\n",
       "      <th>age</th>\n",
       "      <th>zip</th>\n",
       "      <th>credit_available</th>\n",
       "      <th>amount</th>\n",
       "    </tr>\n",
       "  </thead>\n",
       "  <tbody>\n",
       "    <tr>\n",
       "      <th>1952</th>\n",
       "      <td>1234000000026284</td>\n",
       "      <td>36000.000</td>\n",
       "      <td>0.000</td>\n",
       "      <td>18000</td>\n",
       "      <td>32.000</td>\n",
       "      <td>74130</td>\n",
       "      <td>36000.000</td>\n",
       "      <td>3475.000</td>\n",
       "    </tr>\n",
       "    <tr>\n",
       "      <th>6101</th>\n",
       "      <td>1234000000000139</td>\n",
       "      <td>48000.000</td>\n",
       "      <td>40000.000</td>\n",
       "      <td>182620</td>\n",
       "      <td>49.000</td>\n",
       "      <td>10500</td>\n",
       "      <td>208000.000</td>\n",
       "      <td>11368.750</td>\n",
       "    </tr>\n",
       "    <tr>\n",
       "      <th>729</th>\n",
       "      <td>1234000000008498</td>\n",
       "      <td>400000.000</td>\n",
       "      <td>401521.000</td>\n",
       "      <td>358333</td>\n",
       "      <td>52.000</td>\n",
       "      <td>10330</td>\n",
       "      <td>400000.000</td>\n",
       "      <td>16980.000</td>\n",
       "    </tr>\n",
       "    <tr>\n",
       "      <th>2154</th>\n",
       "      <td>1234000000014071</td>\n",
       "      <td>500000.000</td>\n",
       "      <td>260000.000</td>\n",
       "      <td>342615</td>\n",
       "      <td>48.000</td>\n",
       "      <td>20130</td>\n",
       "      <td>500000.000</td>\n",
       "      <td>35950.000</td>\n",
       "    </tr>\n",
       "    <tr>\n",
       "      <th>2567</th>\n",
       "      <td>1234000000026160</td>\n",
       "      <td>80000.000</td>\n",
       "      <td>110000.000</td>\n",
       "      <td>243200</td>\n",
       "      <td>52.000</td>\n",
       "      <td>10260</td>\n",
       "      <td>240000.000</td>\n",
       "      <td>12118.750</td>\n",
       "    </tr>\n",
       "    <tr>\n",
       "      <th>1687</th>\n",
       "      <td>1234000000015295</td>\n",
       "      <td>100000.000</td>\n",
       "      <td>0.000</td>\n",
       "      <td>73991</td>\n",
       "      <td>45.000</td>\n",
       "      <td>43000</td>\n",
       "      <td>100000.000</td>\n",
       "      <td>6500.000</td>\n",
       "    </tr>\n",
       "    <tr>\n",
       "      <th>8511</th>\n",
       "      <td>1234000000014467</td>\n",
       "      <td>18000.000</td>\n",
       "      <td>0.000</td>\n",
       "      <td>15136</td>\n",
       "      <td>26.000</td>\n",
       "      <td>50300</td>\n",
       "      <td>18000.000</td>\n",
       "      <td>1768.750</td>\n",
       "    </tr>\n",
       "    <tr>\n",
       "      <th>2529</th>\n",
       "      <td>1234000000023653</td>\n",
       "      <td>40000.000</td>\n",
       "      <td>0.000</td>\n",
       "      <td>21770</td>\n",
       "      <td>37.000</td>\n",
       "      <td>10540</td>\n",
       "      <td>40000.000</td>\n",
       "      <td>3842.857</td>\n",
       "    </tr>\n",
       "    <tr>\n",
       "      <th>7985</th>\n",
       "      <td>1234000000003191</td>\n",
       "      <td>52000.000</td>\n",
       "      <td>62400.000</td>\n",
       "      <td>31875</td>\n",
       "      <td>41.000</td>\n",
       "      <td>11120</td>\n",
       "      <td>52000.000</td>\n",
       "      <td>4200.000</td>\n",
       "    </tr>\n",
       "    <tr>\n",
       "      <th>2145</th>\n",
       "      <td>1234000000021161</td>\n",
       "      <td>78000.000</td>\n",
       "      <td>0.000</td>\n",
       "      <td>52055</td>\n",
       "      <td>47.000</td>\n",
       "      <td>22120</td>\n",
       "      <td>78000.000</td>\n",
       "      <td>8042.857</td>\n",
       "    </tr>\n",
       "  </tbody>\n",
       "</table>\n",
       "</div>"
      ],
      "text/plain": [
       "               card_no  credit_limit  prev_credit_limit  income    age    zip  \\\n",
       "1952  1234000000026284     36000.000              0.000   18000 32.000  74130   \n",
       "6101  1234000000000139     48000.000          40000.000  182620 49.000  10500   \n",
       "729   1234000000008498    400000.000         401521.000  358333 52.000  10330   \n",
       "2154  1234000000014071    500000.000         260000.000  342615 48.000  20130   \n",
       "2567  1234000000026160     80000.000         110000.000  243200 52.000  10260   \n",
       "1687  1234000000015295    100000.000              0.000   73991 45.000  43000   \n",
       "8511  1234000000014467     18000.000              0.000   15136 26.000  50300   \n",
       "2529  1234000000023653     40000.000              0.000   21770 37.000  10540   \n",
       "7985  1234000000003191     52000.000          62400.000   31875 41.000  11120   \n",
       "2145  1234000000021161     78000.000              0.000   52055 47.000  22120   \n",
       "\n",
       "      credit_available    amount  \n",
       "1952         36000.000  3475.000  \n",
       "6101        208000.000 11368.750  \n",
       "729         400000.000 16980.000  \n",
       "2154        500000.000 35950.000  \n",
       "2567        240000.000 12118.750  \n",
       "1687        100000.000  6500.000  \n",
       "8511         18000.000  1768.750  \n",
       "2529         40000.000  3842.857  \n",
       "7985         52000.000  4200.000  \n",
       "2145         78000.000  8042.857  "
      ]
     },
     "execution_count": 90,
     "metadata": {},
     "output_type": "execute_result"
    }
   ],
   "source": [
    "clean_card_details_with_transaction_mean = clean_card_details.join(transaction_mean.set_index('card_no'), on = 'card_no', how = 'left')\n",
    "clean_card_details_with_transaction_mean.sample(10)"
   ]
  },
  {
   "cell_type": "markdown",
   "metadata": {},
   "source": [
    "## WIP: Pivot  Merchant"
   ]
  },
  {
   "cell_type": "markdown",
   "metadata": {},
   "source": [
    "## Splitting up the training Data"
   ]
  },
  {
   "cell_type": "code",
   "execution_count": 91,
   "metadata": {
    "ExecuteTime": {
     "end_time": "2017-07-29T00:44:29.790574Z",
     "start_time": "2017-07-29T00:44:29.779074Z"
    }
   },
   "outputs": [
    {
     "data": {
      "text/html": [
       "<div>\n",
       "<style>\n",
       "    .dataframe thead tr:only-child th {\n",
       "        text-align: right;\n",
       "    }\n",
       "\n",
       "    .dataframe thead th {\n",
       "        text-align: left;\n",
       "    }\n",
       "\n",
       "    .dataframe tbody tr th {\n",
       "        vertical-align: top;\n",
       "    }\n",
       "</style>\n",
       "<table border=\"1\" class=\"dataframe\">\n",
       "  <thead>\n",
       "    <tr style=\"text-align: right;\">\n",
       "      <th></th>\n",
       "      <th>card_no</th>\n",
       "      <th>npl_flag</th>\n",
       "      <th>credit_limit</th>\n",
       "      <th>prev_credit_limit</th>\n",
       "      <th>income</th>\n",
       "      <th>age</th>\n",
       "      <th>zip</th>\n",
       "      <th>credit_available</th>\n",
       "      <th>amount</th>\n",
       "    </tr>\n",
       "  </thead>\n",
       "  <tbody>\n",
       "    <tr>\n",
       "      <th>3108</th>\n",
       "      <td>1234000000020764</td>\n",
       "      <td>0</td>\n",
       "      <td>77000.000</td>\n",
       "      <td>0.000</td>\n",
       "      <td>22000</td>\n",
       "      <td>86.000</td>\n",
       "      <td>10600</td>\n",
       "      <td>77000.000</td>\n",
       "      <td>3793.750</td>\n",
       "    </tr>\n",
       "  </tbody>\n",
       "</table>\n",
       "</div>"
      ],
      "text/plain": [
       "               card_no  npl_flag  credit_limit  prev_credit_limit  income  \\\n",
       "3108  1234000000020764         0     77000.000              0.000   22000   \n",
       "\n",
       "        age    zip  credit_available   amount  \n",
       "3108 86.000  10600         77000.000 3793.750  "
      ]
     },
     "execution_count": 91,
     "metadata": {},
     "output_type": "execute_result"
    }
   ],
   "source": [
    "data_train_with_details = data_train.join(clean_card_details_with_transaction_mean.set_index('card_no'), on = 'card_no', how = 'left')\n",
    "data_train_with_details.sample()"
   ]
  },
  {
   "cell_type": "code",
   "execution_count": 92,
   "metadata": {
    "ExecuteTime": {
     "end_time": "2017-07-29T00:44:31.207076Z",
     "start_time": "2017-07-29T00:44:31.199577Z"
    }
   },
   "outputs": [],
   "source": [
    "from sklearn.model_selection import train_test_split\n",
    "\n",
    "X_all = data_train_with_details.drop(['card_no', 'npl_flag'], axis=1)\n",
    "y_all = data_train_with_details['npl_flag']\n",
    "\n",
    "num_test = 0.20\n",
    "X_train, X_test, y_train, y_test = train_test_split(X_all, y_all, test_size=num_test, random_state=23)"
   ]
  },
  {
   "cell_type": "code",
   "execution_count": 93,
   "metadata": {
    "ExecuteTime": {
     "end_time": "2017-07-29T00:44:32.393075Z",
     "start_time": "2017-07-29T00:44:32.388573Z"
    }
   },
   "outputs": [
    {
     "data": {
      "text/plain": [
       "(7600, 7)"
      ]
     },
     "execution_count": 93,
     "metadata": {},
     "output_type": "execute_result"
    }
   ],
   "source": [
    "X_train.shape"
   ]
  },
  {
   "cell_type": "markdown",
   "metadata": {
    "ExecuteTime": {
     "end_time": "2017-07-29T00:17:31.410653Z",
     "start_time": "2017-07-29T00:17:31.407654Z"
    }
   },
   "source": [
    "## Fitting and Tuning an Classifier"
   ]
  },
  {
   "cell_type": "code",
   "execution_count": 101,
   "metadata": {
    "ExecuteTime": {
     "end_time": "2017-07-29T00:52:17.264056Z",
     "start_time": "2017-07-29T00:48:35.838343Z"
    }
   },
   "outputs": [
    {
     "data": {
      "text/plain": [
       "RandomForestClassifier(bootstrap=True, class_weight=None, criterion='gini',\n",
       "            max_depth=10, max_features='auto', max_leaf_nodes=None,\n",
       "            min_impurity_split=1e-07, min_samples_leaf=1,\n",
       "            min_samples_split=5, min_weight_fraction_leaf=0.0,\n",
       "            n_estimators=100, n_jobs=1, oob_score=False, random_state=None,\n",
       "            verbose=0, warm_start=False)"
      ]
     },
     "execution_count": 101,
     "metadata": {},
     "output_type": "execute_result"
    }
   ],
   "source": [
    "from sklearn.ensemble import RandomForestClassifier\n",
    "from sklearn.metrics import make_scorer, accuracy_score\n",
    "from sklearn.model_selection import GridSearchCV\n",
    "\n",
    "# Choose the type of classifier. \n",
    "clf = RandomForestClassifier()\n",
    "\n",
    "# Choose some parameter combinations to try\n",
    "parameters = {'n_estimators': [100], \n",
    "              'max_features': ['log2', 'sqrt', 'auto'], \n",
    "              'criterion': ['entropy', 'gini'],\n",
    "              'max_depth': [2, 3, 5, 10], \n",
    "              'min_samples_split': [2, 3, 5],\n",
    "              'min_samples_leaf': [1,5,8]\n",
    "             }\n",
    "\n",
    "# Type of scoring used to compare parameter combinations\n",
    "acc_scorer = make_scorer(accuracy_score)\n",
    "\n",
    "# Run the grid search\n",
    "grid_obj = GridSearchCV(clf, parameters, scoring=acc_scorer)\n",
    "grid_obj = grid_obj.fit(X_train, y_train)\n",
    "\n",
    "# Set the clf to the best combination of parameters\n",
    "clf = grid_obj.best_estimator_\n",
    "\n",
    "# Fit the best algorithm to the data. \n",
    "clf.fit(X_train, y_train)"
   ]
  },
  {
   "cell_type": "code",
   "execution_count": 111,
   "metadata": {
    "ExecuteTime": {
     "end_time": "2017-07-29T00:52:30.886444Z",
     "start_time": "2017-07-29T00:52:30.861444Z"
    }
   },
   "outputs": [
    {
     "name": "stdout",
     "output_type": "stream",
     "text": [
      "0.757894736842\n"
     ]
    }
   ],
   "source": [
    "predictions = clf.predict(X_test)\n",
    "print(accuracy_score(y_test, predictions))"
   ]
  },
  {
   "cell_type": "markdown",
   "metadata": {
    "ExecuteTime": {
     "end_time": "2017-07-29T00:15:16.938649Z",
     "start_time": "2017-07-29T00:15:16.935648Z"
    }
   },
   "source": [
    "## Validate with KFold"
   ]
  },
  {
   "cell_type": "code",
   "execution_count": 112,
   "metadata": {
    "ExecuteTime": {
     "end_time": "2017-07-29T00:52:33.922289Z",
     "start_time": "2017-07-29T00:52:32.659790Z"
    }
   },
   "outputs": [
    {
     "name": "stdout",
     "output_type": "stream",
     "text": [
      "Fold 1 accuracy: 0.6777777777777778\n",
      "Fold 2 accuracy: 0.7303370786516854\n",
      "Fold 3 accuracy: 0.7752808988764045\n",
      "Fold 4 accuracy: 0.7303370786516854\n",
      "Fold 5 accuracy: 0.7191011235955056\n",
      "Fold 6 accuracy: 0.6853932584269663\n",
      "Fold 7 accuracy: 0.7078651685393258\n",
      "Fold 8 accuracy: 0.7528089887640449\n",
      "Fold 9 accuracy: 0.7303370786516854\n",
      "Fold 10 accuracy: 0.7752808988764045\n",
      "Mean Accuracy: 0.7284519350811487\n"
     ]
    }
   ],
   "source": [
    "from sklearn.cross_validation import KFold\n",
    "\n",
    "def run_kfold(clf):\n",
    "    kf = KFold(891, n_folds=10)\n",
    "    outcomes = []\n",
    "    fold = 0\n",
    "    for train_index, test_index in kf:\n",
    "        fold += 1\n",
    "        X_train, X_test = X_all.values[train_index], X_all.values[test_index]\n",
    "        y_train, y_test = y_all.values[train_index], y_all.values[test_index]\n",
    "        clf.fit(X_train, y_train)\n",
    "        predictions = clf.predict(X_test)\n",
    "        accuracy = accuracy_score(y_test, predictions)\n",
    "        outcomes.append(accuracy)\n",
    "        print(\"Fold {0} accuracy: {1}\".format(fold, accuracy))     \n",
    "    mean_outcome = np.mean(outcomes)\n",
    "    print(\"Mean Accuracy: {0}\".format(mean_outcome)) \n",
    "\n",
    "run_kfold(clf)"
   ]
  },
  {
   "cell_type": "markdown",
   "metadata": {},
   "source": [
    "## Predict the Actual Test Data"
   ]
  },
  {
   "cell_type": "code",
   "execution_count": 114,
   "metadata": {
    "ExecuteTime": {
     "end_time": "2017-07-29T00:53:25.067804Z",
     "start_time": "2017-07-29T00:53:25.020305Z"
    }
   },
   "outputs": [
    {
     "data": {
      "text/html": [
       "<div>\n",
       "<style>\n",
       "    .dataframe thead tr:only-child th {\n",
       "        text-align: right;\n",
       "    }\n",
       "\n",
       "    .dataframe thead th {\n",
       "        text-align: left;\n",
       "    }\n",
       "\n",
       "    .dataframe tbody tr th {\n",
       "        vertical-align: top;\n",
       "    }\n",
       "</style>\n",
       "<table border=\"1\" class=\"dataframe\">\n",
       "  <thead>\n",
       "    <tr style=\"text-align: right;\">\n",
       "      <th></th>\n",
       "      <th>npl_flag</th>\n",
       "    </tr>\n",
       "  </thead>\n",
       "  <tbody>\n",
       "    <tr>\n",
       "      <th>0</th>\n",
       "      <td>0</td>\n",
       "    </tr>\n",
       "    <tr>\n",
       "      <th>1</th>\n",
       "      <td>0</td>\n",
       "    </tr>\n",
       "    <tr>\n",
       "      <th>2</th>\n",
       "      <td>0</td>\n",
       "    </tr>\n",
       "    <tr>\n",
       "      <th>3</th>\n",
       "      <td>0</td>\n",
       "    </tr>\n",
       "    <tr>\n",
       "      <th>4</th>\n",
       "      <td>0</td>\n",
       "    </tr>\n",
       "    <tr>\n",
       "      <th>5</th>\n",
       "      <td>0</td>\n",
       "    </tr>\n",
       "    <tr>\n",
       "      <th>6</th>\n",
       "      <td>0</td>\n",
       "    </tr>\n",
       "    <tr>\n",
       "      <th>7</th>\n",
       "      <td>0</td>\n",
       "    </tr>\n",
       "    <tr>\n",
       "      <th>8</th>\n",
       "      <td>0</td>\n",
       "    </tr>\n",
       "    <tr>\n",
       "      <th>9</th>\n",
       "      <td>0</td>\n",
       "    </tr>\n",
       "    <tr>\n",
       "      <th>10</th>\n",
       "      <td>1</td>\n",
       "    </tr>\n",
       "    <tr>\n",
       "      <th>11</th>\n",
       "      <td>0</td>\n",
       "    </tr>\n",
       "    <tr>\n",
       "      <th>12</th>\n",
       "      <td>0</td>\n",
       "    </tr>\n",
       "    <tr>\n",
       "      <th>13</th>\n",
       "      <td>0</td>\n",
       "    </tr>\n",
       "    <tr>\n",
       "      <th>14</th>\n",
       "      <td>0</td>\n",
       "    </tr>\n",
       "    <tr>\n",
       "      <th>15</th>\n",
       "      <td>0</td>\n",
       "    </tr>\n",
       "    <tr>\n",
       "      <th>16</th>\n",
       "      <td>0</td>\n",
       "    </tr>\n",
       "    <tr>\n",
       "      <th>17</th>\n",
       "      <td>0</td>\n",
       "    </tr>\n",
       "    <tr>\n",
       "      <th>18</th>\n",
       "      <td>0</td>\n",
       "    </tr>\n",
       "    <tr>\n",
       "      <th>19</th>\n",
       "      <td>0</td>\n",
       "    </tr>\n",
       "    <tr>\n",
       "      <th>20</th>\n",
       "      <td>0</td>\n",
       "    </tr>\n",
       "    <tr>\n",
       "      <th>21</th>\n",
       "      <td>0</td>\n",
       "    </tr>\n",
       "    <tr>\n",
       "      <th>22</th>\n",
       "      <td>0</td>\n",
       "    </tr>\n",
       "    <tr>\n",
       "      <th>23</th>\n",
       "      <td>0</td>\n",
       "    </tr>\n",
       "    <tr>\n",
       "      <th>24</th>\n",
       "      <td>0</td>\n",
       "    </tr>\n",
       "    <tr>\n",
       "      <th>25</th>\n",
       "      <td>0</td>\n",
       "    </tr>\n",
       "    <tr>\n",
       "      <th>26</th>\n",
       "      <td>0</td>\n",
       "    </tr>\n",
       "    <tr>\n",
       "      <th>27</th>\n",
       "      <td>0</td>\n",
       "    </tr>\n",
       "    <tr>\n",
       "      <th>28</th>\n",
       "      <td>0</td>\n",
       "    </tr>\n",
       "    <tr>\n",
       "      <th>29</th>\n",
       "      <td>0</td>\n",
       "    </tr>\n",
       "    <tr>\n",
       "      <th>...</th>\n",
       "      <td>...</td>\n",
       "    </tr>\n",
       "    <tr>\n",
       "      <th>70</th>\n",
       "      <td>0</td>\n",
       "    </tr>\n",
       "    <tr>\n",
       "      <th>71</th>\n",
       "      <td>1</td>\n",
       "    </tr>\n",
       "    <tr>\n",
       "      <th>72</th>\n",
       "      <td>0</td>\n",
       "    </tr>\n",
       "    <tr>\n",
       "      <th>73</th>\n",
       "      <td>0</td>\n",
       "    </tr>\n",
       "    <tr>\n",
       "      <th>74</th>\n",
       "      <td>0</td>\n",
       "    </tr>\n",
       "    <tr>\n",
       "      <th>75</th>\n",
       "      <td>0</td>\n",
       "    </tr>\n",
       "    <tr>\n",
       "      <th>76</th>\n",
       "      <td>0</td>\n",
       "    </tr>\n",
       "    <tr>\n",
       "      <th>77</th>\n",
       "      <td>0</td>\n",
       "    </tr>\n",
       "    <tr>\n",
       "      <th>78</th>\n",
       "      <td>0</td>\n",
       "    </tr>\n",
       "    <tr>\n",
       "      <th>79</th>\n",
       "      <td>0</td>\n",
       "    </tr>\n",
       "    <tr>\n",
       "      <th>80</th>\n",
       "      <td>0</td>\n",
       "    </tr>\n",
       "    <tr>\n",
       "      <th>81</th>\n",
       "      <td>0</td>\n",
       "    </tr>\n",
       "    <tr>\n",
       "      <th>82</th>\n",
       "      <td>0</td>\n",
       "    </tr>\n",
       "    <tr>\n",
       "      <th>83</th>\n",
       "      <td>0</td>\n",
       "    </tr>\n",
       "    <tr>\n",
       "      <th>84</th>\n",
       "      <td>0</td>\n",
       "    </tr>\n",
       "    <tr>\n",
       "      <th>85</th>\n",
       "      <td>0</td>\n",
       "    </tr>\n",
       "    <tr>\n",
       "      <th>86</th>\n",
       "      <td>0</td>\n",
       "    </tr>\n",
       "    <tr>\n",
       "      <th>87</th>\n",
       "      <td>0</td>\n",
       "    </tr>\n",
       "    <tr>\n",
       "      <th>88</th>\n",
       "      <td>0</td>\n",
       "    </tr>\n",
       "    <tr>\n",
       "      <th>89</th>\n",
       "      <td>0</td>\n",
       "    </tr>\n",
       "    <tr>\n",
       "      <th>90</th>\n",
       "      <td>0</td>\n",
       "    </tr>\n",
       "    <tr>\n",
       "      <th>91</th>\n",
       "      <td>0</td>\n",
       "    </tr>\n",
       "    <tr>\n",
       "      <th>92</th>\n",
       "      <td>0</td>\n",
       "    </tr>\n",
       "    <tr>\n",
       "      <th>93</th>\n",
       "      <td>0</td>\n",
       "    </tr>\n",
       "    <tr>\n",
       "      <th>94</th>\n",
       "      <td>0</td>\n",
       "    </tr>\n",
       "    <tr>\n",
       "      <th>95</th>\n",
       "      <td>0</td>\n",
       "    </tr>\n",
       "    <tr>\n",
       "      <th>96</th>\n",
       "      <td>0</td>\n",
       "    </tr>\n",
       "    <tr>\n",
       "      <th>97</th>\n",
       "      <td>0</td>\n",
       "    </tr>\n",
       "    <tr>\n",
       "      <th>98</th>\n",
       "      <td>0</td>\n",
       "    </tr>\n",
       "    <tr>\n",
       "      <th>99</th>\n",
       "      <td>0</td>\n",
       "    </tr>\n",
       "  </tbody>\n",
       "</table>\n",
       "<p>100 rows × 1 columns</p>\n",
       "</div>"
      ],
      "text/plain": [
       "    npl_flag\n",
       "0          0\n",
       "1          0\n",
       "2          0\n",
       "3          0\n",
       "4          0\n",
       "5          0\n",
       "6          0\n",
       "7          0\n",
       "8          0\n",
       "9          0\n",
       "10         1\n",
       "11         0\n",
       "12         0\n",
       "13         0\n",
       "14         0\n",
       "15         0\n",
       "16         0\n",
       "17         0\n",
       "18         0\n",
       "19         0\n",
       "20         0\n",
       "21         0\n",
       "22         0\n",
       "23         0\n",
       "24         0\n",
       "25         0\n",
       "26         0\n",
       "27         0\n",
       "28         0\n",
       "29         0\n",
       "..       ...\n",
       "70         0\n",
       "71         1\n",
       "72         0\n",
       "73         0\n",
       "74         0\n",
       "75         0\n",
       "76         0\n",
       "77         0\n",
       "78         0\n",
       "79         0\n",
       "80         0\n",
       "81         0\n",
       "82         0\n",
       "83         0\n",
       "84         0\n",
       "85         0\n",
       "86         0\n",
       "87         0\n",
       "88         0\n",
       "89         0\n",
       "90         0\n",
       "91         0\n",
       "92         0\n",
       "93         0\n",
       "94         0\n",
       "95         0\n",
       "96         0\n",
       "97         0\n",
       "98         0\n",
       "99         0\n",
       "\n",
       "[100 rows x 1 columns]"
      ]
     },
     "execution_count": 114,
     "metadata": {},
     "output_type": "execute_result"
    }
   ],
   "source": [
    "test = data_test.join(clean_card_details_with_transaction_mean.set_index('card_no'), on = 'card_no', how = 'left')\n",
    "predictions = clf.predict(test.drop('card_no', axis=1))\n",
    "\n",
    "\n",
    "output = pd.DataFrame({'npl_flag': predictions })\n",
    "output.to_csv('3.csv', index = False, header = None)\n",
    "output.head(100)"
   ]
  }
 ],
 "metadata": {
  "kernelspec": {
   "display_name": "Python 3",
   "language": "python",
   "name": "python3"
  },
  "language_info": {
   "codemirror_mode": {
    "name": "ipython",
    "version": 3
   },
   "file_extension": ".py",
   "mimetype": "text/x-python",
   "name": "python",
   "nbconvert_exporter": "python",
   "pygments_lexer": "ipython3",
   "version": "3.6.2"
  },
  "toc": {
   "colors": {
    "hover_highlight": "#DAA520",
    "navigate_num": "#000000",
    "navigate_text": "#333333",
    "running_highlight": "#FF0000",
    "selected_highlight": "#FFD700",
    "sidebar_border": "#EEEEEE",
    "wrapper_background": "#FFFFFF"
   },
   "moveMenuLeft": true,
   "nav_menu": {
    "height": "12px",
    "width": "252px"
   },
   "navigate_menu": true,
   "number_sections": true,
   "sideBar": true,
   "threshold": 4,
   "toc_cell": false,
   "toc_section_display": "block",
   "toc_window_display": false,
   "widenNotebook": false
  }
 },
 "nbformat": 4,
 "nbformat_minor": 2
}
