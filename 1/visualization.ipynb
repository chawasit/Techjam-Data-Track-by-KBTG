{
 "cells": [
  {
   "cell_type": "code",
   "execution_count": 4,
   "metadata": {
    "collapsed": true
   },
   "outputs": [],
   "source": [
    "import pandas as pd # data processing, CSV file I/O (e.g. pd.read_csv)\n",
    "import seaborn as sns\n",
    "from matplotlib import pyplot as plt\n",
    "%matplotlib inline\n",
    "from IPython.core.interactiveshell import InteractiveShell\n",
    "InteractiveShell.ast_node_interactivity = \"all\""
   ]
  },
  {
   "cell_type": "code",
   "execution_count": 5,
   "metadata": {},
   "outputs": [
    {
     "data": {
      "text/html": [
       "<div>\n",
       "<style>\n",
       "    .dataframe thead tr:only-child th {\n",
       "        text-align: right;\n",
       "    }\n",
       "\n",
       "    .dataframe thead th {\n",
       "        text-align: left;\n",
       "    }\n",
       "\n",
       "    .dataframe tbody tr th {\n",
       "        vertical-align: top;\n",
       "    }\n",
       "</style>\n",
       "<table border=\"1\" class=\"dataframe\">\n",
       "  <thead>\n",
       "    <tr style=\"text-align: right;\">\n",
       "      <th></th>\n",
       "      <th>card_no</th>\n",
       "      <th>bill_cyc</th>\n",
       "      <th>pos_dt</th>\n",
       "      <th>cst_id</th>\n",
       "      <th>open_dt</th>\n",
       "      <th>exp_dt</th>\n",
       "      <th>cr_lmt_amt</th>\n",
       "      <th>prev_cr_lmt_amt</th>\n",
       "    </tr>\n",
       "  </thead>\n",
       "  <tbody>\n",
       "    <tr>\n",
       "      <th>0</th>\n",
       "      <td>1234000000023349</td>\n",
       "      <td>20</td>\n",
       "      <td>2017-02-23</td>\n",
       "      <td>1000004674</td>\n",
       "      <td>2010-12-20</td>\n",
       "      <td>1220</td>\n",
       "      <td>70000</td>\n",
       "      <td>0</td>\n",
       "    </tr>\n",
       "    <tr>\n",
       "      <th>1</th>\n",
       "      <td>1234000000007292</td>\n",
       "      <td>17</td>\n",
       "      <td>2017-02-23</td>\n",
       "      <td>1000010084</td>\n",
       "      <td>2014-06-04</td>\n",
       "      <td>619</td>\n",
       "      <td>69000</td>\n",
       "      <td>60000</td>\n",
       "    </tr>\n",
       "    <tr>\n",
       "      <th>2</th>\n",
       "      <td>1234000000018889</td>\n",
       "      <td>20</td>\n",
       "      <td>2017-02-23</td>\n",
       "      <td>1000009114</td>\n",
       "      <td>2014-01-22</td>\n",
       "      <td>119</td>\n",
       "      <td>27000</td>\n",
       "      <td>32000</td>\n",
       "    </tr>\n",
       "    <tr>\n",
       "      <th>3</th>\n",
       "      <td>1234000000016887</td>\n",
       "      <td>17</td>\n",
       "      <td>2017-02-23</td>\n",
       "      <td>1000013313</td>\n",
       "      <td>2015-12-03</td>\n",
       "      <td>1220</td>\n",
       "      <td>41000</td>\n",
       "      <td>0</td>\n",
       "    </tr>\n",
       "    <tr>\n",
       "      <th>4</th>\n",
       "      <td>1234000000026997</td>\n",
       "      <td>17</td>\n",
       "      <td>2017-02-23</td>\n",
       "      <td>1000010235</td>\n",
       "      <td>2014-06-24</td>\n",
       "      <td>619</td>\n",
       "      <td>50000</td>\n",
       "      <td>60000</td>\n",
       "    </tr>\n",
       "  </tbody>\n",
       "</table>\n",
       "</div>"
      ],
      "text/plain": [
       "            card_no  bill_cyc     pos_dt      cst_id    open_dt  exp_dt  \\\n",
       "0  1234000000023349        20 2017-02-23  1000004674 2010-12-20    1220   \n",
       "1  1234000000007292        17 2017-02-23  1000010084 2014-06-04     619   \n",
       "2  1234000000018889        20 2017-02-23  1000009114 2014-01-22     119   \n",
       "3  1234000000016887        17 2017-02-23  1000013313 2015-12-03    1220   \n",
       "4  1234000000026997        17 2017-02-23  1000010235 2014-06-24     619   \n",
       "\n",
       "   cr_lmt_amt  prev_cr_lmt_amt  \n",
       "0       70000                0  \n",
       "1       69000            60000  \n",
       "2       27000            32000  \n",
       "3       41000                0  \n",
       "4       50000            60000  "
      ]
     },
     "execution_count": 5,
     "metadata": {},
     "output_type": "execute_result"
    }
   ],
   "source": [
    "card = pd.read_excel('tj_01_creditcard_card.csv')\n",
    "customer = pd.read_excel('tj_01_creditcard_customer.csv')\n",
    "\n",
    "card.head()"
   ]
  }
 ],
 "metadata": {
  "kernelspec": {
   "display_name": "Python 3",
   "language": "python",
   "name": "python3"
  },
  "language_info": {
   "codemirror_mode": {
    "name": "ipython",
    "version": 3
   },
   "file_extension": ".py",
   "mimetype": "text/x-python",
   "name": "python",
   "nbconvert_exporter": "python",
   "pygments_lexer": "ipython3",
   "version": "3.6.1"
  }
 },
 "nbformat": 4,
 "nbformat_minor": 2
}
