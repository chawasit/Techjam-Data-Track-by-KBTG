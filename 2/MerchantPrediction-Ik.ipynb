{
 "cells": [
  {
   "cell_type": "markdown",
   "metadata": {
    "ExecuteTime": {
     "end_time": "2017-07-28T22:23:30.818775Z",
     "start_time": "2017-07-28T22:23:30.811276Z"
    }
   },
   "source": [
    "# Merchant Prediction\n",
    "\n",
    "In this technological era, more than ever before, online shopping and social media sites are\n",
    "becoming more popular than ever. It is becoming a significant influence to the Thai retail trade.\n",
    "In order to make the interactions and transactions between merchants and buyers easier, people\n",
    "can now open bank accounts to reduce the use of cash during transactions.\n",
    "\n",
    "The task is to create a prediction model that finds individuals who are most likely merchants\n",
    "that opened bank accounts based on their credit card and deposit transactions.\n"
   ]
  },
  {
   "cell_type": "code",
   "execution_count": 3,
   "metadata": {
    "ExecuteTime": {
     "end_time": "2017-07-29T20:59:33.083124Z",
     "start_time": "2017-07-29T20:59:32.495625Z"
    },
    "collapsed": true
   },
   "outputs": [],
   "source": [
    "import pandas as pd\n",
    "import numpy as np\n",
    "import seaborn as sns\n",
    "from matplotlib import pyplot as plt\n",
    "%matplotlib inline\n",
    "\n",
    "# Beautiful format for float type\n",
    "pd.set_option('display.float_format', lambda x: '%.3f' % x)"
   ]
  },
  {
   "cell_type": "markdown",
   "metadata": {},
   "source": [
    "## CSV to DataFrame"
   ]
  },
  {
   "cell_type": "code",
   "execution_count": 4,
   "metadata": {
    "ExecuteTime": {
     "end_time": "2017-07-29T20:59:35.639123Z",
     "start_time": "2017-07-29T20:59:34.307123Z"
    }
   },
   "outputs": [],
   "source": [
    "account_transactions = pd.read_csv('tj_02_account_transaction.csv')\n",
    "creditcard_transactions = pd.read_csv('tj_02_creditcard_transaction.csv')\n",
    "account_x_cards = pd.read_csv('tj_02_acc_x_card.csv')\n",
    "\n",
    "data_train = pd.read_csv('tj_02_training.csv', names = ['account_no', 'is_merchant'])\n",
    "data_test = pd.read_csv('tj_02_test.csv', names = ['account_no'])"
   ]
  },
  {
   "cell_type": "code",
   "execution_count": 5,
   "metadata": {
    "ExecuteTime": {
     "end_time": "2017-07-29T20:59:36.295124Z",
     "start_time": "2017-07-29T20:59:36.229626Z"
    }
   },
   "outputs": [
    {
     "data": {
      "text/html": [
       "<div>\n",
       "<style>\n",
       "    .dataframe thead tr:only-child th {\n",
       "        text-align: right;\n",
       "    }\n",
       "\n",
       "    .dataframe thead th {\n",
       "        text-align: left;\n",
       "    }\n",
       "\n",
       "    .dataframe tbody tr th {\n",
       "        vertical-align: top;\n",
       "    }\n",
       "</style>\n",
       "<table border=\"1\" class=\"dataframe\">\n",
       "  <thead>\n",
       "    <tr style=\"text-align: right;\">\n",
       "      <th></th>\n",
       "      <th>account_no</th>\n",
       "      <th>from_to_account_no</th>\n",
       "      <th>txn_amount</th>\n",
       "      <th>txn_dt</th>\n",
       "      <th>txn_hour</th>\n",
       "      <th>txn_type</th>\n",
       "    </tr>\n",
       "  </thead>\n",
       "  <tbody>\n",
       "    <tr>\n",
       "      <th>1623027</th>\n",
       "      <td>3450048192</td>\n",
       "      <td>0</td>\n",
       "      <td>200</td>\n",
       "      <td>2016-07-13</td>\n",
       "      <td>11</td>\n",
       "      <td>CR</td>\n",
       "    </tr>\n",
       "  </tbody>\n",
       "</table>\n",
       "</div>"
      ],
      "text/plain": [
       "         account_no  from_to_account_no  txn_amount      txn_dt  txn_hour  \\\n",
       "1623027  3450048192                   0         200  2016-07-13        11   \n",
       "\n",
       "        txn_type  \n",
       "1623027       CR  "
      ]
     },
     "execution_count": 5,
     "metadata": {},
     "output_type": "execute_result"
    }
   ],
   "source": [
    "account_transactions.sample()"
   ]
  },
  {
   "cell_type": "markdown",
   "metadata": {},
   "source": [
    "## Merge Related DataFrame"
   ]
  },
  {
   "cell_type": "code",
   "execution_count": null,
   "metadata": {
    "collapsed": true
   },
   "outputs": [],
   "source": []
  },
  {
   "cell_type": "markdown",
   "metadata": {},
   "source": [
    "## Cleanup"
   ]
  },
  {
   "cell_type": "markdown",
   "metadata": {},
   "source": [
    "## Visualizing Data"
   ]
  },
  {
   "cell_type": "markdown",
   "metadata": {
    "ExecuteTime": {
     "end_time": "2017-07-29T00:04:49.223286Z",
     "start_time": "2017-07-29T00:04:49.220286Z"
    }
   },
   "source": [
    "## Feature Engineering"
   ]
  },
  {
   "cell_type": "markdown",
   "metadata": {},
   "source": [
    "### Debit cash"
   ]
  },
  {
   "cell_type": "markdown",
   "metadata": {},
   "source": [
    "### Credit cash"
   ]
  },
  {
   "cell_type": "markdown",
   "metadata": {},
   "source": [
    "## Splitting up the training Data"
   ]
  },
  {
   "cell_type": "markdown",
   "metadata": {
    "ExecuteTime": {
     "end_time": "2017-07-29T00:17:31.410653Z",
     "start_time": "2017-07-29T00:17:31.407654Z"
    }
   },
   "source": [
    "## Fitting and Tuning an Classifier"
   ]
  },
  {
   "cell_type": "markdown",
   "metadata": {
    "ExecuteTime": {
     "end_time": "2017-07-29T00:15:16.938649Z",
     "start_time": "2017-07-29T00:15:16.935648Z"
    }
   },
   "source": [
    "## Validate with KFold"
   ]
  },
  {
   "cell_type": "markdown",
   "metadata": {},
   "source": [
    "## Model Version\n",
    "### Save model to file"
   ]
  },
  {
   "cell_type": "code",
   "execution_count": null,
   "metadata": {
    "ExecuteTime": {
     "end_time": "2017-07-29T13:33:57.897870Z",
     "start_time": "2017-07-29T13:33:45.867067Z"
    },
    "collapsed": true,
    "scrolled": true
   },
   "outputs": [],
   "source": [
    "from sklearn.externals import joblib\n",
    "\n",
    "version_name = input('version name: ')\n",
    "\n",
    "joblib.dump(clf, 'model_{}.pkl'.format(version_name)) "
   ]
  },
  {
   "cell_type": "markdown",
   "metadata": {},
   "source": [
    "### Load model from file"
   ]
  },
  {
   "cell_type": "code",
   "execution_count": null,
   "metadata": {
    "ExecuteTime": {
     "end_time": "2017-07-29T13:39:08.135726Z",
     "start_time": "2017-07-29T13:39:05.021230Z"
    },
    "collapsed": true
   },
   "outputs": [],
   "source": [
    "from sklearn.externals import joblib\n",
    "\n",
    "version_name = input('version name: ')\n",
    "\n",
    "clf = joblib.load('model_{}.pkl'.format(version_name)) "
   ]
  },
  {
   "cell_type": "markdown",
   "metadata": {},
   "source": [
    "## Predict the Actual Test Data"
   ]
  },
  {
   "cell_type": "code",
   "execution_count": null,
   "metadata": {
    "ExecuteTime": {
     "end_time": "2017-07-29T13:40:08.180743Z",
     "start_time": "2017-07-29T13:40:07.975742Z"
    },
    "collapsed": true,
    "scrolled": true
   },
   "outputs": [],
   "source": [
    "test = data_test.join(final_card_details.set_index('card_no'), on = 'card_no', how = 'left')\n",
    "predictions = clf.predict(test.drop('card_no', axis = 1))\n",
    "\n",
    "output = pd.DataFrame({'npl_flag': predictions })\n",
    "output.to_csv('1.txt', index = False, header = None)\n",
    "output.head(10)"
   ]
  }
 ],
 "metadata": {
  "kernelspec": {
   "display_name": "Python 3",
   "language": "python",
   "name": "python3"
  },
  "language_info": {
   "codemirror_mode": {
    "name": "ipython",
    "version": 3
   },
   "file_extension": ".py",
   "mimetype": "text/x-python",
   "name": "python",
   "nbconvert_exporter": "python",
   "pygments_lexer": "ipython3",
   "version": "3.6.2"
  },
  "toc": {
   "colors": {
    "hover_highlight": "#DAA520",
    "navigate_num": "#000000",
    "navigate_text": "#333333",
    "running_highlight": "#FF0000",
    "selected_highlight": "#FFD700",
    "sidebar_border": "#EEEEEE",
    "wrapper_background": "#FFFFFF"
   },
   "moveMenuLeft": true,
   "nav_menu": {
    "height": "12px",
    "width": "252px"
   },
   "navigate_menu": true,
   "number_sections": true,
   "sideBar": true,
   "threshold": 4,
   "toc_cell": false,
   "toc_section_display": "block",
   "toc_window_display": false,
   "widenNotebook": false
  }
 },
 "nbformat": 4,
 "nbformat_minor": 2
}
