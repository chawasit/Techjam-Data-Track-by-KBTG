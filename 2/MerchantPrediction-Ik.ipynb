{
 "cells": [
  {
   "cell_type": "code",
   "execution_count": 1,
   "metadata": {
    "ExecuteTime": {
     "end_time": "2017-07-28T14:42:39.094095Z",
     "start_time": "2017-07-28T14:42:38.509095Z"
    },
    "collapsed": true
   },
   "outputs": [],
   "source": [
    "import numpy as np\n",
    "import pandas as pd\n",
    "import matplotlib.pyplot as plt\n",
    "import seaborn as sns\n",
    "%matplotlib inline\n",
    "\n",
    "# Beautiful format for float type\n",
    "pd.set_option('display.float_format', lambda x: '%.3f' % x)"
   ]
  },
  {
   "cell_type": "code",
   "execution_count": 243,
   "metadata": {
    "ExecuteTime": {
     "end_time": "2017-07-28T18:47:37.516051Z",
     "start_time": "2017-07-28T18:47:36.268051Z"
    }
   },
   "outputs": [],
   "source": [
    "acc_x_card = pd.read_csv('tj_02_acc_x_card.csv')\n",
    "account_transaction = pd.read_csv('tj_02_account_transaction.csv')\n",
    "creditcard_transaction = pd.read_csv('tj_02_creditcard_transaction.csv')\n",
    "data_train = pd.read_csv('tj_02_training.csv', header=None, names=[\"account_no\", \"is_merchant\"])\n",
    "data_test = pd.read_csv('tj_02_test.csv', header=None, names=[\"account_no\"])"
   ]
  },
  {
   "cell_type": "code",
   "execution_count": 3,
   "metadata": {
    "ExecuteTime": {
     "end_time": "2017-07-28T14:42:41.970389Z",
     "start_time": "2017-07-28T14:42:41.957388Z"
    },
    "scrolled": true
   },
   "outputs": [
    {
     "name": "stdout",
     "output_type": "stream",
     "text": [
      "<class 'pandas.core.frame.DataFrame'>\n",
      "RangeIndex: 11652 entries, 0 to 11651\n",
      "Data columns (total 2 columns):\n",
      "account_no    11652 non-null int64\n",
      "card_no       7593 non-null float64\n",
      "dtypes: float64(1), int64(1)\n",
      "memory usage: 182.1 KB\n"
     ]
    },
    {
     "data": {
      "text/html": [
       "<div>\n",
       "<style>\n",
       "    .dataframe thead tr:only-child th {\n",
       "        text-align: right;\n",
       "    }\n",
       "\n",
       "    .dataframe thead th {\n",
       "        text-align: left;\n",
       "    }\n",
       "\n",
       "    .dataframe tbody tr th {\n",
       "        vertical-align: top;\n",
       "    }\n",
       "</style>\n",
       "<table border=\"1\" class=\"dataframe\">\n",
       "  <thead>\n",
       "    <tr style=\"text-align: right;\">\n",
       "      <th></th>\n",
       "      <th>account_no</th>\n",
       "      <th>card_no</th>\n",
       "    </tr>\n",
       "  </thead>\n",
       "  <tbody>\n",
       "    <tr>\n",
       "      <th>0</th>\n",
       "      <td>3450028461</td>\n",
       "      <td>1234000000026194.000</td>\n",
       "    </tr>\n",
       "    <tr>\n",
       "      <th>1</th>\n",
       "      <td>3450033777</td>\n",
       "      <td>1234000000010556.000</td>\n",
       "    </tr>\n",
       "    <tr>\n",
       "      <th>2</th>\n",
       "      <td>3450003701</td>\n",
       "      <td>1234000000027765.000</td>\n",
       "    </tr>\n",
       "    <tr>\n",
       "      <th>3</th>\n",
       "      <td>3450038496</td>\n",
       "      <td>1234000000013169.000</td>\n",
       "    </tr>\n",
       "    <tr>\n",
       "      <th>4</th>\n",
       "      <td>3450035935</td>\n",
       "      <td>1234000000009252.000</td>\n",
       "    </tr>\n",
       "  </tbody>\n",
       "</table>\n",
       "</div>"
      ],
      "text/plain": [
       "   account_no              card_no\n",
       "0  3450028461 1234000000026194.000\n",
       "1  3450033777 1234000000010556.000\n",
       "2  3450003701 1234000000027765.000\n",
       "3  3450038496 1234000000013169.000\n",
       "4  3450035935 1234000000009252.000"
      ]
     },
     "execution_count": 3,
     "metadata": {},
     "output_type": "execute_result"
    }
   ],
   "source": [
    "acc_x_card.info()\n",
    "acc_x_card['card_no'].fillna(-1)\n",
    "acc_x_card.head(5)"
   ]
  },
  {
   "cell_type": "markdown",
   "metadata": {},
   "source": [
    "### จำนวนคนที่มี card กับไม่มี"
   ]
  },
  {
   "cell_type": "code",
   "execution_count": 74,
   "metadata": {
    "ExecuteTime": {
     "end_time": "2017-07-28T15:39:06.714973Z",
     "start_time": "2017-07-28T15:39:06.706473Z"
    }
   },
   "outputs": [
    {
     "data": {
      "text/html": [
       "<div>\n",
       "<style>\n",
       "    .dataframe thead tr:only-child th {\n",
       "        text-align: right;\n",
       "    }\n",
       "\n",
       "    .dataframe thead th {\n",
       "        text-align: left;\n",
       "    }\n",
       "\n",
       "    .dataframe tbody tr th {\n",
       "        vertical-align: top;\n",
       "    }\n",
       "</style>\n",
       "<table border=\"1\" class=\"dataframe\">\n",
       "  <thead>\n",
       "    <tr style=\"text-align: right;\">\n",
       "      <th></th>\n",
       "      <th>card_no</th>\n",
       "    </tr>\n",
       "    <tr>\n",
       "      <th>account_no</th>\n",
       "      <th></th>\n",
       "    </tr>\n",
       "  </thead>\n",
       "  <tbody>\n",
       "    <tr>\n",
       "      <th>3450000010</th>\n",
       "      <td>1</td>\n",
       "    </tr>\n",
       "    <tr>\n",
       "      <th>3450000011</th>\n",
       "      <td>0</td>\n",
       "    </tr>\n",
       "    <tr>\n",
       "      <th>3450000012</th>\n",
       "      <td>0</td>\n",
       "    </tr>\n",
       "    <tr>\n",
       "      <th>3450000014</th>\n",
       "      <td>0</td>\n",
       "    </tr>\n",
       "    <tr>\n",
       "      <th>3450000015</th>\n",
       "      <td>0</td>\n",
       "    </tr>\n",
       "  </tbody>\n",
       "</table>\n",
       "</div>"
      ],
      "text/plain": [
       "            card_no\n",
       "account_no         \n",
       "3450000010        1\n",
       "3450000011        0\n",
       "3450000012        0\n",
       "3450000014        0\n",
       "3450000015        0"
      ]
     },
     "execution_count": 74,
     "metadata": {},
     "output_type": "execute_result"
    }
   ],
   "source": [
    "card_no = acc_x_card.groupby([\"account_no\"]).count()\n",
    "card_no.head()"
   ]
  },
  {
   "cell_type": "code",
   "execution_count": 73,
   "metadata": {
    "ExecuteTime": {
     "end_time": "2017-07-28T15:38:35.465707Z",
     "start_time": "2017-07-28T15:38:35.352710Z"
    },
    "scrolled": true
   },
   "outputs": [
    {
     "data": {
      "text/plain": [
       "<matplotlib.axes._subplots.AxesSubplot at 0x1816d87e5f8>"
      ]
     },
     "execution_count": 73,
     "metadata": {},
     "output_type": "execute_result"
    },
    {
     "data": {
      "image/png": "[encoded data removed]",
      "text/plain": [
       "<matplotlib.figure.Figure at 0x1816d6e4240>"
      ]
     },
     "metadata": {},
     "output_type": "display_data"
    }
   ],
   "source": [
    "sns.distplot(card_no['card_no'], kde=False)"
   ]
  },
  {
   "cell_type": "code",
   "execution_count": 100,
   "metadata": {
    "ExecuteTime": {
     "end_time": "2017-07-28T16:05:08.391522Z",
     "start_time": "2017-07-28T16:05:08.379523Z"
    }
   },
   "outputs": [
    {
     "data": {
      "text/html": [
       "<div>\n",
       "<style>\n",
       "    .dataframe thead tr:only-child th {\n",
       "        text-align: right;\n",
       "    }\n",
       "\n",
       "    .dataframe thead th {\n",
       "        text-align: left;\n",
       "    }\n",
       "\n",
       "    .dataframe tbody tr th {\n",
       "        vertical-align: top;\n",
       "    }\n",
       "</style>\n",
       "<table border=\"1\" class=\"dataframe\">\n",
       "  <thead>\n",
       "    <tr style=\"text-align: right;\">\n",
       "      <th></th>\n",
       "      <th></th>\n",
       "      <th>account_no</th>\n",
       "    </tr>\n",
       "    <tr>\n",
       "      <th>card_no</th>\n",
       "      <th>is_merchant</th>\n",
       "      <th></th>\n",
       "    </tr>\n",
       "  </thead>\n",
       "  <tbody>\n",
       "    <tr>\n",
       "      <th rowspan=\"2\" valign=\"top\">0</th>\n",
       "      <th>0</th>\n",
       "      <td>2117</td>\n",
       "    </tr>\n",
       "    <tr>\n",
       "      <th>1</th>\n",
       "      <td>1108</td>\n",
       "    </tr>\n",
       "    <tr>\n",
       "      <th rowspan=\"2\" valign=\"top\">1</th>\n",
       "      <th>0</th>\n",
       "      <td>4492</td>\n",
       "    </tr>\n",
       "    <tr>\n",
       "      <th>1</th>\n",
       "      <td>1604</td>\n",
       "    </tr>\n",
       "  </tbody>\n",
       "</table>\n",
       "</div>"
      ],
      "text/plain": [
       "                     account_no\n",
       "card_no is_merchant            \n",
       "0       0                  2117\n",
       "        1                  1108\n",
       "1       0                  4492\n",
       "        1                  1604"
      ]
     },
     "execution_count": 100,
     "metadata": {},
     "output_type": "execute_result"
    }
   ],
   "source": [
    "acc_x_card_x_merchant = data_train.copy()\n",
    "acc_x_card_x_merchant = acc_x_card_x_merchant.join(card_no, on='account_no')\n",
    "\n",
    "group_merchant_card = acc_x_card_x_merchant.groupby(['card_no', 'is_merchant']).count()\n",
    "group_merchant_card.head()"
   ]
  },
  {
   "cell_type": "code",
   "execution_count": 245,
   "metadata": {
    "ExecuteTime": {
     "end_time": "2017-07-28T18:48:51.363556Z",
     "start_time": "2017-07-28T18:48:28.990056Z"
    },
    "scrolled": true
   },
   "outputs": [
    {
     "data": {
      "text/html": [
       "<div>\n",
       "<style>\n",
       "    .dataframe thead tr:only-child th {\n",
       "        text-align: right;\n",
       "    }\n",
       "\n",
       "    .dataframe thead th {\n",
       "        text-align: left;\n",
       "    }\n",
       "\n",
       "    .dataframe tbody tr th {\n",
       "        vertical-align: top;\n",
       "    }\n",
       "</style>\n",
       "<table border=\"1\" class=\"dataframe\">\n",
       "  <thead>\n",
       "    <tr style=\"text-align: right;\">\n",
       "      <th></th>\n",
       "      <th>account_no</th>\n",
       "      <th>from_to_account_no</th>\n",
       "      <th>txn_amount</th>\n",
       "      <th>txn_dt</th>\n",
       "      <th>txn_hour</th>\n",
       "      <th>txn_type</th>\n",
       "      <th>day_of_week</th>\n",
       "      <th>monday</th>\n",
       "    </tr>\n",
       "  </thead>\n",
       "  <tbody>\n",
       "    <tr>\n",
       "      <th>1025096</th>\n",
       "      <td>3450001597</td>\n",
       "      <td>0</td>\n",
       "      <td>6000</td>\n",
       "      <td>2016-09-10</td>\n",
       "      <td>14</td>\n",
       "      <td>DR</td>\n",
       "      <td>5</td>\n",
       "      <td>False</td>\n",
       "    </tr>\n",
       "    <tr>\n",
       "      <th>387759</th>\n",
       "      <td>3450040167</td>\n",
       "      <td>3450647426</td>\n",
       "      <td>750</td>\n",
       "      <td>2016-06-06</td>\n",
       "      <td>10</td>\n",
       "      <td>CR</td>\n",
       "      <td>0</td>\n",
       "      <td>False</td>\n",
       "    </tr>\n",
       "    <tr>\n",
       "      <th>418303</th>\n",
       "      <td>3450040228</td>\n",
       "      <td>0</td>\n",
       "      <td>3000</td>\n",
       "      <td>2016-05-11</td>\n",
       "      <td>20</td>\n",
       "      <td>CR</td>\n",
       "      <td>2</td>\n",
       "      <td>False</td>\n",
       "    </tr>\n",
       "  </tbody>\n",
       "</table>\n",
       "</div>"
      ],
      "text/plain": [
       "         account_no  from_to_account_no  txn_amount      txn_dt  txn_hour  \\\n",
       "1025096  3450001597                   0        6000  2016-09-10        14   \n",
       "387759   3450040167          3450647426         750  2016-06-06        10   \n",
       "418303   3450040228                   0        3000  2016-05-11        20   \n",
       "\n",
       "        txn_type  day_of_week  monday  \n",
       "1025096       DR            5   False  \n",
       "387759        CR            0   False  \n",
       "418303        CR            2   False  "
      ]
     },
     "execution_count": 245,
     "metadata": {},
     "output_type": "execute_result"
    }
   ],
   "source": [
    "account_transaction['day_of_week'] = pd.to_datetime(account_transaction['txn_dt']).dt.dayofweek\n",
    "account_transaction.sample(3)"
   ]
  },
  {
   "cell_type": "code",
   "execution_count": 155,
   "metadata": {
    "ExecuteTime": {
     "end_time": "2017-07-28T17:03:15.766596Z",
     "start_time": "2017-07-28T17:02:01.857565Z"
    }
   },
   "outputs": [],
   "source": [
    "def day_of_week_transaction(accounts, transactions):\n",
    "    ret = accounts.copy()\n",
    "    ret['t_sunday'] = ret.apply(lambda row: transactions[(transactions.account_no == row['account_no']) & \\\n",
    "                                 (transactions.day_of_week == 0)].shape[0], axis=1)\n",
    "    return ret\n",
    "\n",
    "test = day_of_week_transaction(data_train, account_transaction)\n",
    "\n"
   ]
  },
  {
   "cell_type": "code",
   "execution_count": 248,
   "metadata": {
    "ExecuteTime": {
     "end_time": "2017-07-28T18:49:52.142124Z",
     "start_time": "2017-07-28T18:49:51.385623Z"
    }
   },
   "outputs": [
    {
     "data": {
      "text/html": [
       "<div>\n",
       "<style>\n",
       "    .dataframe thead tr:only-child th {\n",
       "        text-align: right;\n",
       "    }\n",
       "\n",
       "    .dataframe thead th {\n",
       "        text-align: left;\n",
       "    }\n",
       "\n",
       "    .dataframe tbody tr th {\n",
       "        vertical-align: top;\n",
       "    }\n",
       "</style>\n",
       "<table border=\"1\" class=\"dataframe\">\n",
       "  <thead>\n",
       "    <tr style=\"text-align: right;\">\n",
       "      <th></th>\n",
       "      <th>account_no</th>\n",
       "      <th>is_merchant</th>\n",
       "      <th>t_sunday</th>\n",
       "      <th>t_monday</th>\n",
       "      <th>t_tuesday</th>\n",
       "      <th>t_wednesday</th>\n",
       "      <th>t_thursday</th>\n",
       "      <th>t_friday</th>\n",
       "      <th>t_saturnday</th>\n",
       "    </tr>\n",
       "  </thead>\n",
       "  <tbody>\n",
       "    <tr>\n",
       "      <th>0</th>\n",
       "      <td>3450000010</td>\n",
       "      <td>1</td>\n",
       "      <td>127.000</td>\n",
       "      <td>85.000</td>\n",
       "      <td>80.000</td>\n",
       "      <td>87.000</td>\n",
       "      <td>87.000</td>\n",
       "      <td>75.000</td>\n",
       "      <td>78.000</td>\n",
       "    </tr>\n",
       "    <tr>\n",
       "      <th>1</th>\n",
       "      <td>3450000011</td>\n",
       "      <td>1</td>\n",
       "      <td>66.000</td>\n",
       "      <td>74.000</td>\n",
       "      <td>80.000</td>\n",
       "      <td>69.000</td>\n",
       "      <td>82.000</td>\n",
       "      <td>47.000</td>\n",
       "      <td>51.000</td>\n",
       "    </tr>\n",
       "    <tr>\n",
       "      <th>2</th>\n",
       "      <td>3450000012</td>\n",
       "      <td>1</td>\n",
       "      <td>7.000</td>\n",
       "      <td>7.000</td>\n",
       "      <td>6.000</td>\n",
       "      <td>3.000</td>\n",
       "      <td>3.000</td>\n",
       "      <td>3.000</td>\n",
       "      <td>7.000</td>\n",
       "    </tr>\n",
       "    <tr>\n",
       "      <th>3</th>\n",
       "      <td>3450000014</td>\n",
       "      <td>1</td>\n",
       "      <td>467.000</td>\n",
       "      <td>455.000</td>\n",
       "      <td>422.000</td>\n",
       "      <td>442.000</td>\n",
       "      <td>337.000</td>\n",
       "      <td>238.000</td>\n",
       "      <td>277.000</td>\n",
       "    </tr>\n",
       "    <tr>\n",
       "      <th>4</th>\n",
       "      <td>3450000017</td>\n",
       "      <td>0</td>\n",
       "      <td>1.000</td>\n",
       "      <td>0.000</td>\n",
       "      <td>0.000</td>\n",
       "      <td>0.000</td>\n",
       "      <td>0.000</td>\n",
       "      <td>0.000</td>\n",
       "      <td>0.000</td>\n",
       "    </tr>\n",
       "    <tr>\n",
       "      <th>5</th>\n",
       "      <td>3450000018</td>\n",
       "      <td>0</td>\n",
       "      <td>0.000</td>\n",
       "      <td>3.000</td>\n",
       "      <td>0.000</td>\n",
       "      <td>0.000</td>\n",
       "      <td>0.000</td>\n",
       "      <td>0.000</td>\n",
       "      <td>0.000</td>\n",
       "    </tr>\n",
       "    <tr>\n",
       "      <th>6</th>\n",
       "      <td>3450000028</td>\n",
       "      <td>1</td>\n",
       "      <td>32.000</td>\n",
       "      <td>31.000</td>\n",
       "      <td>30.000</td>\n",
       "      <td>28.000</td>\n",
       "      <td>29.000</td>\n",
       "      <td>41.000</td>\n",
       "      <td>37.000</td>\n",
       "    </tr>\n",
       "    <tr>\n",
       "      <th>7</th>\n",
       "      <td>3450000029</td>\n",
       "      <td>1</td>\n",
       "      <td>21.000</td>\n",
       "      <td>8.000</td>\n",
       "      <td>21.000</td>\n",
       "      <td>17.000</td>\n",
       "      <td>17.000</td>\n",
       "      <td>18.000</td>\n",
       "      <td>7.000</td>\n",
       "    </tr>\n",
       "    <tr>\n",
       "      <th>8</th>\n",
       "      <td>3450000030</td>\n",
       "      <td>0</td>\n",
       "      <td>1.000</td>\n",
       "      <td>1.000</td>\n",
       "      <td>1.000</td>\n",
       "      <td>0.000</td>\n",
       "      <td>1.000</td>\n",
       "      <td>1.000</td>\n",
       "      <td>0.000</td>\n",
       "    </tr>\n",
       "    <tr>\n",
       "      <th>9</th>\n",
       "      <td>3450000034</td>\n",
       "      <td>1</td>\n",
       "      <td>98.000</td>\n",
       "      <td>106.000</td>\n",
       "      <td>85.000</td>\n",
       "      <td>97.000</td>\n",
       "      <td>104.000</td>\n",
       "      <td>7.000</td>\n",
       "      <td>7.000</td>\n",
       "    </tr>\n",
       "  </tbody>\n",
       "</table>\n",
       "</div>"
      ],
      "text/plain": [
       "   account_no  is_merchant  t_sunday  t_monday  t_tuesday  t_wednesday  \\\n",
       "0  3450000010            1   127.000    85.000     80.000       87.000   \n",
       "1  3450000011            1    66.000    74.000     80.000       69.000   \n",
       "2  3450000012            1     7.000     7.000      6.000        3.000   \n",
       "3  3450000014            1   467.000   455.000    422.000      442.000   \n",
       "4  3450000017            0     1.000     0.000      0.000        0.000   \n",
       "5  3450000018            0     0.000     3.000      0.000        0.000   \n",
       "6  3450000028            1    32.000    31.000     30.000       28.000   \n",
       "7  3450000029            1    21.000     8.000     21.000       17.000   \n",
       "8  3450000030            0     1.000     1.000      1.000        0.000   \n",
       "9  3450000034            1    98.000   106.000     85.000       97.000   \n",
       "\n",
       "   t_thursday  t_friday  t_saturnday  \n",
       "0      87.000    75.000       78.000  \n",
       "1      82.000    47.000       51.000  \n",
       "2       3.000     3.000        7.000  \n",
       "3     337.000   238.000      277.000  \n",
       "4       0.000     0.000        0.000  \n",
       "5       0.000     0.000        0.000  \n",
       "6      29.000    41.000       37.000  \n",
       "7      17.000    18.000        7.000  \n",
       "8       1.000     1.000        0.000  \n",
       "9     104.000     7.000        7.000  "
      ]
     },
     "execution_count": 248,
     "metadata": {},
     "output_type": "execute_result"
    }
   ],
   "source": [
    "test = data_train.join(account_transaction.set_index('account_no'), on='account_no', how='left')\n",
    "test = test[test['from_to_account_no'] != 0]\n",
    "test2 = test[['account_no', 'is_merchant', 'day_of_week']].groupby(['account_no', 'is_merchant', 'day_of_week'])\n",
    "test3 = test2.count().join(pd.DataFrame(test2.size(), columns=['counts'])).reset_index()\n",
    "\n",
    "test3['t_sunday'] =    test3['counts'][test3['day_of_week'] == 0]\n",
    "test3['t_monday'] =    test3['counts'][test3['day_of_week'] == 1]\n",
    "test3['t_tuesday'] =   test3['counts'][test3['day_of_week'] == 2]\n",
    "test3['t_wednesday'] = test3['counts'][test3['day_of_week'] == 3]\n",
    "test3['t_thursday'] =  test3['counts'][test3['day_of_week'] == 4]\n",
    "test3['t_friday'] =    test3['counts'][test3['day_of_week'] == 5]\n",
    "test3['t_saturnday'] = test3['counts'][test3['day_of_week'] == 6]\n",
    "test3 = test3.drop(['counts', 'day_of_week'], axis=1).fillna(0)\n",
    "\n",
    "\n",
    "test4 = test3.groupby(['account_no', 'is_merchant']).sum().reset_index()\n",
    "test4.head(10)"
   ]
  },
  {
   "cell_type": "markdown",
   "metadata": {},
   "source": [
    "### Try to use features"
   ]
  },
  {
   "cell_type": "code",
   "execution_count": 250,
   "metadata": {
    "ExecuteTime": {
     "end_time": "2017-07-28T18:49:58.296956Z",
     "start_time": "2017-07-28T18:49:58.289956Z"
    },
    "collapsed": true
   },
   "outputs": [],
   "source": [
    "from sklearn.model_selection import train_test_split\n",
    "\n",
    "X_all = test4.drop(['account_no', 'is_merchant'], axis=1)\n",
    "y_all = test4['is_merchant']\n",
    "\n",
    "num_test = 0.20\n",
    "X_train, X_test, y_train, y_test = train_test_split(X_all, y_all, test_size=num_test, random_state=23)"
   ]
  },
  {
   "cell_type": "code",
   "execution_count": 269,
   "metadata": {
    "ExecuteTime": {
     "end_time": "2017-07-28T20:23:17.322170Z",
     "start_time": "2017-07-28T20:06:55.705649Z"
    }
   },
   "outputs": [
    {
     "data": {
      "text/plain": [
       "RandomForestClassifier(bootstrap=True, class_weight=None, criterion='entropy',\n",
       "            max_depth=5, max_features='auto', max_leaf_nodes=None,\n",
       "            min_impurity_split=1e-07, min_samples_leaf=1,\n",
       "            min_samples_split=3, min_weight_fraction_leaf=0.0,\n",
       "            n_estimators=500, n_jobs=1, oob_score=False, random_state=None,\n",
       "            verbose=0, warm_start=False)"
      ]
     },
     "execution_count": 269,
     "metadata": {},
     "output_type": "execute_result"
    }
   ],
   "source": [
    "from sklearn.ensemble import RandomForestClassifier\n",
    "from sklearn.metrics import make_scorer, accuracy_score\n",
    "from sklearn.model_selection import GridSearchCV\n",
    "\n",
    "# Choose the type of classifier. \n",
    "clf = RandomForestClassifier()\n",
    "\n",
    "# Choose some parameter combinations to try\n",
    "parameters = {'n_estimators': [4, 6, 500], \n",
    "              'max_features': ['log2', 'sqrt', 'auto'], \n",
    "              'criterion': ['entropy', 'gini'],\n",
    "              'max_depth': [2, 3, 5, 10], \n",
    "              'min_samples_split': [2, 3, 5],\n",
    "              'min_samples_leaf': [1, 5, 8]\n",
    "             }\n",
    "\n",
    "# Type of scoring used to compare parameter combinations\n",
    "acc_scorer = make_scorer(accuracy_score)\n",
    "\n",
    "# Run the grid search\n",
    "grid_obj = GridSearchCV(clf, parameters, scoring=acc_scorer)\n",
    "grid_obj = grid_obj.fit(X_train, y_train)\n",
    "\n",
    "# Set the clf to the best combination of parameters\n",
    "clf = grid_obj.best_estimator_\n",
    "\n",
    "# Fit the best algorithm to the data. \n",
    "clf.fit(X_train, y_train)\n"
   ]
  },
  {
   "cell_type": "code",
   "execution_count": 267,
   "metadata": {
    "ExecuteTime": {
     "end_time": "2017-07-28T20:06:35.958076Z",
     "start_time": "2017-07-28T20:06:35.942577Z"
    }
   },
   "outputs": [
    {
     "data": {
      "text/plain": [
       "KNeighborsClassifier(algorithm='auto', leaf_size=30, metric='minkowski',\n",
       "           metric_params=None, n_jobs=1, n_neighbors=5, p=2,\n",
       "           weights='uniform')"
      ]
     },
     "execution_count": 267,
     "metadata": {},
     "output_type": "execute_result"
    }
   ],
   "source": [
    "from sklearn.neighbors import KNeighborsClassifier\n",
    "clf = KNeighborsClassifier()\n",
    "\n",
    "clf.fit(X_train, y_train)"
   ]
  },
  {
   "cell_type": "markdown",
   "metadata": {},
   "source": [
    "# WTF"
   ]
  },
  {
   "cell_type": "code",
   "execution_count": 273,
   "metadata": {
    "ExecuteTime": {
     "end_time": "2017-07-28T21:21:48.329083Z",
     "start_time": "2017-07-28T21:21:48.219583Z"
    }
   },
   "outputs": [
    {
     "name": "stdout",
     "output_type": "stream",
     "text": [
      "0.811221122112\n"
     ]
    }
   ],
   "source": [
    "predictions = clf.predict(X_test)\n",
    "print(accuracy_score(y_test, predictions))"
   ]
  },
  {
   "cell_type": "code",
   "execution_count": 276,
   "metadata": {
    "ExecuteTime": {
     "end_time": "2017-07-28T21:22:19.282104Z",
     "start_time": "2017-07-28T21:22:19.276605Z"
    }
   },
   "outputs": [
    {
     "data": {
      "text/plain": [
       "sklearn.ensemble.forest.RandomForestClassifier"
      ]
     },
     "execution_count": 276,
     "metadata": {},
     "output_type": "execute_result"
    }
   ],
   "source": [
    "type(clf)\n",
    "X_train.shape"
   ]
  },
  {
   "cell_type": "code",
   "execution_count": 274,
   "metadata": {
    "ExecuteTime": {
     "end_time": "2017-07-28T21:22:06.623603Z",
     "start_time": "2017-07-28T21:21:51.939104Z"
    },
    "scrolled": true
   },
   "outputs": [
    {
     "name": "stdout",
     "output_type": "stream",
     "text": [
      "Fold 1 accuracy: 0.8052805280528053\n",
      "Fold 2 accuracy: 0.8003300330033003\n",
      "Fold 3 accuracy: 0.7887788778877888\n",
      "Fold 4 accuracy: 0.7854785478547854\n",
      "Fold 5 accuracy: 0.806930693069307\n",
      "Fold 6 accuracy: 0.8135313531353136\n",
      "Fold 7 accuracy: 0.7739273927392739\n",
      "Fold 8 accuracy: 0.7970297029702971\n",
      "Fold 9 accuracy: 0.7735537190082644\n",
      "Fold 10 accuracy: 0.7834710743801653\n",
      "Mean Accuracy: 0.7928311922101301\n"
     ]
    }
   ],
   "source": [
    "from sklearn.cross_validation import KFold\n",
    "\n",
    "def run_kfold(clf):\n",
    "    kf = KFold(6058, n_folds=10)\n",
    "    outcomes = []\n",
    "    fold = 0\n",
    "    for train_index, test_index in kf:\n",
    "        fold += 1\n",
    "        X_train, X_test = X_all.values[train_index], X_all.values[test_index]\n",
    "        y_train, y_test = y_all.values[train_index], y_all.values[test_index]\n",
    "        clf.fit(X_train, y_train)\n",
    "        predictions = clf.predict(X_test)\n",
    "        accuracy = accuracy_score(y_test, predictions)\n",
    "        outcomes.append(accuracy)\n",
    "        print(\"Fold {0} accuracy: {1}\".format(fold, accuracy))     \n",
    "    mean_outcome = np.mean(outcomes)\n",
    "    print(\"Mean Accuracy: {0}\".format(mean_outcome)) \n",
    "\n",
    "run_kfold(clf)"
   ]
  },
  {
   "cell_type": "code",
   "execution_count": 277,
   "metadata": {
    "ExecuteTime": {
     "end_time": "2017-07-28T21:22:35.506105Z",
     "start_time": "2017-07-28T21:22:34.730605Z"
    },
    "scrolled": false
   },
   "outputs": [
    {
     "data": {
      "text/html": [
       "<div>\n",
       "<style>\n",
       "    .dataframe thead tr:only-child th {\n",
       "        text-align: right;\n",
       "    }\n",
       "\n",
       "    .dataframe thead th {\n",
       "        text-align: left;\n",
       "    }\n",
       "\n",
       "    .dataframe tbody tr th {\n",
       "        vertical-align: top;\n",
       "    }\n",
       "</style>\n",
       "<table border=\"1\" class=\"dataframe\">\n",
       "  <thead>\n",
       "    <tr style=\"text-align: right;\">\n",
       "      <th></th>\n",
       "      <th>is_merchant</th>\n",
       "    </tr>\n",
       "  </thead>\n",
       "  <tbody>\n",
       "    <tr>\n",
       "      <th>0</th>\n",
       "      <td>0</td>\n",
       "    </tr>\n",
       "    <tr>\n",
       "      <th>1</th>\n",
       "      <td>1</td>\n",
       "    </tr>\n",
       "    <tr>\n",
       "      <th>2</th>\n",
       "      <td>1</td>\n",
       "    </tr>\n",
       "    <tr>\n",
       "      <th>3</th>\n",
       "      <td>1</td>\n",
       "    </tr>\n",
       "    <tr>\n",
       "      <th>4</th>\n",
       "      <td>1</td>\n",
       "    </tr>\n",
       "    <tr>\n",
       "      <th>5</th>\n",
       "      <td>1</td>\n",
       "    </tr>\n",
       "    <tr>\n",
       "      <th>6</th>\n",
       "      <td>0</td>\n",
       "    </tr>\n",
       "    <tr>\n",
       "      <th>7</th>\n",
       "      <td>1</td>\n",
       "    </tr>\n",
       "    <tr>\n",
       "      <th>8</th>\n",
       "      <td>1</td>\n",
       "    </tr>\n",
       "    <tr>\n",
       "      <th>9</th>\n",
       "      <td>1</td>\n",
       "    </tr>\n",
       "    <tr>\n",
       "      <th>10</th>\n",
       "      <td>1</td>\n",
       "    </tr>\n",
       "    <tr>\n",
       "      <th>11</th>\n",
       "      <td>0</td>\n",
       "    </tr>\n",
       "    <tr>\n",
       "      <th>12</th>\n",
       "      <td>1</td>\n",
       "    </tr>\n",
       "    <tr>\n",
       "      <th>13</th>\n",
       "      <td>0</td>\n",
       "    </tr>\n",
       "    <tr>\n",
       "      <th>14</th>\n",
       "      <td>1</td>\n",
       "    </tr>\n",
       "    <tr>\n",
       "      <th>15</th>\n",
       "      <td>0</td>\n",
       "    </tr>\n",
       "    <tr>\n",
       "      <th>16</th>\n",
       "      <td>0</td>\n",
       "    </tr>\n",
       "    <tr>\n",
       "      <th>17</th>\n",
       "      <td>0</td>\n",
       "    </tr>\n",
       "    <tr>\n",
       "      <th>18</th>\n",
       "      <td>1</td>\n",
       "    </tr>\n",
       "    <tr>\n",
       "      <th>19</th>\n",
       "      <td>1</td>\n",
       "    </tr>\n",
       "    <tr>\n",
       "      <th>20</th>\n",
       "      <td>0</td>\n",
       "    </tr>\n",
       "    <tr>\n",
       "      <th>21</th>\n",
       "      <td>0</td>\n",
       "    </tr>\n",
       "    <tr>\n",
       "      <th>22</th>\n",
       "      <td>1</td>\n",
       "    </tr>\n",
       "    <tr>\n",
       "      <th>23</th>\n",
       "      <td>0</td>\n",
       "    </tr>\n",
       "    <tr>\n",
       "      <th>24</th>\n",
       "      <td>0</td>\n",
       "    </tr>\n",
       "    <tr>\n",
       "      <th>25</th>\n",
       "      <td>0</td>\n",
       "    </tr>\n",
       "    <tr>\n",
       "      <th>26</th>\n",
       "      <td>1</td>\n",
       "    </tr>\n",
       "    <tr>\n",
       "      <th>27</th>\n",
       "      <td>1</td>\n",
       "    </tr>\n",
       "    <tr>\n",
       "      <th>28</th>\n",
       "      <td>1</td>\n",
       "    </tr>\n",
       "    <tr>\n",
       "      <th>29</th>\n",
       "      <td>1</td>\n",
       "    </tr>\n",
       "    <tr>\n",
       "      <th>...</th>\n",
       "      <td>...</td>\n",
       "    </tr>\n",
       "    <tr>\n",
       "      <th>70</th>\n",
       "      <td>0</td>\n",
       "    </tr>\n",
       "    <tr>\n",
       "      <th>71</th>\n",
       "      <td>0</td>\n",
       "    </tr>\n",
       "    <tr>\n",
       "      <th>72</th>\n",
       "      <td>0</td>\n",
       "    </tr>\n",
       "    <tr>\n",
       "      <th>73</th>\n",
       "      <td>0</td>\n",
       "    </tr>\n",
       "    <tr>\n",
       "      <th>74</th>\n",
       "      <td>1</td>\n",
       "    </tr>\n",
       "    <tr>\n",
       "      <th>75</th>\n",
       "      <td>1</td>\n",
       "    </tr>\n",
       "    <tr>\n",
       "      <th>76</th>\n",
       "      <td>1</td>\n",
       "    </tr>\n",
       "    <tr>\n",
       "      <th>77</th>\n",
       "      <td>1</td>\n",
       "    </tr>\n",
       "    <tr>\n",
       "      <th>78</th>\n",
       "      <td>0</td>\n",
       "    </tr>\n",
       "    <tr>\n",
       "      <th>79</th>\n",
       "      <td>0</td>\n",
       "    </tr>\n",
       "    <tr>\n",
       "      <th>80</th>\n",
       "      <td>0</td>\n",
       "    </tr>\n",
       "    <tr>\n",
       "      <th>81</th>\n",
       "      <td>0</td>\n",
       "    </tr>\n",
       "    <tr>\n",
       "      <th>82</th>\n",
       "      <td>0</td>\n",
       "    </tr>\n",
       "    <tr>\n",
       "      <th>83</th>\n",
       "      <td>1</td>\n",
       "    </tr>\n",
       "    <tr>\n",
       "      <th>84</th>\n",
       "      <td>0</td>\n",
       "    </tr>\n",
       "    <tr>\n",
       "      <th>85</th>\n",
       "      <td>1</td>\n",
       "    </tr>\n",
       "    <tr>\n",
       "      <th>86</th>\n",
       "      <td>0</td>\n",
       "    </tr>\n",
       "    <tr>\n",
       "      <th>87</th>\n",
       "      <td>1</td>\n",
       "    </tr>\n",
       "    <tr>\n",
       "      <th>88</th>\n",
       "      <td>1</td>\n",
       "    </tr>\n",
       "    <tr>\n",
       "      <th>89</th>\n",
       "      <td>1</td>\n",
       "    </tr>\n",
       "    <tr>\n",
       "      <th>90</th>\n",
       "      <td>0</td>\n",
       "    </tr>\n",
       "    <tr>\n",
       "      <th>91</th>\n",
       "      <td>0</td>\n",
       "    </tr>\n",
       "    <tr>\n",
       "      <th>92</th>\n",
       "      <td>0</td>\n",
       "    </tr>\n",
       "    <tr>\n",
       "      <th>93</th>\n",
       "      <td>0</td>\n",
       "    </tr>\n",
       "    <tr>\n",
       "      <th>94</th>\n",
       "      <td>1</td>\n",
       "    </tr>\n",
       "    <tr>\n",
       "      <th>95</th>\n",
       "      <td>1</td>\n",
       "    </tr>\n",
       "    <tr>\n",
       "      <th>96</th>\n",
       "      <td>1</td>\n",
       "    </tr>\n",
       "    <tr>\n",
       "      <th>97</th>\n",
       "      <td>1</td>\n",
       "    </tr>\n",
       "    <tr>\n",
       "      <th>98</th>\n",
       "      <td>0</td>\n",
       "    </tr>\n",
       "    <tr>\n",
       "      <th>99</th>\n",
       "      <td>0</td>\n",
       "    </tr>\n",
       "  </tbody>\n",
       "</table>\n",
       "<p>100 rows × 1 columns</p>\n",
       "</div>"
      ],
      "text/plain": [
       "    is_merchant\n",
       "0             0\n",
       "1             1\n",
       "2             1\n",
       "3             1\n",
       "4             1\n",
       "5             1\n",
       "6             0\n",
       "7             1\n",
       "8             1\n",
       "9             1\n",
       "10            1\n",
       "11            0\n",
       "12            1\n",
       "13            0\n",
       "14            1\n",
       "15            0\n",
       "16            0\n",
       "17            0\n",
       "18            1\n",
       "19            1\n",
       "20            0\n",
       "21            0\n",
       "22            1\n",
       "23            0\n",
       "24            0\n",
       "25            0\n",
       "26            1\n",
       "27            1\n",
       "28            1\n",
       "29            1\n",
       "..          ...\n",
       "70            0\n",
       "71            0\n",
       "72            0\n",
       "73            0\n",
       "74            1\n",
       "75            1\n",
       "76            1\n",
       "77            1\n",
       "78            0\n",
       "79            0\n",
       "80            0\n",
       "81            0\n",
       "82            0\n",
       "83            1\n",
       "84            0\n",
       "85            1\n",
       "86            0\n",
       "87            1\n",
       "88            1\n",
       "89            1\n",
       "90            0\n",
       "91            0\n",
       "92            0\n",
       "93            0\n",
       "94            1\n",
       "95            1\n",
       "96            1\n",
       "97            1\n",
       "98            0\n",
       "99            0\n",
       "\n",
       "[100 rows x 1 columns]"
      ]
     },
     "execution_count": 277,
     "metadata": {},
     "output_type": "execute_result"
    }
   ],
   "source": [
    "test = data_test.join(account_transaction.set_index('account_no'), on='account_no', how='left')\n",
    "\n",
    "test2 = test[['account_no', 'day_of_week']].groupby(['account_no', 'day_of_week'])\n",
    "test3 = test2.count().join(pd.DataFrame(test2.size(), columns=['counts'])).reset_index()\n",
    "\n",
    "test3['t_sunday'] =    test3['counts'][test3['day_of_week'] == 0]\n",
    "test3['t_monday'] =    test3['counts'][test3['day_of_week'] == 1]\n",
    "test3['t_tuesday'] =   test3['counts'][test3['day_of_week'] == 2]\n",
    "test3['t_wednesday'] = test3['counts'][test3['day_of_week'] == 3]\n",
    "test3['t_thursday'] =  test3['counts'][test3['day_of_week'] == 4]\n",
    "test3['t_friday'] =    test3['counts'][test3['day_of_week'] == 5]\n",
    "test3['t_saturnday'] = test3['counts'][test3['day_of_week'] == 6]\n",
    "test3 = test3.drop(['counts', 'day_of_week'], axis=1).fillna(0)\n",
    "\n",
    "test4 = test3.groupby(['account_no']).sum().reset_index()\n",
    "\n",
    "ids = test4['account_no']\n",
    "predictions = clf.predict(test4.drop('account_no', axis=1))\n",
    "\n",
    "\n",
    "output = pd.DataFrame({'is_merchant': predictions })\n",
    "output.to_csv('2.csv', index=False, header=None)\n",
    "output.head(100)"
   ]
  }
 ],
 "metadata": {
  "kernelspec": {
   "display_name": "Python 3",
   "language": "python",
   "name": "python3"
  },
  "language_info": {
   "codemirror_mode": {
    "name": "ipython",
    "version": 3
   },
   "file_extension": ".py",
   "mimetype": "text/x-python",
   "name": "python",
   "nbconvert_exporter": "python",
   "pygments_lexer": "ipython3",
   "version": "3.6.2"
  },
  "toc": {
   "colors": {
    "hover_highlight": "#DAA520",
    "navigate_num": "#000000",
    "navigate_text": "#333333",
    "running_highlight": "#FF0000",
    "selected_highlight": "#FFD700",
    "sidebar_border": "#EEEEEE",
    "wrapper_background": "#FFFFFF"
   },
   "moveMenuLeft": true,
   "nav_menu": {
    "height": "12px",
    "width": "252px"
   },
   "navigate_menu": true,
   "number_sections": true,
   "sideBar": true,
   "threshold": 4,
   "toc_cell": false,
   "toc_section_display": "block",
   "toc_window_display": false,
   "widenNotebook": false
  }
 },
 "nbformat": 4,
 "nbformat_minor": 2
}