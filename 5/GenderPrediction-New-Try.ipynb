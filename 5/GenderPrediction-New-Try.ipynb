{
 "cells": [
  {
   "cell_type": "markdown",
   "metadata": {
    "ExecuteTime": {
     "end_time": "2017-07-28T22:23:30.818775Z",
     "start_time": "2017-07-28T22:23:30.811276Z"
    }
   },
   "source": [
    "# Gender Prediction from Credit Card Transactions\n",
    "\n",
    "Exploring the ways customers’ use their credit cards will give banks, researchers, marketers\n",
    "and economists more information to understand their spending habits. With this kind of\n",
    "knowledge, banks or marketing strategists could tailor their marketing and communication\n",
    "programs according to customers’ consumption behaviors or patterns.\n",
    " \n",
    "This problem focuses on credit card spending transactions to answer a simple question: could\n",
    "you train an algorithm to predict the gender of the owner of a credit card?\n"
   ]
  },
  {
   "cell_type": "code",
   "execution_count": 1,
   "metadata": {
    "ExecuteTime": {
     "end_time": "2017-07-30T09:18:25.066250Z",
     "start_time": "2017-07-30T09:18:24.544753Z"
    },
    "collapsed": true
   },
   "outputs": [],
   "source": [
    "import pandas as pd\n",
    "import numpy as np\n",
    "import seaborn as sns\n",
    "from matplotlib import pyplot as plt\n",
    "%matplotlib inline\n",
    "\n",
    "# Beautiful format for float type\n",
    "pd.set_option('display.float_format', lambda x: '%.3f' % x)"
   ]
  },
  {
   "cell_type": "markdown",
   "metadata": {},
   "source": [
    "## CSV to DataFrame"
   ]
  },
  {
   "cell_type": "code",
   "execution_count": 2,
   "metadata": {
    "ExecuteTime": {
     "end_time": "2017-07-30T09:18:25.594751Z",
     "start_time": "2017-07-30T09:18:25.067252Z"
    },
    "collapsed": true
   },
   "outputs": [],
   "source": [
    "transactions = pd.read_csv('tj_05_credit_card_transaction.csv')\n",
    "\n",
    "mcc_codes = pd.read_csv('mcc_codes.csv')\n",
    "\n",
    "data_train = pd.read_csv('tj_05_training.csv', names = ['card_no', 'gender'])\n",
    "data_train = data_train.drop_duplicates(keep = False, subset = 'card_no')\n",
    "\n",
    "data_test = pd.read_csv('tj_05_test.csv', names = ['card_no'])"
   ]
  },
  {
   "cell_type": "code",
   "execution_count": 3,
   "metadata": {
    "ExecuteTime": {
     "end_time": "2017-07-30T09:18:25.607751Z",
     "start_time": "2017-07-30T09:18:25.595751Z"
    }
   },
   "outputs": [
    {
     "data": {
      "text/html": [
       "<div>\n",
       "<style>\n",
       "    .dataframe thead tr:only-child th {\n",
       "        text-align: right;\n",
       "    }\n",
       "\n",
       "    .dataframe thead th {\n",
       "        text-align: left;\n",
       "    }\n",
       "\n",
       "    .dataframe tbody tr th {\n",
       "        vertical-align: top;\n",
       "    }\n",
       "</style>\n",
       "<table border=\"1\" class=\"dataframe\">\n",
       "  <thead>\n",
       "    <tr style=\"text-align: right;\">\n",
       "      <th></th>\n",
       "      <th>card_no</th>\n",
       "      <th>gender</th>\n",
       "    </tr>\n",
       "  </thead>\n",
       "  <tbody>\n",
       "    <tr>\n",
       "      <th>count</th>\n",
       "      <td>17414.000</td>\n",
       "      <td>17414.000</td>\n",
       "    </tr>\n",
       "    <tr>\n",
       "      <th>mean</th>\n",
       "      <td>1234000000014123.250</td>\n",
       "      <td>0.439</td>\n",
       "    </tr>\n",
       "    <tr>\n",
       "      <th>std</th>\n",
       "      <td>8104.257</td>\n",
       "      <td>0.496</td>\n",
       "    </tr>\n",
       "    <tr>\n",
       "      <th>min</th>\n",
       "      <td>1234000000000001.000</td>\n",
       "      <td>0.000</td>\n",
       "    </tr>\n",
       "    <tr>\n",
       "      <th>25%</th>\n",
       "      <td>1234000000007127.250</td>\n",
       "      <td>0.000</td>\n",
       "    </tr>\n",
       "    <tr>\n",
       "      <th>50%</th>\n",
       "      <td>1234000000014129.500</td>\n",
       "      <td>0.000</td>\n",
       "    </tr>\n",
       "    <tr>\n",
       "      <th>75%</th>\n",
       "      <td>1234000000021158.500</td>\n",
       "      <td>1.000</td>\n",
       "    </tr>\n",
       "    <tr>\n",
       "      <th>max</th>\n",
       "      <td>1234000000028172.000</td>\n",
       "      <td>1.000</td>\n",
       "    </tr>\n",
       "  </tbody>\n",
       "</table>\n",
       "</div>"
      ],
      "text/plain": [
       "                   card_no    gender\n",
       "count            17414.000 17414.000\n",
       "mean  1234000000014123.250     0.439\n",
       "std               8104.257     0.496\n",
       "min   1234000000000001.000     0.000\n",
       "25%   1234000000007127.250     0.000\n",
       "50%   1234000000014129.500     0.000\n",
       "75%   1234000000021158.500     1.000\n",
       "max   1234000000028172.000     1.000"
      ]
     },
     "execution_count": 3,
     "metadata": {},
     "output_type": "execute_result"
    }
   ],
   "source": [
    "data_train.describe()"
   ]
  },
  {
   "cell_type": "markdown",
   "metadata": {},
   "source": [
    "## Merge Related DataFrame"
   ]
  },
  {
   "cell_type": "code",
   "execution_count": 4,
   "metadata": {
    "ExecuteTime": {
     "end_time": "2017-07-30T09:18:25.820251Z",
     "start_time": "2017-07-30T09:18:25.609253Z"
    }
   },
   "outputs": [
    {
     "data": {
      "text/html": [
       "<div>\n",
       "<style>\n",
       "    .dataframe thead tr:only-child th {\n",
       "        text-align: right;\n",
       "    }\n",
       "\n",
       "    .dataframe thead th {\n",
       "        text-align: left;\n",
       "    }\n",
       "\n",
       "    .dataframe tbody tr th {\n",
       "        vertical-align: top;\n",
       "    }\n",
       "</style>\n",
       "<table border=\"1\" class=\"dataframe\">\n",
       "  <thead>\n",
       "    <tr style=\"text-align: right;\">\n",
       "      <th></th>\n",
       "      <th>card_no</th>\n",
       "      <th>txn_date</th>\n",
       "      <th>txn_hour</th>\n",
       "      <th>txn_amount</th>\n",
       "      <th>mer_cat_code</th>\n",
       "      <th>mer_id</th>\n",
       "      <th>edited_description</th>\n",
       "      <th>combined_description</th>\n",
       "      <th>usda_description</th>\n",
       "      <th>irs_description</th>\n",
       "      <th>irs_reportable</th>\n",
       "    </tr>\n",
       "  </thead>\n",
       "  <tbody>\n",
       "    <tr>\n",
       "      <th>0</th>\n",
       "      <td>1234000000009154</td>\n",
       "      <td>2016-12-07 00:00:00</td>\n",
       "      <td>22.000</td>\n",
       "      <td>1550.000</td>\n",
       "      <td>4511.000</td>\n",
       "      <td>0</td>\n",
       "      <td>Airlines, Air Carriers ( not listed elsewhere)</td>\n",
       "      <td>Airlines, Air Carriers ( not listed elsewhere)</td>\n",
       "      <td>Airlines, Air Carriers ( not listed elsewhere)</td>\n",
       "      <td>Airlines, Air Carriers</td>\n",
       "      <td>Yes</td>\n",
       "    </tr>\n",
       "    <tr>\n",
       "      <th>1</th>\n",
       "      <td>1234000000017165</td>\n",
       "      <td>2016-12-07 00:00:00</td>\n",
       "      <td>22.000</td>\n",
       "      <td>250.000</td>\n",
       "      <td>6011.000</td>\n",
       "      <td>0</td>\n",
       "      <td>Financial Institutions – Manual Cash Disbursem...</td>\n",
       "      <td>Financial Institutions – Manual Cash Disbursem...</td>\n",
       "      <td>Financial Institutions – Manual Cash Disbursem...</td>\n",
       "      <td>Automated Cash Disburse</td>\n",
       "      <td>No1.6041-3(c)</td>\n",
       "    </tr>\n",
       "    <tr>\n",
       "      <th>2</th>\n",
       "      <td>1234000000000768</td>\n",
       "      <td>2016-12-07 00:00:00</td>\n",
       "      <td>22.000</td>\n",
       "      <td>250.000</td>\n",
       "      <td>8398.000</td>\n",
       "      <td>0</td>\n",
       "      <td>Charitable and Social Service Organizations</td>\n",
       "      <td>Charitable and Social Service Organizations</td>\n",
       "      <td>Charitable and Social Service Organizations</td>\n",
       "      <td>Charitable and Social Service Organizations - ...</td>\n",
       "      <td>No1.6041-3(p)(2)</td>\n",
       "    </tr>\n",
       "    <tr>\n",
       "      <th>3</th>\n",
       "      <td>1234000000018716</td>\n",
       "      <td>2016-12-07 00:00:00</td>\n",
       "      <td>22.000</td>\n",
       "      <td>50.000</td>\n",
       "      <td>5735.000</td>\n",
       "      <td>0</td>\n",
       "      <td>Record Shops</td>\n",
       "      <td>Record Shops</td>\n",
       "      <td>Record Shops</td>\n",
       "      <td>Record Stores</td>\n",
       "      <td>No1.6041-3(c)</td>\n",
       "    </tr>\n",
       "    <tr>\n",
       "      <th>4</th>\n",
       "      <td>1234000000016652</td>\n",
       "      <td>2016-12-07 00:00:00</td>\n",
       "      <td>22.000</td>\n",
       "      <td>50.000</td>\n",
       "      <td>5735.000</td>\n",
       "      <td>0</td>\n",
       "      <td>Record Shops</td>\n",
       "      <td>Record Shops</td>\n",
       "      <td>Record Shops</td>\n",
       "      <td>Record Stores</td>\n",
       "      <td>No1.6041-3(c)</td>\n",
       "    </tr>\n",
       "  </tbody>\n",
       "</table>\n",
       "</div>"
      ],
      "text/plain": [
       "            card_no             txn_date  txn_hour  txn_amount mer_cat_code  \\\n",
       "0  1234000000009154  2016-12-07 00:00:00    22.000    1550.000     4511.000   \n",
       "1  1234000000017165  2016-12-07 00:00:00    22.000     250.000     6011.000   \n",
       "2  1234000000000768  2016-12-07 00:00:00    22.000     250.000     8398.000   \n",
       "3  1234000000018716  2016-12-07 00:00:00    22.000      50.000     5735.000   \n",
       "4  1234000000016652  2016-12-07 00:00:00    22.000      50.000     5735.000   \n",
       "\n",
       "   mer_id                                 edited_description  \\\n",
       "0       0     Airlines, Air Carriers ( not listed elsewhere)   \n",
       "1       0  Financial Institutions – Manual Cash Disbursem...   \n",
       "2       0        Charitable and Social Service Organizations   \n",
       "3       0                                       Record Shops   \n",
       "4       0                                       Record Shops   \n",
       "\n",
       "                                combined_description  \\\n",
       "0     Airlines, Air Carriers ( not listed elsewhere)   \n",
       "1  Financial Institutions – Manual Cash Disbursem...   \n",
       "2        Charitable and Social Service Organizations   \n",
       "3                                       Record Shops   \n",
       "4                                       Record Shops   \n",
       "\n",
       "                                    usda_description  \\\n",
       "0     Airlines, Air Carriers ( not listed elsewhere)   \n",
       "1  Financial Institutions – Manual Cash Disbursem...   \n",
       "2        Charitable and Social Service Organizations   \n",
       "3                                       Record Shops   \n",
       "4                                       Record Shops   \n",
       "\n",
       "                                     irs_description    irs_reportable  \n",
       "0                             Airlines, Air Carriers               Yes  \n",
       "1                            Automated Cash Disburse     No1.6041-3(c)  \n",
       "2  Charitable and Social Service Organizations - ...  No1.6041-3(p)(2)  \n",
       "3                                      Record Stores     No1.6041-3(c)  \n",
       "4                                      Record Stores     No1.6041-3(c)  "
      ]
     },
     "execution_count": 4,
     "metadata": {},
     "output_type": "execute_result"
    }
   ],
   "source": [
    "transactions_with_mcc = transactions.join(mcc_codes.set_index('mcc'), on = 'mer_cat_code')\n",
    "\n",
    "transactions_with_mcc.head()"
   ]
  },
  {
   "cell_type": "markdown",
   "metadata": {},
   "source": [
    "## Transform Features"
   ]
  },
  {
   "cell_type": "code",
   "execution_count": 5,
   "metadata": {
    "ExecuteTime": {
     "end_time": "2017-07-30T09:18:31.435810Z",
     "start_time": "2017-07-30T09:18:25.821252Z"
    }
   },
   "outputs": [
    {
     "data": {
      "text/html": [
       "<div>\n",
       "<style>\n",
       "    .dataframe thead tr:only-child th {\n",
       "        text-align: right;\n",
       "    }\n",
       "\n",
       "    .dataframe thead th {\n",
       "        text-align: left;\n",
       "    }\n",
       "\n",
       "    .dataframe tbody tr th {\n",
       "        vertical-align: top;\n",
       "    }\n",
       "</style>\n",
       "<table border=\"1\" class=\"dataframe\">\n",
       "  <thead>\n",
       "    <tr style=\"text-align: right;\">\n",
       "      <th></th>\n",
       "      <th>card_no</th>\n",
       "      <th>amount</th>\n",
       "    </tr>\n",
       "  </thead>\n",
       "  <tbody>\n",
       "    <tr>\n",
       "      <th>count</th>\n",
       "      <td>882745.000</td>\n",
       "      <td>882745.000</td>\n",
       "    </tr>\n",
       "    <tr>\n",
       "      <th>mean</th>\n",
       "      <td>1234000000014116.500</td>\n",
       "      <td>1714.763</td>\n",
       "    </tr>\n",
       "    <tr>\n",
       "      <th>std</th>\n",
       "      <td>8076.299</td>\n",
       "      <td>26034.293</td>\n",
       "    </tr>\n",
       "    <tr>\n",
       "      <th>min</th>\n",
       "      <td>1234000000000001.000</td>\n",
       "      <td>50.000</td>\n",
       "    </tr>\n",
       "    <tr>\n",
       "      <th>25%</th>\n",
       "      <td>1234000000007269.000</td>\n",
       "      <td>250.000</td>\n",
       "    </tr>\n",
       "    <tr>\n",
       "      <th>50%</th>\n",
       "      <td>1234000000014186.000</td>\n",
       "      <td>500.000</td>\n",
       "    </tr>\n",
       "    <tr>\n",
       "      <th>75%</th>\n",
       "      <td>1234000000021104.000</td>\n",
       "      <td>1050.000</td>\n",
       "    </tr>\n",
       "    <tr>\n",
       "      <th>max</th>\n",
       "      <td>1234000000028171.000</td>\n",
       "      <td>19201000.000</td>\n",
       "    </tr>\n",
       "  </tbody>\n",
       "</table>\n",
       "</div>"
      ],
      "text/plain": [
       "                   card_no       amount\n",
       "count           882745.000   882745.000\n",
       "mean  1234000000014116.500     1714.763\n",
       "std               8076.299    26034.293\n",
       "min   1234000000000001.000       50.000\n",
       "25%   1234000000007269.000      250.000\n",
       "50%   1234000000014186.000      500.000\n",
       "75%   1234000000021104.000     1050.000\n",
       "max   1234000000028171.000 19201000.000"
      ]
     },
     "execution_count": 5,
     "metadata": {},
     "output_type": "execute_result"
    }
   ],
   "source": [
    "def cleanup_columns(df):\n",
    "    drop_columns = ['mer_cat_code'\n",
    "                    , 'mer_id'\n",
    "                    , 'edited_description'\n",
    "                    , 'combined_description'\n",
    "                    , 'usda_description'\n",
    "                    , 'irs_reportable']\n",
    "    \n",
    "    return df.drop(drop_columns, axis = 1).dropna()\n",
    "\n",
    "\n",
    "def make_readable_columns(df):\n",
    "    df.columns = ['card_no'\n",
    "                  , 'date'\n",
    "                  , 'hour'\n",
    "                  , 'amount'\n",
    "                  , 'merchant']\n",
    "    \n",
    "    return df\n",
    "\n",
    "\n",
    "def simplify_hour(df):\n",
    "    bins = (-1, 4, 12, 17, 21, 25)\n",
    "    group_names = ['LateNight', 'Morning', 'Afternoon', 'Evening', 'EarlyNight']\n",
    "    hours = pd.cut(df.hour, bins, labels=group_names)\n",
    "    df.hour = hours\n",
    "    \n",
    "    return df\n",
    "\n",
    "\n",
    "def build_day(df):\n",
    "    df['day'] = pd.to_datetime(df.date).dt.dayofweek\n",
    "    df['day'] = df['day'].apply(lambda day: {0: 'Sunday'\n",
    "                                             , 1: 'Monday'\n",
    "                                             , 2: 'Thuesday'\n",
    "                                             , 3: 'Wednesday'\n",
    "                                             , 4: 'Thursday'\n",
    "                                             , 5: 'Friday'\n",
    "                                             , 6: 'Saturnday'}[day])\n",
    "    return df\n",
    "\n",
    "\n",
    "def simplify_date(df):\n",
    "    df['date'] = pd.to_datetime(df['date']).map(lambda x: x.strftime('%Y-%m-%d'))\n",
    "    \n",
    "    return df\n",
    "\n",
    "\n",
    "def transform_features(df):\n",
    "    df = cleanup_columns(df)\n",
    "    df = make_readable_columns(df)\n",
    "    df = simplify_hour(df)\n",
    "    df = build_day(df)\n",
    "    df = simplify_date(df)\n",
    "    \n",
    "    return df\n",
    "\n",
    "\n",
    "clean_transactions = transform_features(transactions_with_mcc)\n",
    "clean_transactions.describe()"
   ]
  },
  {
   "cell_type": "markdown",
   "metadata": {},
   "source": [
    "## Visualizing Data"
   ]
  },
  {
   "cell_type": "markdown",
   "metadata": {
    "ExecuteTime": {
     "end_time": "2017-07-29T00:04:49.223286Z",
     "start_time": "2017-07-29T00:04:49.220286Z"
    }
   },
   "source": [
    "## Feature Engineering"
   ]
  },
  {
   "cell_type": "markdown",
   "metadata": {},
   "source": [
    "### Amount of transaction per day"
   ]
  },
  {
   "cell_type": "code",
   "execution_count": 6,
   "metadata": {
    "ExecuteTime": {
     "end_time": "2017-07-30T09:18:31.696812Z",
     "start_time": "2017-07-30T09:18:31.436813Z"
    },
    "scrolled": true
   },
   "outputs": [
    {
     "data": {
      "text/html": [
       "<div>\n",
       "<style>\n",
       "    .dataframe thead tr:only-child th {\n",
       "        text-align: right;\n",
       "    }\n",
       "\n",
       "    .dataframe thead th {\n",
       "        text-align: left;\n",
       "    }\n",
       "\n",
       "    .dataframe tbody tr th {\n",
       "        vertical-align: top;\n",
       "    }\n",
       "</style>\n",
       "<table border=\"1\" class=\"dataframe\">\n",
       "  <thead>\n",
       "    <tr style=\"text-align: right;\">\n",
       "      <th>day</th>\n",
       "      <th>Friday</th>\n",
       "      <th>Monday</th>\n",
       "      <th>Saturnday</th>\n",
       "      <th>Sunday</th>\n",
       "      <th>Thuesday</th>\n",
       "      <th>Thursday</th>\n",
       "      <th>Wednesday</th>\n",
       "    </tr>\n",
       "    <tr>\n",
       "      <th>card_no</th>\n",
       "      <th></th>\n",
       "      <th></th>\n",
       "      <th></th>\n",
       "      <th></th>\n",
       "      <th></th>\n",
       "      <th></th>\n",
       "      <th></th>\n",
       "    </tr>\n",
       "  </thead>\n",
       "  <tbody>\n",
       "    <tr>\n",
       "      <th>1234000000000001</th>\n",
       "      <td>7.346</td>\n",
       "      <td>8.117</td>\n",
       "      <td>7.346</td>\n",
       "      <td>8.389</td>\n",
       "      <td>8.691</td>\n",
       "      <td>8.716</td>\n",
       "      <td>11.588</td>\n",
       "    </tr>\n",
       "    <tr>\n",
       "      <th>1234000000000004</th>\n",
       "      <td>5.858</td>\n",
       "      <td>9.195</td>\n",
       "      <td>8.631</td>\n",
       "      <td>8.825</td>\n",
       "      <td>7.346</td>\n",
       "      <td>8.657</td>\n",
       "      <td>9.575</td>\n",
       "    </tr>\n",
       "    <tr>\n",
       "      <th>1234000000000005</th>\n",
       "      <td>6.477</td>\n",
       "      <td>6.215</td>\n",
       "      <td>4.605</td>\n",
       "      <td>0.000</td>\n",
       "      <td>0.000</td>\n",
       "      <td>0.000</td>\n",
       "      <td>0.000</td>\n",
       "    </tr>\n",
       "    <tr>\n",
       "      <th>1234000000000006</th>\n",
       "      <td>9.753</td>\n",
       "      <td>9.790</td>\n",
       "      <td>9.770</td>\n",
       "      <td>9.928</td>\n",
       "      <td>8.006</td>\n",
       "      <td>9.773</td>\n",
       "      <td>9.863</td>\n",
       "    </tr>\n",
       "    <tr>\n",
       "      <th>1234000000000010</th>\n",
       "      <td>8.256</td>\n",
       "      <td>8.756</td>\n",
       "      <td>9.185</td>\n",
       "      <td>8.331</td>\n",
       "      <td>9.111</td>\n",
       "      <td>9.127</td>\n",
       "      <td>9.687</td>\n",
       "    </tr>\n",
       "  </tbody>\n",
       "</table>\n",
       "</div>"
      ],
      "text/plain": [
       "day               Friday  Monday  Saturnday  Sunday  Thuesday  Thursday  \\\n",
       "card_no                                                                   \n",
       "1234000000000001   7.346   8.117      7.346   8.389     8.691     8.716   \n",
       "1234000000000004   5.858   9.195      8.631   8.825     7.346     8.657   \n",
       "1234000000000005   6.477   6.215      4.605   0.000     0.000     0.000   \n",
       "1234000000000006   9.753   9.790      9.770   9.928     8.006     9.773   \n",
       "1234000000000010   8.256   8.756      9.185   8.331     9.111     9.127   \n",
       "\n",
       "day               Wednesday  \n",
       "card_no                      \n",
       "1234000000000001     11.588  \n",
       "1234000000000004      9.575  \n",
       "1234000000000005      0.000  \n",
       "1234000000000006      9.863  \n",
       "1234000000000010      9.687  "
      ]
     },
     "execution_count": 6,
     "metadata": {},
     "output_type": "execute_result"
    }
   ],
   "source": [
    "transaction_per_day = clean_transactions[['card_no', 'amount', 'day']].groupby(['card_no', 'day']).sum().reset_index()\n",
    "transaction_per_day = transaction_per_day.pivot_table(values = 'amount'\n",
    "                                                      , columns = 'day'\n",
    "                                                      , index = 'card_no'\n",
    "                                                      , aggfunc = np.sum\n",
    "                                                      , fill_value = 0\n",
    "                                                     )\n",
    "transaction_per_day = transaction_per_day.apply(lambda column: column.apply(lambda x: np.log(x) if x > 0 else 0))\n",
    "transaction_per_day.head()"
   ]
  },
  {
   "cell_type": "markdown",
   "metadata": {},
   "source": [
    "### Amount of transaction per hour"
   ]
  },
  {
   "cell_type": "code",
   "execution_count": 7,
   "metadata": {
    "ExecuteTime": {
     "end_time": "2017-07-30T09:18:31.888312Z",
     "start_time": "2017-07-30T09:18:31.697812Z"
    }
   },
   "outputs": [
    {
     "data": {
      "text/html": [
       "<div>\n",
       "<style>\n",
       "    .dataframe thead tr:only-child th {\n",
       "        text-align: right;\n",
       "    }\n",
       "\n",
       "    .dataframe thead th {\n",
       "        text-align: left;\n",
       "    }\n",
       "\n",
       "    .dataframe tbody tr th {\n",
       "        vertical-align: top;\n",
       "    }\n",
       "</style>\n",
       "<table border=\"1\" class=\"dataframe\">\n",
       "  <thead>\n",
       "    <tr style=\"text-align: right;\">\n",
       "      <th></th>\n",
       "      <th>card_no</th>\n",
       "      <th>LateNight</th>\n",
       "      <th>Morning</th>\n",
       "      <th>Afternoon</th>\n",
       "      <th>Evening</th>\n",
       "      <th>EarlyNight</th>\n",
       "    </tr>\n",
       "  </thead>\n",
       "  <tbody>\n",
       "    <tr>\n",
       "      <th>0</th>\n",
       "      <td>1234000000000001</td>\n",
       "      <td>0.000</td>\n",
       "      <td>11.560</td>\n",
       "      <td>9.629</td>\n",
       "      <td>8.949</td>\n",
       "      <td>8.023</td>\n",
       "    </tr>\n",
       "    <tr>\n",
       "      <th>1</th>\n",
       "      <td>1234000000000004</td>\n",
       "      <td>0.000</td>\n",
       "      <td>9.756</td>\n",
       "      <td>9.315</td>\n",
       "      <td>9.324</td>\n",
       "      <td>8.466</td>\n",
       "    </tr>\n",
       "    <tr>\n",
       "      <th>2</th>\n",
       "      <td>1234000000000005</td>\n",
       "      <td>0.000</td>\n",
       "      <td>0.000</td>\n",
       "      <td>7.048</td>\n",
       "      <td>4.605</td>\n",
       "      <td>0.000</td>\n",
       "    </tr>\n",
       "    <tr>\n",
       "      <th>3</th>\n",
       "      <td>1234000000000006</td>\n",
       "      <td>8.161</td>\n",
       "      <td>11.229</td>\n",
       "      <td>10.436</td>\n",
       "      <td>0.000</td>\n",
       "      <td>0.000</td>\n",
       "    </tr>\n",
       "    <tr>\n",
       "      <th>4</th>\n",
       "      <td>1234000000000010</td>\n",
       "      <td>0.000</td>\n",
       "      <td>10.071</td>\n",
       "      <td>9.674</td>\n",
       "      <td>9.842</td>\n",
       "      <td>4.605</td>\n",
       "    </tr>\n",
       "  </tbody>\n",
       "</table>\n",
       "</div>"
      ],
      "text/plain": [
       "            card_no  LateNight  Morning  Afternoon  Evening  EarlyNight\n",
       "0  1234000000000001      0.000   11.560      9.629    8.949       8.023\n",
       "1  1234000000000004      0.000    9.756      9.315    9.324       8.466\n",
       "2  1234000000000005      0.000    0.000      7.048    4.605       0.000\n",
       "3  1234000000000006      8.161   11.229     10.436    0.000       0.000\n",
       "4  1234000000000010      0.000   10.071      9.674    9.842       4.605"
      ]
     },
     "execution_count": 7,
     "metadata": {},
     "output_type": "execute_result"
    }
   ],
   "source": [
    "transaction_per_hour = clean_transactions[['card_no', 'amount', 'hour']].groupby(['card_no', 'hour']).sum().fillna(0).reset_index()\n",
    "transaction_per_hour = transaction_per_hour.pivot_table(values = 'amount'\n",
    "                                                        , columns = ['hour']\n",
    "                                                        , index = ['card_no']\n",
    "                                                        , aggfunc = np.sum\n",
    "                                                        , fill_value = 0\n",
    "                                                       )\n",
    "transaction_per_hour.columns = ['LateNight', 'Morning', 'Afternoon', 'Evening', 'EarlyNight']\n",
    "transaction_per_hour = transaction_per_hour.apply(lambda column: column.apply(lambda x: np.log(x) if x > 0 else 0))\n",
    "transaction_per_hour = transaction_per_hour.reset_index()\n",
    "transaction_per_hour.head()"
   ]
  },
  {
   "cell_type": "markdown",
   "metadata": {},
   "source": [
    "### Amount of transaction per merchant"
   ]
  },
  {
   "cell_type": "code",
   "execution_count": 8,
   "metadata": {
    "ExecuteTime": {
     "end_time": "2017-07-30T09:20:07.147334Z",
     "start_time": "2017-07-30T09:18:31.889313Z"
    },
    "scrolled": false
   },
   "outputs": [
    {
     "data": {
      "text/html": [
       "<div>\n",
       "<style>\n",
       "    .dataframe thead tr:only-child th {\n",
       "        text-align: right;\n",
       "    }\n",
       "\n",
       "    .dataframe thead th {\n",
       "        text-align: left;\n",
       "    }\n",
       "\n",
       "    .dataframe tbody tr th {\n",
       "        vertical-align: top;\n",
       "    }\n",
       "</style>\n",
       "<table border=\"1\" class=\"dataframe\">\n",
       "  <thead>\n",
       "    <tr style=\"text-align: right;\">\n",
       "      <th>merchant</th>\n",
       "      <th>card_no</th>\n",
       "      <th>A/C, Refrigeration Repair</th>\n",
       "      <th>Accounting/Bookkeeping Services</th>\n",
       "      <th>Advertising Services</th>\n",
       "      <th>Agricultural Cooperative</th>\n",
       "      <th>Airlines</th>\n",
       "      <th>Airlines, Air Carriers</th>\n",
       "      <th>Airports, Flying Fields</th>\n",
       "      <th>Amusement Parks/Carnivals</th>\n",
       "      <th>Antique Reproductions</th>\n",
       "      <th>...</th>\n",
       "      <th>Video Game Arcades</th>\n",
       "      <th>Video Tape Rental Stores</th>\n",
       "      <th>Vocational/Trade Schools</th>\n",
       "      <th>Watch/Jewelry Repair</th>\n",
       "      <th>Welding Repair</th>\n",
       "      <th>Wholesale Clubs</th>\n",
       "      <th>Wig and Toupee Stores</th>\n",
       "      <th>Wires, Money Orders</th>\n",
       "      <th>Women’s Accessory and Specialty Shops</th>\n",
       "      <th>Women’s Ready-To-Wear Stores</th>\n",
       "    </tr>\n",
       "  </thead>\n",
       "  <tbody>\n",
       "    <tr>\n",
       "      <th>0</th>\n",
       "      <td>1234000000000001</td>\n",
       "      <td>0.000</td>\n",
       "      <td>0.000</td>\n",
       "      <td>0.000</td>\n",
       "      <td>0.000</td>\n",
       "      <td>0.000</td>\n",
       "      <td>0.000</td>\n",
       "      <td>0.000</td>\n",
       "      <td>0.000</td>\n",
       "      <td>0.000</td>\n",
       "      <td>...</td>\n",
       "      <td>0.000</td>\n",
       "      <td>0.000</td>\n",
       "      <td>0.000</td>\n",
       "      <td>0.000</td>\n",
       "      <td>0.000</td>\n",
       "      <td>0.000</td>\n",
       "      <td>0.000</td>\n",
       "      <td>0.000</td>\n",
       "      <td>0.000</td>\n",
       "      <td>0.000</td>\n",
       "    </tr>\n",
       "    <tr>\n",
       "      <th>1</th>\n",
       "      <td>1234000000000004</td>\n",
       "      <td>0.000</td>\n",
       "      <td>0.000</td>\n",
       "      <td>0.000</td>\n",
       "      <td>0.000</td>\n",
       "      <td>0.000</td>\n",
       "      <td>0.000</td>\n",
       "      <td>0.000</td>\n",
       "      <td>0.000</td>\n",
       "      <td>0.000</td>\n",
       "      <td>...</td>\n",
       "      <td>0.000</td>\n",
       "      <td>0.000</td>\n",
       "      <td>0.000</td>\n",
       "      <td>0.000</td>\n",
       "      <td>0.000</td>\n",
       "      <td>0.000</td>\n",
       "      <td>0.000</td>\n",
       "      <td>0.000</td>\n",
       "      <td>0.000</td>\n",
       "      <td>0.019</td>\n",
       "    </tr>\n",
       "    <tr>\n",
       "      <th>2</th>\n",
       "      <td>1234000000000005</td>\n",
       "      <td>0.000</td>\n",
       "      <td>0.000</td>\n",
       "      <td>0.000</td>\n",
       "      <td>0.000</td>\n",
       "      <td>0.000</td>\n",
       "      <td>0.000</td>\n",
       "      <td>0.000</td>\n",
       "      <td>0.000</td>\n",
       "      <td>0.000</td>\n",
       "      <td>...</td>\n",
       "      <td>0.000</td>\n",
       "      <td>0.000</td>\n",
       "      <td>0.000</td>\n",
       "      <td>0.000</td>\n",
       "      <td>0.000</td>\n",
       "      <td>0.000</td>\n",
       "      <td>0.000</td>\n",
       "      <td>0.000</td>\n",
       "      <td>0.000</td>\n",
       "      <td>0.000</td>\n",
       "    </tr>\n",
       "    <tr>\n",
       "      <th>3</th>\n",
       "      <td>1234000000000006</td>\n",
       "      <td>0.000</td>\n",
       "      <td>0.000</td>\n",
       "      <td>0.000</td>\n",
       "      <td>0.000</td>\n",
       "      <td>0.000</td>\n",
       "      <td>0.000</td>\n",
       "      <td>0.000</td>\n",
       "      <td>0.000</td>\n",
       "      <td>0.000</td>\n",
       "      <td>...</td>\n",
       "      <td>0.000</td>\n",
       "      <td>0.000</td>\n",
       "      <td>0.000</td>\n",
       "      <td>0.000</td>\n",
       "      <td>0.000</td>\n",
       "      <td>0.000</td>\n",
       "      <td>0.000</td>\n",
       "      <td>0.000</td>\n",
       "      <td>0.000</td>\n",
       "      <td>0.000</td>\n",
       "    </tr>\n",
       "    <tr>\n",
       "      <th>4</th>\n",
       "      <td>1234000000000010</td>\n",
       "      <td>0.000</td>\n",
       "      <td>0.000</td>\n",
       "      <td>0.000</td>\n",
       "      <td>0.000</td>\n",
       "      <td>0.000</td>\n",
       "      <td>0.010</td>\n",
       "      <td>0.000</td>\n",
       "      <td>0.000</td>\n",
       "      <td>0.000</td>\n",
       "      <td>...</td>\n",
       "      <td>0.000</td>\n",
       "      <td>0.000</td>\n",
       "      <td>0.000</td>\n",
       "      <td>0.000</td>\n",
       "      <td>0.000</td>\n",
       "      <td>0.000</td>\n",
       "      <td>0.000</td>\n",
       "      <td>0.000</td>\n",
       "      <td>0.010</td>\n",
       "      <td>0.000</td>\n",
       "    </tr>\n",
       "  </tbody>\n",
       "</table>\n",
       "<p>5 rows × 252 columns</p>\n",
       "</div>"
      ],
      "text/plain": [
       "merchant           card_no  A/C, Refrigeration Repair  \\\n",
       "0         1234000000000001                      0.000   \n",
       "1         1234000000000004                      0.000   \n",
       "2         1234000000000005                      0.000   \n",
       "3         1234000000000006                      0.000   \n",
       "4         1234000000000010                      0.000   \n",
       "\n",
       "merchant  Accounting/Bookkeeping Services  Advertising Services  \\\n",
       "0                                   0.000                 0.000   \n",
       "1                                   0.000                 0.000   \n",
       "2                                   0.000                 0.000   \n",
       "3                                   0.000                 0.000   \n",
       "4                                   0.000                 0.000   \n",
       "\n",
       "merchant  Agricultural Cooperative  Airlines  Airlines, Air Carriers  \\\n",
       "0                            0.000     0.000                   0.000   \n",
       "1                            0.000     0.000                   0.000   \n",
       "2                            0.000     0.000                   0.000   \n",
       "3                            0.000     0.000                   0.000   \n",
       "4                            0.000     0.000                   0.010   \n",
       "\n",
       "merchant  Airports, Flying Fields  Amusement Parks/Carnivals  \\\n",
       "0                           0.000                      0.000   \n",
       "1                           0.000                      0.000   \n",
       "2                           0.000                      0.000   \n",
       "3                           0.000                      0.000   \n",
       "4                           0.000                      0.000   \n",
       "\n",
       "merchant  Antique Reproductions              ...               \\\n",
       "0                         0.000              ...                \n",
       "1                         0.000              ...                \n",
       "2                         0.000              ...                \n",
       "3                         0.000              ...                \n",
       "4                         0.000              ...                \n",
       "\n",
       "merchant  Video Game Arcades  Video Tape Rental Stores  \\\n",
       "0                      0.000                     0.000   \n",
       "1                      0.000                     0.000   \n",
       "2                      0.000                     0.000   \n",
       "3                      0.000                     0.000   \n",
       "4                      0.000                     0.000   \n",
       "\n",
       "merchant  Vocational/Trade Schools  Watch/Jewelry Repair  Welding Repair  \\\n",
       "0                            0.000                 0.000           0.000   \n",
       "1                            0.000                 0.000           0.000   \n",
       "2                            0.000                 0.000           0.000   \n",
       "3                            0.000                 0.000           0.000   \n",
       "4                            0.000                 0.000           0.000   \n",
       "\n",
       "merchant  Wholesale Clubs  Wig and Toupee Stores  Wires, Money Orders  \\\n",
       "0                   0.000                  0.000                0.000   \n",
       "1                   0.000                  0.000                0.000   \n",
       "2                   0.000                  0.000                0.000   \n",
       "3                   0.000                  0.000                0.000   \n",
       "4                   0.000                  0.000                0.000   \n",
       "\n",
       "merchant  Women’s Accessory and Specialty Shops  Women’s Ready-To-Wear Stores  \n",
       "0                                         0.000                         0.000  \n",
       "1                                         0.000                         0.019  \n",
       "2                                         0.000                         0.000  \n",
       "3                                         0.000                         0.000  \n",
       "4                                         0.010                         0.000  \n",
       "\n",
       "[5 rows x 252 columns]"
      ]
     },
     "execution_count": 8,
     "metadata": {},
     "output_type": "execute_result"
    }
   ],
   "source": [
    "\n",
    "transaction_per_merchant = clean_transactions[['card_no', 'amount', 'merchant']].groupby(['card_no', 'merchant']).count()\n",
    "transaction_per_merchant_reset = transaction_per_merchant.reset_index()\n",
    "transaction_per_merchant = transaction_per_merchant.apply(lambda x: x / transaction_per_merchant_reset['amount'][transaction_per_merchant_reset['card_no'] == x.name[0]].sum(), axis=1)\n",
    "\n",
    "transaction_per_merchant = transaction_per_merchant.pivot_table(values = 'amount'\n",
    "                                                            , columns = ['merchant']\n",
    "                                                            , index = ['card_no']\n",
    "                                                            , aggfunc = np.sum\n",
    "                                                            , fill_value = 0\n",
    "                                                           )\n",
    "\n",
    "transaction_per_merchant = transaction_per_merchant.reset_index()\n",
    "transaction_per_merchant.head()"
   ]
  },
  {
   "cell_type": "code",
   "execution_count": 21,
   "metadata": {
    "ExecuteTime": {
     "end_time": "2017-07-30T09:31:22.138293Z",
     "start_time": "2017-07-30T09:30:25.279815Z"
    }
   },
   "outputs": [],
   "source": [
    "transactions_with_mer_id = transactions_with_mcc.pivot_table(values = 'mer_cat_code'\n",
    "                                                            , columns = ['mer_id']\n",
    "                                                            , index = ['card_no']\n",
    "                                                            , aggfunc = 'count'\n",
    "                                                            , fill_value = 0\n",
    "                                                           ).reset_index()"
   ]
  },
  {
   "cell_type": "code",
   "execution_count": 25,
   "metadata": {
    "ExecuteTime": {
     "end_time": "2017-07-30T09:32:39.624911Z",
     "start_time": "2017-07-30T09:32:39.606411Z"
    }
   },
   "outputs": [
    {
     "data": {
      "text/html": [
       "<div>\n",
       "<style>\n",
       "    .dataframe thead tr:only-child th {\n",
       "        text-align: right;\n",
       "    }\n",
       "\n",
       "    .dataframe thead th {\n",
       "        text-align: left;\n",
       "    }\n",
       "\n",
       "    .dataframe tbody tr th {\n",
       "        vertical-align: top;\n",
       "    }\n",
       "</style>\n",
       "<table border=\"1\" class=\"dataframe\">\n",
       "  <thead>\n",
       "    <tr style=\"text-align: right;\">\n",
       "      <th></th>\n",
       "      <th>card_no</th>\n",
       "      <th>0</th>\n",
       "      <th>2</th>\n",
       "      <th>3</th>\n",
       "      <th>4</th>\n",
       "      <th>5</th>\n",
       "      <th>6</th>\n",
       "      <th>8</th>\n",
       "      <th>9</th>\n",
       "      <th>11</th>\n",
       "      <th>...</th>\n",
       "      <th>28719</th>\n",
       "      <th>28720</th>\n",
       "      <th>28721</th>\n",
       "      <th>28722</th>\n",
       "      <th>28723</th>\n",
       "      <th>28724</th>\n",
       "      <th>28725</th>\n",
       "      <th>28726</th>\n",
       "      <th>28727</th>\n",
       "      <th>28728</th>\n",
       "    </tr>\n",
       "  </thead>\n",
       "  <tbody>\n",
       "    <tr>\n",
       "      <th>0</th>\n",
       "      <td>1234000000000001</td>\n",
       "      <td>23</td>\n",
       "      <td>0</td>\n",
       "      <td>0</td>\n",
       "      <td>0</td>\n",
       "      <td>0</td>\n",
       "      <td>0</td>\n",
       "      <td>0</td>\n",
       "      <td>0</td>\n",
       "      <td>0</td>\n",
       "      <td>...</td>\n",
       "      <td>0</td>\n",
       "      <td>0</td>\n",
       "      <td>0</td>\n",
       "      <td>0</td>\n",
       "      <td>0</td>\n",
       "      <td>0</td>\n",
       "      <td>0</td>\n",
       "      <td>0</td>\n",
       "      <td>0</td>\n",
       "      <td>0</td>\n",
       "    </tr>\n",
       "    <tr>\n",
       "      <th>1</th>\n",
       "      <td>1234000000000002</td>\n",
       "      <td>0</td>\n",
       "      <td>0</td>\n",
       "      <td>0</td>\n",
       "      <td>0</td>\n",
       "      <td>0</td>\n",
       "      <td>0</td>\n",
       "      <td>0</td>\n",
       "      <td>0</td>\n",
       "      <td>0</td>\n",
       "      <td>...</td>\n",
       "      <td>0</td>\n",
       "      <td>0</td>\n",
       "      <td>0</td>\n",
       "      <td>0</td>\n",
       "      <td>0</td>\n",
       "      <td>0</td>\n",
       "      <td>0</td>\n",
       "      <td>0</td>\n",
       "      <td>0</td>\n",
       "      <td>0</td>\n",
       "    </tr>\n",
       "    <tr>\n",
       "      <th>2</th>\n",
       "      <td>1234000000000003</td>\n",
       "      <td>0</td>\n",
       "      <td>0</td>\n",
       "      <td>0</td>\n",
       "      <td>0</td>\n",
       "      <td>0</td>\n",
       "      <td>0</td>\n",
       "      <td>0</td>\n",
       "      <td>0</td>\n",
       "      <td>0</td>\n",
       "      <td>...</td>\n",
       "      <td>0</td>\n",
       "      <td>0</td>\n",
       "      <td>0</td>\n",
       "      <td>0</td>\n",
       "      <td>0</td>\n",
       "      <td>0</td>\n",
       "      <td>0</td>\n",
       "      <td>0</td>\n",
       "      <td>0</td>\n",
       "      <td>0</td>\n",
       "    </tr>\n",
       "    <tr>\n",
       "      <th>3</th>\n",
       "      <td>1234000000000004</td>\n",
       "      <td>50</td>\n",
       "      <td>0</td>\n",
       "      <td>0</td>\n",
       "      <td>0</td>\n",
       "      <td>0</td>\n",
       "      <td>0</td>\n",
       "      <td>0</td>\n",
       "      <td>0</td>\n",
       "      <td>0</td>\n",
       "      <td>...</td>\n",
       "      <td>0</td>\n",
       "      <td>0</td>\n",
       "      <td>0</td>\n",
       "      <td>0</td>\n",
       "      <td>0</td>\n",
       "      <td>0</td>\n",
       "      <td>0</td>\n",
       "      <td>0</td>\n",
       "      <td>0</td>\n",
       "      <td>0</td>\n",
       "    </tr>\n",
       "    <tr>\n",
       "      <th>4</th>\n",
       "      <td>1234000000000005</td>\n",
       "      <td>0</td>\n",
       "      <td>0</td>\n",
       "      <td>0</td>\n",
       "      <td>0</td>\n",
       "      <td>0</td>\n",
       "      <td>0</td>\n",
       "      <td>0</td>\n",
       "      <td>0</td>\n",
       "      <td>0</td>\n",
       "      <td>...</td>\n",
       "      <td>0</td>\n",
       "      <td>0</td>\n",
       "      <td>0</td>\n",
       "      <td>0</td>\n",
       "      <td>0</td>\n",
       "      <td>0</td>\n",
       "      <td>0</td>\n",
       "      <td>0</td>\n",
       "      <td>0</td>\n",
       "      <td>0</td>\n",
       "    </tr>\n",
       "  </tbody>\n",
       "</table>\n",
       "<p>5 rows × 26469 columns</p>\n",
       "</div>"
      ],
      "text/plain": [
       "            card_no   0  2  3  4  5  6  8  9  11  ...    28719  28720  28721  \\\n",
       "0  1234000000000001  23  0  0  0  0  0  0  0   0  ...        0      0      0   \n",
       "1  1234000000000002   0  0  0  0  0  0  0  0   0  ...        0      0      0   \n",
       "2  1234000000000003   0  0  0  0  0  0  0  0   0  ...        0      0      0   \n",
       "3  1234000000000004  50  0  0  0  0  0  0  0   0  ...        0      0      0   \n",
       "4  1234000000000005   0  0  0  0  0  0  0  0   0  ...        0      0      0   \n",
       "\n",
       "   28722  28723  28724  28725  28726  28727  28728  \n",
       "0      0      0      0      0      0      0      0  \n",
       "1      0      0      0      0      0      0      0  \n",
       "2      0      0      0      0      0      0      0  \n",
       "3      0      0      0      0      0      0      0  \n",
       "4      0      0      0      0      0      0      0  \n",
       "\n",
       "[5 rows x 26469 columns]"
      ]
     },
     "execution_count": 25,
     "metadata": {},
     "output_type": "execute_result"
    }
   ],
   "source": [
    "transactions_with_mer_id.columns.name = None\n",
    "transactions_with_mer_id.head()"
   ]
  },
  {
   "cell_type": "markdown",
   "metadata": {},
   "source": [
    "### Merge Feature"
   ]
  },
  {
   "cell_type": "code",
   "execution_count": 26,
   "metadata": {
    "ExecuteTime": {
     "end_time": "2017-07-30T09:33:20.471820Z",
     "start_time": "2017-07-30T09:32:39.625911Z"
    },
    "scrolled": false
   },
   "outputs": [
    {
     "data": {
      "text/html": [
       "<div>\n",
       "<style>\n",
       "    .dataframe thead tr:only-child th {\n",
       "        text-align: right;\n",
       "    }\n",
       "\n",
       "    .dataframe thead th {\n",
       "        text-align: left;\n",
       "    }\n",
       "\n",
       "    .dataframe tbody tr th {\n",
       "        vertical-align: top;\n",
       "    }\n",
       "</style>\n",
       "<table border=\"1\" class=\"dataframe\">\n",
       "  <thead>\n",
       "    <tr style=\"text-align: right;\">\n",
       "      <th></th>\n",
       "      <th>card_no</th>\n",
       "      <th>Friday</th>\n",
       "      <th>Monday</th>\n",
       "      <th>Saturnday</th>\n",
       "      <th>Sunday</th>\n",
       "      <th>Thuesday</th>\n",
       "      <th>Thursday</th>\n",
       "      <th>Wednesday</th>\n",
       "      <th>LateNight</th>\n",
       "      <th>Morning</th>\n",
       "      <th>...</th>\n",
       "      <th>28719</th>\n",
       "      <th>28720</th>\n",
       "      <th>28721</th>\n",
       "      <th>28722</th>\n",
       "      <th>28723</th>\n",
       "      <th>28724</th>\n",
       "      <th>28725</th>\n",
       "      <th>28726</th>\n",
       "      <th>28727</th>\n",
       "      <th>28728</th>\n",
       "    </tr>\n",
       "  </thead>\n",
       "  <tbody>\n",
       "    <tr>\n",
       "      <th>count</th>\n",
       "      <td>12572.000</td>\n",
       "      <td>12572.000</td>\n",
       "      <td>12572.000</td>\n",
       "      <td>12572.000</td>\n",
       "      <td>12572.000</td>\n",
       "      <td>12572.000</td>\n",
       "      <td>12572.000</td>\n",
       "      <td>12572.000</td>\n",
       "      <td>12572.000</td>\n",
       "      <td>12572.000</td>\n",
       "      <td>...</td>\n",
       "      <td>12572.000</td>\n",
       "      <td>12572.000</td>\n",
       "      <td>12572.000</td>\n",
       "      <td>12572.000</td>\n",
       "      <td>12572.000</td>\n",
       "      <td>12572.000</td>\n",
       "      <td>12572.000</td>\n",
       "      <td>12572.000</td>\n",
       "      <td>12572.000</td>\n",
       "      <td>12572.000</td>\n",
       "    </tr>\n",
       "    <tr>\n",
       "      <th>mean</th>\n",
       "      <td>1234000000014099.500</td>\n",
       "      <td>7.930</td>\n",
       "      <td>7.830</td>\n",
       "      <td>7.746</td>\n",
       "      <td>7.854</td>\n",
       "      <td>7.852</td>\n",
       "      <td>8.014</td>\n",
       "      <td>7.864</td>\n",
       "      <td>2.578</td>\n",
       "      <td>8.871</td>\n",
       "      <td>...</td>\n",
       "      <td>0.001</td>\n",
       "      <td>0.000</td>\n",
       "      <td>0.001</td>\n",
       "      <td>0.000</td>\n",
       "      <td>0.000</td>\n",
       "      <td>0.002</td>\n",
       "      <td>5.493</td>\n",
       "      <td>0.065</td>\n",
       "      <td>0.000</td>\n",
       "      <td>0.000</td>\n",
       "    </tr>\n",
       "    <tr>\n",
       "      <th>std</th>\n",
       "      <td>8119.197</td>\n",
       "      <td>3.123</td>\n",
       "      <td>3.111</td>\n",
       "      <td>3.171</td>\n",
       "      <td>3.089</td>\n",
       "      <td>3.074</td>\n",
       "      <td>3.035</td>\n",
       "      <td>3.087</td>\n",
       "      <td>3.575</td>\n",
       "      <td>2.870</td>\n",
       "      <td>...</td>\n",
       "      <td>0.063</td>\n",
       "      <td>0.009</td>\n",
       "      <td>0.028</td>\n",
       "      <td>0.028</td>\n",
       "      <td>0.009</td>\n",
       "      <td>0.086</td>\n",
       "      <td>13.204</td>\n",
       "      <td>0.607</td>\n",
       "      <td>0.009</td>\n",
       "      <td>0.000</td>\n",
       "    </tr>\n",
       "    <tr>\n",
       "      <th>min</th>\n",
       "      <td>1234000000000001.000</td>\n",
       "      <td>0.000</td>\n",
       "      <td>0.000</td>\n",
       "      <td>0.000</td>\n",
       "      <td>0.000</td>\n",
       "      <td>0.000</td>\n",
       "      <td>0.000</td>\n",
       "      <td>0.000</td>\n",
       "      <td>0.000</td>\n",
       "      <td>0.000</td>\n",
       "      <td>...</td>\n",
       "      <td>0.000</td>\n",
       "      <td>0.000</td>\n",
       "      <td>0.000</td>\n",
       "      <td>0.000</td>\n",
       "      <td>0.000</td>\n",
       "      <td>0.000</td>\n",
       "      <td>0.000</td>\n",
       "      <td>0.000</td>\n",
       "      <td>0.000</td>\n",
       "      <td>0.000</td>\n",
       "    </tr>\n",
       "    <tr>\n",
       "      <th>25%</th>\n",
       "      <td>1234000000007120.750</td>\n",
       "      <td>7.576</td>\n",
       "      <td>7.431</td>\n",
       "      <td>7.378</td>\n",
       "      <td>7.467</td>\n",
       "      <td>7.438</td>\n",
       "      <td>7.650</td>\n",
       "      <td>7.467</td>\n",
       "      <td>0.000</td>\n",
       "      <td>8.420</td>\n",
       "      <td>...</td>\n",
       "      <td>0.000</td>\n",
       "      <td>0.000</td>\n",
       "      <td>0.000</td>\n",
       "      <td>0.000</td>\n",
       "      <td>0.000</td>\n",
       "      <td>0.000</td>\n",
       "      <td>0.000</td>\n",
       "      <td>0.000</td>\n",
       "      <td>0.000</td>\n",
       "      <td>0.000</td>\n",
       "    </tr>\n",
       "    <tr>\n",
       "      <th>50%</th>\n",
       "      <td>1234000000014087.000</td>\n",
       "      <td>8.839</td>\n",
       "      <td>8.657</td>\n",
       "      <td>8.691</td>\n",
       "      <td>8.687</td>\n",
       "      <td>8.691</td>\n",
       "      <td>8.810</td>\n",
       "      <td>8.700</td>\n",
       "      <td>0.000</td>\n",
       "      <td>9.575</td>\n",
       "      <td>...</td>\n",
       "      <td>0.000</td>\n",
       "      <td>0.000</td>\n",
       "      <td>0.000</td>\n",
       "      <td>0.000</td>\n",
       "      <td>0.000</td>\n",
       "      <td>0.000</td>\n",
       "      <td>0.000</td>\n",
       "      <td>0.000</td>\n",
       "      <td>0.000</td>\n",
       "      <td>0.000</td>\n",
       "    </tr>\n",
       "    <tr>\n",
       "      <th>75%</th>\n",
       "      <td>1234000000021015.750</td>\n",
       "      <td>9.793</td>\n",
       "      <td>9.661</td>\n",
       "      <td>9.655</td>\n",
       "      <td>9.665</td>\n",
       "      <td>9.649</td>\n",
       "      <td>9.761</td>\n",
       "      <td>9.680</td>\n",
       "      <td>6.215</td>\n",
       "      <td>10.485</td>\n",
       "      <td>...</td>\n",
       "      <td>0.000</td>\n",
       "      <td>0.000</td>\n",
       "      <td>0.000</td>\n",
       "      <td>0.000</td>\n",
       "      <td>0.000</td>\n",
       "      <td>0.000</td>\n",
       "      <td>3.000</td>\n",
       "      <td>0.000</td>\n",
       "      <td>0.000</td>\n",
       "      <td>0.000</td>\n",
       "    </tr>\n",
       "    <tr>\n",
       "      <th>max</th>\n",
       "      <td>1234000000028171.000</td>\n",
       "      <td>15.368</td>\n",
       "      <td>15.803</td>\n",
       "      <td>15.249</td>\n",
       "      <td>15.099</td>\n",
       "      <td>15.700</td>\n",
       "      <td>15.265</td>\n",
       "      <td>16.778</td>\n",
       "      <td>14.120</td>\n",
       "      <td>16.035</td>\n",
       "      <td>...</td>\n",
       "      <td>7.000</td>\n",
       "      <td>1.000</td>\n",
       "      <td>2.000</td>\n",
       "      <td>2.000</td>\n",
       "      <td>1.000</td>\n",
       "      <td>7.000</td>\n",
       "      <td>260.000</td>\n",
       "      <td>40.000</td>\n",
       "      <td>1.000</td>\n",
       "      <td>0.000</td>\n",
       "    </tr>\n",
       "  </tbody>\n",
       "</table>\n",
       "<p>8 rows × 26732 columns</p>\n",
       "</div>"
      ],
      "text/plain": [
       "                   card_no    Friday    Monday  Saturnday    Sunday  Thuesday  \\\n",
       "count            12572.000 12572.000 12572.000  12572.000 12572.000 12572.000   \n",
       "mean  1234000000014099.500     7.930     7.830      7.746     7.854     7.852   \n",
       "std               8119.197     3.123     3.111      3.171     3.089     3.074   \n",
       "min   1234000000000001.000     0.000     0.000      0.000     0.000     0.000   \n",
       "25%   1234000000007120.750     7.576     7.431      7.378     7.467     7.438   \n",
       "50%   1234000000014087.000     8.839     8.657      8.691     8.687     8.691   \n",
       "75%   1234000000021015.750     9.793     9.661      9.655     9.665     9.649   \n",
       "max   1234000000028171.000    15.368    15.803     15.249    15.099    15.700   \n",
       "\n",
       "       Thursday  Wednesday  LateNight   Morning    ...        28719     28720  \\\n",
       "count 12572.000  12572.000  12572.000 12572.000    ...    12572.000 12572.000   \n",
       "mean      8.014      7.864      2.578     8.871    ...        0.001     0.000   \n",
       "std       3.035      3.087      3.575     2.870    ...        0.063     0.009   \n",
       "min       0.000      0.000      0.000     0.000    ...        0.000     0.000   \n",
       "25%       7.650      7.467      0.000     8.420    ...        0.000     0.000   \n",
       "50%       8.810      8.700      0.000     9.575    ...        0.000     0.000   \n",
       "75%       9.761      9.680      6.215    10.485    ...        0.000     0.000   \n",
       "max      15.265     16.778     14.120    16.035    ...        7.000     1.000   \n",
       "\n",
       "          28721     28722     28723     28724     28725     28726     28727  \\\n",
       "count 12572.000 12572.000 12572.000 12572.000 12572.000 12572.000 12572.000   \n",
       "mean      0.001     0.000     0.000     0.002     5.493     0.065     0.000   \n",
       "std       0.028     0.028     0.009     0.086    13.204     0.607     0.009   \n",
       "min       0.000     0.000     0.000     0.000     0.000     0.000     0.000   \n",
       "25%       0.000     0.000     0.000     0.000     0.000     0.000     0.000   \n",
       "50%       0.000     0.000     0.000     0.000     0.000     0.000     0.000   \n",
       "75%       0.000     0.000     0.000     0.000     3.000     0.000     0.000   \n",
       "max       2.000     2.000     1.000     7.000   260.000    40.000     1.000   \n",
       "\n",
       "          28728  \n",
       "count 12572.000  \n",
       "mean      0.000  \n",
       "std       0.000  \n",
       "min       0.000  \n",
       "25%       0.000  \n",
       "50%       0.000  \n",
       "75%       0.000  \n",
       "max       0.000  \n",
       "\n",
       "[8 rows x 26732 columns]"
      ]
     },
     "execution_count": 26,
     "metadata": {},
     "output_type": "execute_result"
    }
   ],
   "source": [
    "final_data = transaction_per_day.reset_index()\n",
    "final_data = final_data.join(transaction_per_hour.set_index('card_no'), on='card_no')\n",
    "final_data = final_data.join(transaction_per_merchant.set_index('card_no'), on='card_no')\n",
    "final_data = final_data.join(transactions_with_mer_id.set_index('card_no'), on='card_no')\n",
    "final_data = final_data.fillna(0)\n",
    "            \n",
    "final_data.describe()"
   ]
  },
  {
   "cell_type": "markdown",
   "metadata": {
    "ExecuteTime": {
     "end_time": "2017-07-29T00:17:31.410653Z",
     "start_time": "2017-07-29T00:17:31.407654Z"
    }
   },
   "source": [
    "## Fitting and Tuning an Classifier"
   ]
  },
  {
   "cell_type": "code",
   "execution_count": 27,
   "metadata": {
    "ExecuteTime": {
     "end_time": "2017-07-30T09:33:20.887319Z",
     "start_time": "2017-07-30T09:33:20.472819Z"
    },
    "collapsed": true
   },
   "outputs": [],
   "source": [
    "from sklearn.model_selection import train_test_split\n",
    "from sklearn.ensemble import RandomForestClassifier\n",
    "from sklearn.metrics import make_scorer, accuracy_score\n",
    "from sklearn.model_selection import GridSearchCV"
   ]
  },
  {
   "cell_type": "code",
   "execution_count": 28,
   "metadata": {
    "ExecuteTime": {
     "end_time": "2017-07-30T09:33:43.988385Z",
     "start_time": "2017-07-30T09:33:20.888821Z"
    },
    "collapsed": true
   },
   "outputs": [],
   "source": [
    "data_train_with_features = data_train.join(final_data.set_index('card_no'), on = 'card_no', how='left').dropna()\n",
    "\n",
    "# data_train_with_features = data_train_with_features.drop([''], axis = 1)\n",
    "\n",
    "X_all = data_train_with_features.drop(['card_no', 'gender'], axis = 1)\n",
    "y_all = data_train_with_features['gender']\n",
    "\n",
    "num_test = 0.20\n",
    "X_train, X_test, y_train, y_test = train_test_split(X_all, y_all, test_size = num_test, random_state = 23)"
   ]
  },
  {
   "cell_type": "code",
   "execution_count": 29,
   "metadata": {
    "ExecuteTime": {
     "end_time": "2017-07-30T09:33:43.993388Z",
     "start_time": "2017-07-30T09:33:43.989385Z"
    }
   },
   "outputs": [
    {
     "data": {
      "text/plain": [
       "(9852, 26731)"
      ]
     },
     "execution_count": 29,
     "metadata": {},
     "output_type": "execute_result"
    }
   ],
   "source": [
    "X_all.shape"
   ]
  },
  {
   "cell_type": "code",
   "execution_count": 30,
   "metadata": {
    "ExecuteTime": {
     "end_time": "2017-07-30T09:34:02.803078Z",
     "start_time": "2017-07-30T09:33:43.994886Z"
    }
   },
   "outputs": [
    {
     "data": {
      "text/plain": [
       "KNeighborsClassifier(algorithm='auto', leaf_size=30, metric='minkowski',\n",
       "           metric_params=None, n_jobs=1, n_neighbors=5, p=2,\n",
       "           weights='uniform')"
      ]
     },
     "execution_count": 30,
     "metadata": {},
     "output_type": "execute_result"
    }
   ],
   "source": [
    "from sklearn.neighbors import KNeighborsClassifier\n",
    "clf = KNeighborsClassifier()\n",
    "clf.fit(X_train, y_train)"
   ]
  },
  {
   "cell_type": "code",
   "execution_count": 31,
   "metadata": {
    "ExecuteTime": {
     "end_time": "2017-07-30T09:34:23.682844Z",
     "start_time": "2017-07-30T09:34:02.804081Z"
    }
   },
   "outputs": [
    {
     "data": {
      "text/plain": [
       "RandomForestClassifier(bootstrap=True, class_weight=None, criterion='gini',\n",
       "            max_depth=None, max_features='auto', max_leaf_nodes=None,\n",
       "            min_impurity_split=1e-07, min_samples_leaf=5,\n",
       "            min_samples_split=2, min_weight_fraction_leaf=0.0,\n",
       "            n_estimators=300, n_jobs=1, oob_score=False, random_state=None,\n",
       "            verbose=0, warm_start=False)"
      ]
     },
     "execution_count": 31,
     "metadata": {},
     "output_type": "execute_result"
    }
   ],
   "source": [
    "# Choose the type of classifier. \n",
    "clf = RandomForestClassifier(n_estimators = 300, min_samples_leaf = 5)\n",
    "\n",
    "# Fit the best algorithm to the data. \n",
    "clf.fit(X_train, y_train)"
   ]
  },
  {
   "cell_type": "code",
   "execution_count": 32,
   "metadata": {
    "ExecuteTime": {
     "end_time": "2017-07-30T09:34:24.086347Z",
     "start_time": "2017-07-30T09:34:23.685848Z"
    }
   },
   "outputs": [
    {
     "name": "stdout",
     "output_type": "stream",
     "text": [
      "0.65601217656\n"
     ]
    }
   ],
   "source": [
    "predictions = clf.predict(X_test)\n",
    "\n",
    "print(accuracy_score(y_test, predictions))"
   ]
  },
  {
   "cell_type": "code",
   "execution_count": 33,
   "metadata": {
    "ExecuteTime": {
     "end_time": "2017-07-30T09:34:24.853843Z",
     "start_time": "2017-07-30T09:34:24.087847Z"
    }
   },
   "outputs": [
    {
     "data": {
      "text/plain": [
       "0.70803197563760945"
      ]
     },
     "execution_count": 33,
     "metadata": {},
     "output_type": "execute_result"
    }
   ],
   "source": [
    "clf.score(X_train, y_train)"
   ]
  },
  {
   "cell_type": "markdown",
   "metadata": {
    "ExecuteTime": {
     "end_time": "2017-07-29T00:15:16.938649Z",
     "start_time": "2017-07-29T00:15:16.935648Z"
    }
   },
   "source": [
    "## Validate with KFold"
   ]
  },
  {
   "cell_type": "code",
   "execution_count": 34,
   "metadata": {
    "ExecuteTime": {
     "end_time": "2017-07-30T09:58:10.293832Z",
     "start_time": "2017-07-30T09:34:24.855344Z"
    },
    "scrolled": true
   },
   "outputs": [
    {
     "name": "stderr",
     "output_type": "stream",
     "text": [
      "C:\\Users\\User\\AppData\\Local\\conda\\conda\\envs\\tensorflow-notebook\\lib\\site-packages\\sklearn\\cross_validation.py:44: DeprecationWarning: This module was deprecated in version 0.18 in favor of the model_selection module into which all the refactored classes and functions are moved. Also note that the interface of the new CV iterators are different from that of this module. This module will be removed in 0.20.\n",
      "  \"This module will be removed in 0.20.\", DeprecationWarning)\n"
     ]
    },
    {
     "name": "stdout",
     "output_type": "stream",
     "text": [
      "Fold 1 accuracy: 0.6561866125760649\n",
      "Fold 2 accuracy: 0.6328600405679513\n",
      "Fold 3 accuracy: 0.6263959390862944\n",
      "Fold 4 accuracy: 0.6294416243654822\n",
      "Fold 5 accuracy: 0.6741116751269035\n",
      "Fold 6 accuracy: 0.6375634517766497\n",
      "Fold 7 accuracy: 0.6619289340101523\n",
      "Fold 8 accuracy: 0.6446700507614214\n",
      "Fold 9 accuracy: 0.6395939086294417\n",
      "Fold 10 accuracy: 0.6568527918781726\n",
      "Mean Accuracy: 0.6459605028778533\n"
     ]
    }
   ],
   "source": [
    "from sklearn.cross_validation import KFold\n",
    "\n",
    "\n",
    "def run_kfold(clf):\n",
    "    kf = KFold(X_all.shape[0], n_folds=10)\n",
    "    outcomes = []\n",
    "    fold = 0\n",
    "    for train_index, test_index in kf:\n",
    "        fold += 1\n",
    "        X_train, X_test = X_all.values[train_index], X_all.values[test_index]\n",
    "        y_train, y_test = y_all.values[train_index], y_all.values[test_index]\n",
    "        clf.fit(X_train, y_train)\n",
    "        predictions = clf.predict(X_test)\n",
    "        accuracy = accuracy_score(y_test, predictions)\n",
    "        outcomes.append(accuracy)\n",
    "        print(\"Fold {0} accuracy: {1}\".format(fold, accuracy))     \n",
    "    mean_outcome = np.mean(outcomes)\n",
    "    print(\"Mean Accuracy: {0}\".format(mean_outcome)) \n",
    "\n",
    "run_kfold(clf)\n"
   ]
  },
  {
   "cell_type": "markdown",
   "metadata": {},
   "source": [
    "## Model Version\n",
    "### Save model to file"
   ]
  },
  {
   "cell_type": "code",
   "execution_count": 35,
   "metadata": {
    "ExecuteTime": {
     "end_time": "2017-07-30T10:14:51.218879Z",
     "start_time": "2017-07-30T09:58:10.297330Z"
    },
    "scrolled": true
   },
   "outputs": [
    {
     "name": "stdout",
     "output_type": "stream",
     "text": [
      "version name: test_many_features\n"
     ]
    },
    {
     "data": {
      "text/plain": [
       "['model_test_many_features.pkl']"
      ]
     },
     "execution_count": 35,
     "metadata": {},
     "output_type": "execute_result"
    }
   ],
   "source": [
    "from sklearn.externals import joblib\n",
    "\n",
    "version_name = input('version name: ')\n",
    "\n",
    "joblib.dump(clf, 'model_{}.pkl'.format(version_name)) "
   ]
  },
  {
   "cell_type": "markdown",
   "metadata": {},
   "source": [
    "### Load model from file"
   ]
  },
  {
   "cell_type": "code",
   "execution_count": 36,
   "metadata": {
    "ExecuteTime": {
     "end_time": "2017-07-30T10:14:57.451370Z",
     "start_time": "2017-07-30T10:14:51.219881Z"
    }
   },
   "outputs": [
    {
     "name": "stdout",
     "output_type": "stream",
     "text": [
      "version name: test_my_features\n"
     ]
    },
    {
     "ename": "FileNotFoundError",
     "evalue": "[Errno 2] No such file or directory: 'model_test_my_features.pkl'",
     "output_type": "error",
     "traceback": [
      "\u001b[1;31m---------------------------------------------------------------------------\u001b[0m",
      "\u001b[1;31mFileNotFoundError\u001b[0m                         Traceback (most recent call last)",
      "\u001b[1;32m<ipython-input-36-fa19d806d49e>\u001b[0m in \u001b[0;36m<module>\u001b[1;34m()\u001b[0m\n\u001b[0;32m      3\u001b[0m \u001b[0mversion_name\u001b[0m \u001b[1;33m=\u001b[0m \u001b[0minput\u001b[0m\u001b[1;33m(\u001b[0m\u001b[1;34m'version name: '\u001b[0m\u001b[1;33m)\u001b[0m\u001b[1;33m\u001b[0m\u001b[0m\n\u001b[0;32m      4\u001b[0m \u001b[1;33m\u001b[0m\u001b[0m\n\u001b[1;32m----> 5\u001b[1;33m \u001b[0mclf\u001b[0m \u001b[1;33m=\u001b[0m \u001b[0mjoblib\u001b[0m\u001b[1;33m.\u001b[0m\u001b[0mload\u001b[0m\u001b[1;33m(\u001b[0m\u001b[1;34m'model_{}.pkl'\u001b[0m\u001b[1;33m.\u001b[0m\u001b[0mformat\u001b[0m\u001b[1;33m(\u001b[0m\u001b[0mversion_name\u001b[0m\u001b[1;33m)\u001b[0m\u001b[1;33m)\u001b[0m\u001b[1;33m\u001b[0m\u001b[0m\n\u001b[0m",
      "\u001b[1;32m~\\AppData\\Local\\conda\\conda\\envs\\tensorflow-notebook\\lib\\site-packages\\sklearn\\externals\\joblib\\numpy_pickle.py\u001b[0m in \u001b[0;36mload\u001b[1;34m(filename, mmap_mode)\u001b[0m\n\u001b[0;32m    565\u001b[0m             \u001b[0mobj\u001b[0m \u001b[1;33m=\u001b[0m \u001b[0m_unpickle\u001b[0m\u001b[1;33m(\u001b[0m\u001b[0mfobj\u001b[0m\u001b[1;33m)\u001b[0m\u001b[1;33m\u001b[0m\u001b[0m\n\u001b[0;32m    566\u001b[0m     \u001b[1;32melse\u001b[0m\u001b[1;33m:\u001b[0m\u001b[1;33m\u001b[0m\u001b[0m\n\u001b[1;32m--> 567\u001b[1;33m         \u001b[1;32mwith\u001b[0m \u001b[0mopen\u001b[0m\u001b[1;33m(\u001b[0m\u001b[0mfilename\u001b[0m\u001b[1;33m,\u001b[0m \u001b[1;34m'rb'\u001b[0m\u001b[1;33m)\u001b[0m \u001b[1;32mas\u001b[0m \u001b[0mf\u001b[0m\u001b[1;33m:\u001b[0m\u001b[1;33m\u001b[0m\u001b[0m\n\u001b[0m\u001b[0;32m    568\u001b[0m             \u001b[1;32mwith\u001b[0m \u001b[0m_read_fileobject\u001b[0m\u001b[1;33m(\u001b[0m\u001b[0mf\u001b[0m\u001b[1;33m,\u001b[0m \u001b[0mfilename\u001b[0m\u001b[1;33m,\u001b[0m \u001b[0mmmap_mode\u001b[0m\u001b[1;33m)\u001b[0m \u001b[1;32mas\u001b[0m \u001b[0mfobj\u001b[0m\u001b[1;33m:\u001b[0m\u001b[1;33m\u001b[0m\u001b[0m\n\u001b[0;32m    569\u001b[0m                 \u001b[1;32mif\u001b[0m \u001b[0misinstance\u001b[0m\u001b[1;33m(\u001b[0m\u001b[0mfobj\u001b[0m\u001b[1;33m,\u001b[0m \u001b[0m_basestring\u001b[0m\u001b[1;33m)\u001b[0m\u001b[1;33m:\u001b[0m\u001b[1;33m\u001b[0m\u001b[0m\n",
      "\u001b[1;31mFileNotFoundError\u001b[0m: [Errno 2] No such file or directory: 'model_test_my_features.pkl'"
     ]
    }
   ],
   "source": [
    "from sklearn.externals import joblib\n",
    "\n",
    "version_name = input('version name: ')\n",
    "\n",
    "clf = joblib.load('model_{}.pkl'.format(version_name)) "
   ]
  },
  {
   "cell_type": "markdown",
   "metadata": {},
   "source": [
    "## Predict the Actual Test Data"
   ]
  },
  {
   "cell_type": "code",
   "execution_count": 37,
   "metadata": {
    "ExecuteTime": {
     "end_time": "2017-07-30T10:15:08.191924Z",
     "start_time": "2017-07-30T10:15:02.219368Z"
    },
    "scrolled": true
   },
   "outputs": [
    {
     "data": {
      "text/html": [
       "<div>\n",
       "<style>\n",
       "    .dataframe thead tr:only-child th {\n",
       "        text-align: right;\n",
       "    }\n",
       "\n",
       "    .dataframe thead th {\n",
       "        text-align: left;\n",
       "    }\n",
       "\n",
       "    .dataframe tbody tr th {\n",
       "        vertical-align: top;\n",
       "    }\n",
       "</style>\n",
       "<table border=\"1\" class=\"dataframe\">\n",
       "  <thead>\n",
       "    <tr style=\"text-align: right;\">\n",
       "      <th></th>\n",
       "      <th>gender</th>\n",
       "    </tr>\n",
       "  </thead>\n",
       "  <tbody>\n",
       "    <tr>\n",
       "      <th>count</th>\n",
       "      <td>4623.000</td>\n",
       "    </tr>\n",
       "    <tr>\n",
       "      <th>mean</th>\n",
       "      <td>0.111</td>\n",
       "    </tr>\n",
       "    <tr>\n",
       "      <th>std</th>\n",
       "      <td>0.314</td>\n",
       "    </tr>\n",
       "    <tr>\n",
       "      <th>min</th>\n",
       "      <td>0.000</td>\n",
       "    </tr>\n",
       "    <tr>\n",
       "      <th>25%</th>\n",
       "      <td>0.000</td>\n",
       "    </tr>\n",
       "    <tr>\n",
       "      <th>50%</th>\n",
       "      <td>0.000</td>\n",
       "    </tr>\n",
       "    <tr>\n",
       "      <th>75%</th>\n",
       "      <td>0.000</td>\n",
       "    </tr>\n",
       "    <tr>\n",
       "      <th>max</th>\n",
       "      <td>1.000</td>\n",
       "    </tr>\n",
       "  </tbody>\n",
       "</table>\n",
       "</div>"
      ],
      "text/plain": [
       "        gender\n",
       "count 4623.000\n",
       "mean     0.111\n",
       "std      0.314\n",
       "min      0.000\n",
       "25%      0.000\n",
       "50%      0.000\n",
       "75%      0.000\n",
       "max      1.000"
      ]
     },
     "execution_count": 37,
     "metadata": {},
     "output_type": "execute_result"
    }
   ],
   "source": [
    "test = data_test.join(final_data.set_index('card_no'), on = 'card_no', how = 'left').fillna(0)\n",
    "predictions = clf.predict(test.drop('card_no', axis = 1))\n",
    "\n",
    "output = pd.DataFrame({'gender': predictions })\n",
    "output.to_csv('5-more.txt', index = False, header = None)\n",
    "output.head()"
   ]
  },
  {
   "cell_type": "code",
   "execution_count": null,
   "metadata": {
    "ExecuteTime": {
     "end_time": "2017-07-30T10:14:57.452368Z",
     "start_time": "2017-07-30T09:32:39.586Z"
    },
    "collapsed": true
   },
   "outputs": [],
   "source": [
    "output.describe()"
   ]
  }
 ],
 "metadata": {
  "kernelspec": {
   "display_name": "Python 3",
   "language": "python",
   "name": "python3"
  },
  "language_info": {
   "codemirror_mode": {
    "name": "ipython",
    "version": 3
   },
   "file_extension": ".py",
   "mimetype": "text/x-python",
   "name": "python",
   "nbconvert_exporter": "python",
   "pygments_lexer": "ipython3",
   "version": "3.6.2"
  },
  "toc": {
   "colors": {
    "hover_highlight": "#DAA520",
    "navigate_num": "#000000",
    "navigate_text": "#333333",
    "running_highlight": "#FF0000",
    "selected_highlight": "#FFD700",
    "sidebar_border": "#EEEEEE",
    "wrapper_background": "#FFFFFF"
   },
   "moveMenuLeft": true,
   "nav_menu": {
    "height": "12px",
    "width": "252px"
   },
   "navigate_menu": true,
   "number_sections": true,
   "sideBar": true,
   "threshold": 4,
   "toc_cell": false,
   "toc_section_display": "block",
   "toc_window_display": false,
   "widenNotebook": false
  }
 },
 "nbformat": 4,
 "nbformat_minor": 2
}
