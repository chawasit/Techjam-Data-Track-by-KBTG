{
 "cells": [
  {
   "cell_type": "code",
   "execution_count": 49,
   "metadata": {
    "ExecuteTime": {
     "end_time": "2017-07-30T14:37:57.430167Z",
     "start_time": "2017-07-30T14:37:56.980668Z"
    },
    "collapsed": true
   },
   "outputs": [],
   "source": [
    "import numpy as np\n",
    "import pandas as pd\n",
    "import matplotlib.pyplot as plt\n",
    "import seaborn as sns\n",
    "%matplotlib inline\n",
    "\n",
    "# Beautiful format for float type\n",
    "pd.set_option('display.float_format', lambda x: '%.3f' % x)\n",
    "\n",
    "account_info = pd.read_csv('account_info.csv')\n",
    "account_txn = pd.read_csv('account_transaction.csv')\n",
    "data_training = pd.read_csv('tj_04_training.csv', header=None, names=[\"account_no\", \"account_type\"])\n",
    "data_test = pd.read_csv('tj_04_test.csv', header=None, names=[\"account_no\"])"
   ]
  },
  {
   "cell_type": "code",
   "execution_count": 50,
   "metadata": {
    "ExecuteTime": {
     "end_time": "2017-07-30T14:37:57.827121Z",
     "start_time": "2017-07-30T14:37:57.814126Z"
    }
   },
   "outputs": [
    {
     "data": {
      "text/html": [
       "<div>\n",
       "<style>\n",
       "    .dataframe thead tr:only-child th {\n",
       "        text-align: right;\n",
       "    }\n",
       "\n",
       "    .dataframe thead th {\n",
       "        text-align: left;\n",
       "    }\n",
       "\n",
       "    .dataframe tbody tr th {\n",
       "        vertical-align: top;\n",
       "    }\n",
       "</style>\n",
       "<table border=\"1\" class=\"dataframe\">\n",
       "  <thead>\n",
       "    <tr style=\"text-align: right;\">\n",
       "      <th></th>\n",
       "      <th>account_no</th>\n",
       "      <th>account_type</th>\n",
       "      <th>opn_dt</th>\n",
       "      <th>drmt_dys</th>\n",
       "    </tr>\n",
       "  </thead>\n",
       "  <tbody>\n",
       "    <tr>\n",
       "      <th>0</th>\n",
       "      <td>3450002243</td>\n",
       "      <td>sa</td>\n",
       "      <td>2016-02-03 00:00:00.0</td>\n",
       "      <td>0</td>\n",
       "    </tr>\n",
       "    <tr>\n",
       "      <th>1</th>\n",
       "      <td>3450013179</td>\n",
       "      <td>sa</td>\n",
       "      <td>2011-05-23 00:00:00.0</td>\n",
       "      <td>0</td>\n",
       "    </tr>\n",
       "    <tr>\n",
       "      <th>2</th>\n",
       "      <td>3450005173</td>\n",
       "      <td>sa</td>\n",
       "      <td>2016-06-14 00:00:00.0</td>\n",
       "      <td>1</td>\n",
       "    </tr>\n",
       "    <tr>\n",
       "      <th>3</th>\n",
       "      <td>3450034206</td>\n",
       "      <td>sa</td>\n",
       "      <td>2014-05-15 00:00:00.0</td>\n",
       "      <td>3</td>\n",
       "    </tr>\n",
       "    <tr>\n",
       "      <th>4</th>\n",
       "      <td>3450033428</td>\n",
       "      <td>sa</td>\n",
       "      <td>2009-02-19 00:00:00.0</td>\n",
       "      <td>0</td>\n",
       "    </tr>\n",
       "  </tbody>\n",
       "</table>\n",
       "</div>"
      ],
      "text/plain": [
       "   account_no account_type                 opn_dt  drmt_dys\n",
       "0  3450002243           sa  2016-02-03 00:00:00.0         0\n",
       "1  3450013179           sa  2011-05-23 00:00:00.0         0\n",
       "2  3450005173           sa  2016-06-14 00:00:00.0         1\n",
       "3  3450034206           sa  2014-05-15 00:00:00.0         3\n",
       "4  3450033428           sa  2009-02-19 00:00:00.0         0"
      ]
     },
     "execution_count": 50,
     "metadata": {},
     "output_type": "execute_result"
    }
   ],
   "source": [
    "vs = data_training.join(account_info.set_index('account_no'), on='account_no').drop(['cls_dt', 'pos_dt'], axis=1)\n",
    "vs.head()"
   ]
  },
  {
   "cell_type": "code",
   "execution_count": 51,
   "metadata": {
    "ExecuteTime": {
     "end_time": "2017-07-30T14:37:58.566358Z",
     "start_time": "2017-07-30T14:37:58.374671Z"
    }
   },
   "outputs": [
    {
     "data": {
      "text/plain": [
       "<matplotlib.axes._subplots.AxesSubplot at 0x26fbc311518>"
      ]
     },
     "execution_count": 51,
     "metadata": {},
     "output_type": "execute_result"
    },
    {
     "data": {
      "image/png": "[encoded data removed]",
      "text/plain": [
       "<matplotlib.figure.Figure at 0x26fbb3150b8>"
      ]
     },
     "metadata": {},
     "output_type": "display_data"
    }
   ],
   "source": [
    "sns.barplot(data=vs, x='account_type', y='drmt_dys')"
   ]
  },
  {
   "cell_type": "code",
   "execution_count": 37,
   "metadata": {
    "ExecuteTime": {
     "end_time": "2017-07-30T14:31:41.795442Z",
     "start_time": "2017-07-30T14:31:41.790443Z"
    }
   },
   "outputs": [
    {
     "data": {
      "text/plain": [
       "46.381250000000001"
      ]
     },
     "execution_count": 37,
     "metadata": {},
     "output_type": "execute_result"
    }
   ],
   "source": [
    "vs.drmt_dys.mean()"
   ]
  },
  {
   "cell_type": "code",
   "execution_count": 3,
   "metadata": {
    "ExecuteTime": {
     "end_time": "2017-07-30T14:02:24.516019Z",
     "start_time": "2017-07-30T14:02:24.397019Z"
    }
   },
   "outputs": [
    {
     "name": "stdout",
     "output_type": "stream",
     "text": [
      "<class 'pandas.core.frame.DataFrame'>\n",
      "RangeIndex: 5400 entries, 0 to 5399\n",
      "Data columns (total 5 columns):\n",
      "account_no    5400 non-null int64\n",
      "pos_dt        5400 non-null object\n",
      "opn_dt        5400 non-null object\n",
      "cls_dt        95 non-null object\n",
      "drmt_dys      5400 non-null int64\n",
      "dtypes: int64(2), object(3)\n",
      "memory usage: 211.0+ KB\n",
      "\n",
      "\n",
      "<class 'pandas.core.frame.DataFrame'>\n",
      "RangeIndex: 797089 entries, 0 to 797088\n",
      "Data columns (total 6 columns):\n",
      "account_no          797089 non-null int64\n",
      "fm_to_account_no    797089 non-null int64\n",
      "txn_amt             797089 non-null int64\n",
      "txn_dt              797089 non-null object\n",
      "txn_tm              0 non-null float64\n",
      "txn_type            797089 non-null object\n",
      "dtypes: float64(1), int64(3), object(2)\n",
      "memory usage: 36.5+ MB\n"
     ]
    }
   ],
   "source": [
    "account_info.info()\n",
    "print('\\n')\n",
    "account_txn.info()\n",
    "# data_training.info()\n",
    "# data_test.info"
   ]
  },
  {
   "cell_type": "code",
   "execution_count": null,
   "metadata": {
    "collapsed": true
   },
   "outputs": [],
   "source": []
  },
  {
   "cell_type": "code",
   "execution_count": 52,
   "metadata": {
    "ExecuteTime": {
     "end_time": "2017-07-30T14:38:01.234703Z",
     "start_time": "2017-07-30T14:38:01.210703Z"
    },
    "collapsed": true
   },
   "outputs": [],
   "source": [
    "account_info = account_info.drop('cls_dt', axis=1) # Drop cls_dt column, they are all NULL value\n",
    "account_txn = account_txn.drop('txn_tm', axis=1) # Drop txn_tm column, they are all NULL value"
   ]
  },
  {
   "cell_type": "code",
   "execution_count": 53,
   "metadata": {
    "ExecuteTime": {
     "end_time": "2017-07-30T14:38:01.824145Z",
     "start_time": "2017-07-30T14:38:01.808144Z"
    }
   },
   "outputs": [
    {
     "data": {
      "text/html": [
       "<div>\n",
       "<style>\n",
       "    .dataframe thead tr:only-child th {\n",
       "        text-align: right;\n",
       "    }\n",
       "\n",
       "    .dataframe thead th {\n",
       "        text-align: left;\n",
       "    }\n",
       "\n",
       "    .dataframe tbody tr th {\n",
       "        vertical-align: top;\n",
       "    }\n",
       "</style>\n",
       "<table border=\"1\" class=\"dataframe\">\n",
       "  <thead>\n",
       "    <tr style=\"text-align: right;\">\n",
       "      <th></th>\n",
       "      <th>account_no</th>\n",
       "      <th>pos_dt</th>\n",
       "      <th>opn_dt</th>\n",
       "      <th>drmt_dys</th>\n",
       "    </tr>\n",
       "  </thead>\n",
       "  <tbody>\n",
       "    <tr>\n",
       "      <th>3687</th>\n",
       "      <td>3450000004</td>\n",
       "      <td>2016-10-31</td>\n",
       "      <td>2003-07-11</td>\n",
       "      <td>3</td>\n",
       "    </tr>\n",
       "    <tr>\n",
       "      <th>5371</th>\n",
       "      <td>3450000020</td>\n",
       "      <td>2016-10-31</td>\n",
       "      <td>2015-07-20</td>\n",
       "      <td>5</td>\n",
       "    </tr>\n",
       "    <tr>\n",
       "      <th>3873</th>\n",
       "      <td>3450000023</td>\n",
       "      <td>2016-10-31</td>\n",
       "      <td>2015-07-20</td>\n",
       "      <td>0</td>\n",
       "    </tr>\n",
       "    <tr>\n",
       "      <th>4066</th>\n",
       "      <td>3450000025</td>\n",
       "      <td>2016-10-31</td>\n",
       "      <td>2015-07-20</td>\n",
       "      <td>0</td>\n",
       "    </tr>\n",
       "    <tr>\n",
       "      <th>2959</th>\n",
       "      <td>3450000026</td>\n",
       "      <td>2016-10-31</td>\n",
       "      <td>2015-07-20</td>\n",
       "      <td>217</td>\n",
       "    </tr>\n",
       "  </tbody>\n",
       "</table>\n",
       "</div>"
      ],
      "text/plain": [
       "      account_no     pos_dt     opn_dt  drmt_dys\n",
       "3687  3450000004 2016-10-31 2003-07-11         3\n",
       "5371  3450000020 2016-10-31 2015-07-20         5\n",
       "3873  3450000023 2016-10-31 2015-07-20         0\n",
       "4066  3450000025 2016-10-31 2015-07-20         0\n",
       "2959  3450000026 2016-10-31 2015-07-20       217"
      ]
     },
     "execution_count": 53,
     "metadata": {},
     "output_type": "execute_result"
    }
   ],
   "source": [
    "account_info['pos_dt'] = pd.to_datetime(account_info['pos_dt']) # Clean timestamp to only date\n",
    "account_info['opn_dt'] = pd.to_datetime(account_info['opn_dt']) # Clean timestamp to only date\n",
    "account_info.sort_values('account_no').head()"
   ]
  },
  {
   "cell_type": "code",
   "execution_count": 54,
   "metadata": {
    "ExecuteTime": {
     "end_time": "2017-07-30T14:38:03.998278Z",
     "start_time": "2017-07-30T14:38:03.686776Z"
    }
   },
   "outputs": [
    {
     "data": {
      "text/html": [
       "<div>\n",
       "<style>\n",
       "    .dataframe thead tr:only-child th {\n",
       "        text-align: right;\n",
       "    }\n",
       "\n",
       "    .dataframe thead th {\n",
       "        text-align: left;\n",
       "    }\n",
       "\n",
       "    .dataframe tbody tr th {\n",
       "        vertical-align: top;\n",
       "    }\n",
       "</style>\n",
       "<table border=\"1\" class=\"dataframe\">\n",
       "  <thead>\n",
       "    <tr style=\"text-align: right;\">\n",
       "      <th></th>\n",
       "      <th>account_no</th>\n",
       "      <th>fm_to_account_no</th>\n",
       "      <th>txn_amt</th>\n",
       "      <th>txn_dt</th>\n",
       "      <th>txn_type</th>\n",
       "    </tr>\n",
       "  </thead>\n",
       "  <tbody>\n",
       "    <tr>\n",
       "      <th>169006</th>\n",
       "      <td>3450000004</td>\n",
       "      <td>0</td>\n",
       "      <td>500</td>\n",
       "      <td>2016-05-30</td>\n",
       "      <td>CR</td>\n",
       "    </tr>\n",
       "    <tr>\n",
       "      <th>355983</th>\n",
       "      <td>3450000004</td>\n",
       "      <td>0</td>\n",
       "      <td>200</td>\n",
       "      <td>2016-04-29</td>\n",
       "      <td>DR</td>\n",
       "    </tr>\n",
       "    <tr>\n",
       "      <th>15941</th>\n",
       "      <td>3450000004</td>\n",
       "      <td>0</td>\n",
       "      <td>500</td>\n",
       "      <td>2016-04-28</td>\n",
       "      <td>CR</td>\n",
       "    </tr>\n",
       "    <tr>\n",
       "      <th>313630</th>\n",
       "      <td>3450000004</td>\n",
       "      <td>0</td>\n",
       "      <td>200</td>\n",
       "      <td>2016-05-31</td>\n",
       "      <td>DR</td>\n",
       "    </tr>\n",
       "    <tr>\n",
       "      <th>79473</th>\n",
       "      <td>3450000004</td>\n",
       "      <td>0</td>\n",
       "      <td>500</td>\n",
       "      <td>2016-06-29</td>\n",
       "      <td>CR</td>\n",
       "    </tr>\n",
       "  </tbody>\n",
       "</table>\n",
       "</div>"
      ],
      "text/plain": [
       "        account_no  fm_to_account_no  txn_amt     txn_dt txn_type\n",
       "169006  3450000004                 0      500 2016-05-30       CR\n",
       "355983  3450000004                 0      200 2016-04-29       DR\n",
       "15941   3450000004                 0      500 2016-04-28       CR\n",
       "313630  3450000004                 0      200 2016-05-31       DR\n",
       "79473   3450000004                 0      500 2016-06-29       CR"
      ]
     },
     "execution_count": 54,
     "metadata": {},
     "output_type": "execute_result"
    }
   ],
   "source": [
    "account_txn['txn_dt'] = pd.to_datetime(account_txn['txn_dt']) # Clean timestamp to only date\n",
    "account_txn.sort_values('account_no').head()"
   ]
  },
  {
   "cell_type": "code",
   "execution_count": 55,
   "metadata": {
    "ExecuteTime": {
     "end_time": "2017-07-30T14:38:05.743269Z",
     "start_time": "2017-07-30T14:38:05.487772Z"
    }
   },
   "outputs": [
    {
     "data": {
      "text/html": [
       "<div>\n",
       "<style>\n",
       "    .dataframe thead tr:only-child th {\n",
       "        text-align: right;\n",
       "    }\n",
       "\n",
       "    .dataframe thead th {\n",
       "        text-align: left;\n",
       "    }\n",
       "\n",
       "    .dataframe tbody tr th {\n",
       "        vertical-align: top;\n",
       "    }\n",
       "</style>\n",
       "<table border=\"1\" class=\"dataframe\">\n",
       "  <thead>\n",
       "    <tr style=\"text-align: right;\">\n",
       "      <th></th>\n",
       "      <th>account_no</th>\n",
       "      <th>txn_type</th>\n",
       "      <th>txn_dt</th>\n",
       "      <th>txn_amt</th>\n",
       "    </tr>\n",
       "  </thead>\n",
       "  <tbody>\n",
       "    <tr>\n",
       "      <th>0</th>\n",
       "      <td>3450000004</td>\n",
       "      <td>CR</td>\n",
       "      <td>2016-04-28</td>\n",
       "      <td>500</td>\n",
       "    </tr>\n",
       "    <tr>\n",
       "      <th>1</th>\n",
       "      <td>3450000004</td>\n",
       "      <td>CR</td>\n",
       "      <td>2016-05-30</td>\n",
       "      <td>500</td>\n",
       "    </tr>\n",
       "    <tr>\n",
       "      <th>2</th>\n",
       "      <td>3450000004</td>\n",
       "      <td>CR</td>\n",
       "      <td>2016-06-29</td>\n",
       "      <td>500</td>\n",
       "    </tr>\n",
       "    <tr>\n",
       "      <th>3</th>\n",
       "      <td>3450000004</td>\n",
       "      <td>CR</td>\n",
       "      <td>2016-09-28</td>\n",
       "      <td>500</td>\n",
       "    </tr>\n",
       "    <tr>\n",
       "      <th>4</th>\n",
       "      <td>3450000004</td>\n",
       "      <td>DR</td>\n",
       "      <td>2016-04-29</td>\n",
       "      <td>200</td>\n",
       "    </tr>\n",
       "  </tbody>\n",
       "</table>\n",
       "</div>"
      ],
      "text/plain": [
       "   account_no txn_type     txn_dt  txn_amt\n",
       "0  3450000004       CR 2016-04-28      500\n",
       "1  3450000004       CR 2016-05-30      500\n",
       "2  3450000004       CR 2016-06-29      500\n",
       "3  3450000004       CR 2016-09-28      500\n",
       "4  3450000004       DR 2016-04-29      200"
      ]
     },
     "execution_count": 55,
     "metadata": {},
     "output_type": "execute_result"
    }
   ],
   "source": [
    "transaction_per_day = account_txn[['account_no', 'txn_amt', 'txn_type', 'txn_dt']].groupby(['account_no', 'txn_type', 'txn_dt']).sum().reset_index()\n",
    "transaction_per_day.head()"
   ]
  },
  {
   "cell_type": "code",
   "execution_count": 56,
   "metadata": {
    "ExecuteTime": {
     "end_time": "2017-07-30T14:38:06.992596Z",
     "start_time": "2017-07-30T14:38:06.885096Z"
    }
   },
   "outputs": [
    {
     "data": {
      "text/html": [
       "<div>\n",
       "<style>\n",
       "    .dataframe thead tr:only-child th {\n",
       "        text-align: right;\n",
       "    }\n",
       "\n",
       "    .dataframe thead th {\n",
       "        text-align: left;\n",
       "    }\n",
       "\n",
       "    .dataframe tbody tr th {\n",
       "        vertical-align: top;\n",
       "    }\n",
       "</style>\n",
       "<table border=\"1\" class=\"dataframe\">\n",
       "  <thead>\n",
       "    <tr style=\"text-align: right;\">\n",
       "      <th></th>\n",
       "      <th>account_no</th>\n",
       "      <th>CR_total</th>\n",
       "      <th>DR_total</th>\n",
       "    </tr>\n",
       "  </thead>\n",
       "  <tbody>\n",
       "    <tr>\n",
       "      <th>0</th>\n",
       "      <td>3450000004</td>\n",
       "      <td>2000</td>\n",
       "      <td>800</td>\n",
       "    </tr>\n",
       "    <tr>\n",
       "      <th>1</th>\n",
       "      <td>3450000020</td>\n",
       "      <td>1336100</td>\n",
       "      <td>1227200</td>\n",
       "    </tr>\n",
       "    <tr>\n",
       "      <th>2</th>\n",
       "      <td>3450000023</td>\n",
       "      <td>279900</td>\n",
       "      <td>535200</td>\n",
       "    </tr>\n",
       "    <tr>\n",
       "      <th>3</th>\n",
       "      <td>3450000025</td>\n",
       "      <td>727100</td>\n",
       "      <td>2256200</td>\n",
       "    </tr>\n",
       "    <tr>\n",
       "      <th>4</th>\n",
       "      <td>3450000026</td>\n",
       "      <td>93900</td>\n",
       "      <td>166400</td>\n",
       "    </tr>\n",
       "  </tbody>\n",
       "</table>\n",
       "</div>"
      ],
      "text/plain": [
       "   account_no  CR_total  DR_total\n",
       "0  3450000004      2000       800\n",
       "1  3450000020   1336100   1227200\n",
       "2  3450000023    279900    535200\n",
       "3  3450000025    727100   2256200\n",
       "4  3450000026     93900    166400"
      ]
     },
     "execution_count": 56,
     "metadata": {},
     "output_type": "execute_result"
    }
   ],
   "source": [
    "transaction_per_day_pivot = transaction_per_day.pivot_table(values = 'txn_amt'\n",
    "                                                      , columns = 'txn_type'\n",
    "                                                      , index = 'account_no'\n",
    "                                                      , aggfunc = np.sum\n",
    "                                                      , fill_value = 0\n",
    "                                                     ).reset_index()\n",
    "transaction_per_day_pivot.columns.name = None\n",
    "transaction_per_day_pivot=transaction_per_day_pivot.rename(columns = {'CR':'CR_total', 'DR':'DR_total'})\n",
    "transaction_per_day_pivot.head()"
   ]
  },
  {
   "cell_type": "code",
   "execution_count": 57,
   "metadata": {
    "ExecuteTime": {
     "end_time": "2017-07-30T14:38:08.279672Z",
     "start_time": "2017-07-30T14:38:08.178174Z"
    }
   },
   "outputs": [
    {
     "data": {
      "text/html": [
       "<div>\n",
       "<style>\n",
       "    .dataframe thead tr:only-child th {\n",
       "        text-align: right;\n",
       "    }\n",
       "\n",
       "    .dataframe thead th {\n",
       "        text-align: left;\n",
       "    }\n",
       "\n",
       "    .dataframe tbody tr th {\n",
       "        vertical-align: top;\n",
       "    }\n",
       "</style>\n",
       "<table border=\"1\" class=\"dataframe\">\n",
       "  <thead>\n",
       "    <tr style=\"text-align: right;\">\n",
       "      <th></th>\n",
       "      <th>account_no</th>\n",
       "      <th>CR_times</th>\n",
       "      <th>DR_times</th>\n",
       "    </tr>\n",
       "  </thead>\n",
       "  <tbody>\n",
       "    <tr>\n",
       "      <th>0</th>\n",
       "      <td>3450000004</td>\n",
       "      <td>4</td>\n",
       "      <td>4</td>\n",
       "    </tr>\n",
       "    <tr>\n",
       "      <th>1</th>\n",
       "      <td>3450000020</td>\n",
       "      <td>14</td>\n",
       "      <td>15</td>\n",
       "    </tr>\n",
       "    <tr>\n",
       "      <th>2</th>\n",
       "      <td>3450000023</td>\n",
       "      <td>2</td>\n",
       "      <td>2</td>\n",
       "    </tr>\n",
       "    <tr>\n",
       "      <th>3</th>\n",
       "      <td>3450000025</td>\n",
       "      <td>12</td>\n",
       "      <td>21</td>\n",
       "    </tr>\n",
       "    <tr>\n",
       "      <th>4</th>\n",
       "      <td>3450000026</td>\n",
       "      <td>3</td>\n",
       "      <td>7</td>\n",
       "    </tr>\n",
       "  </tbody>\n",
       "</table>\n",
       "</div>"
      ],
      "text/plain": [
       "   account_no  CR_times  DR_times\n",
       "0  3450000004         4         4\n",
       "1  3450000020        14        15\n",
       "2  3450000023         2         2\n",
       "3  3450000025        12        21\n",
       "4  3450000026         3         7"
      ]
     },
     "execution_count": 57,
     "metadata": {},
     "output_type": "execute_result"
    }
   ],
   "source": [
    "transaction_per_day_pivot_2 = transaction_per_day.pivot_table(values = 'txn_dt'\n",
    "                                                      , columns = 'txn_type'\n",
    "                                                      , index = 'account_no'\n",
    "                                                      , aggfunc = np.size\n",
    "                                                      , fill_value = 0\n",
    "                                                     ).reset_index()\n",
    "transaction_per_day_pivot_2.columns.name = None\n",
    "transaction_per_day_pivot_2=transaction_per_day_pivot_2.rename(columns = {'CR':'CR_times', 'DR':'DR_times'})\n",
    "transaction_per_day_pivot_2.head()"
   ]
  },
  {
   "cell_type": "code",
   "execution_count": 58,
   "metadata": {
    "ExecuteTime": {
     "end_time": "2017-07-30T14:38:09.696152Z",
     "start_time": "2017-07-30T14:38:09.686151Z"
    }
   },
   "outputs": [
    {
     "data": {
      "text/html": [
       "<div>\n",
       "<style>\n",
       "    .dataframe thead tr:only-child th {\n",
       "        text-align: right;\n",
       "    }\n",
       "\n",
       "    .dataframe thead th {\n",
       "        text-align: left;\n",
       "    }\n",
       "\n",
       "    .dataframe tbody tr th {\n",
       "        vertical-align: top;\n",
       "    }\n",
       "</style>\n",
       "<table border=\"1\" class=\"dataframe\">\n",
       "  <thead>\n",
       "    <tr style=\"text-align: right;\">\n",
       "      <th></th>\n",
       "      <th>account_no</th>\n",
       "      <th>drmt_dys</th>\n",
       "    </tr>\n",
       "  </thead>\n",
       "  <tbody>\n",
       "    <tr>\n",
       "      <th>0</th>\n",
       "      <td>3450000004</td>\n",
       "      <td>3</td>\n",
       "    </tr>\n",
       "    <tr>\n",
       "      <th>1</th>\n",
       "      <td>3450000020</td>\n",
       "      <td>5</td>\n",
       "    </tr>\n",
       "    <tr>\n",
       "      <th>2</th>\n",
       "      <td>3450000023</td>\n",
       "      <td>0</td>\n",
       "    </tr>\n",
       "    <tr>\n",
       "      <th>3</th>\n",
       "      <td>3450000025</td>\n",
       "      <td>0</td>\n",
       "    </tr>\n",
       "    <tr>\n",
       "      <th>4</th>\n",
       "      <td>3450000026</td>\n",
       "      <td>217</td>\n",
       "    </tr>\n",
       "  </tbody>\n",
       "</table>\n",
       "</div>"
      ],
      "text/plain": [
       "   account_no  drmt_dys\n",
       "0  3450000004         3\n",
       "1  3450000020         5\n",
       "2  3450000023         0\n",
       "3  3450000025         0\n",
       "4  3450000026       217"
      ]
     },
     "execution_count": 58,
     "metadata": {},
     "output_type": "execute_result"
    }
   ],
   "source": [
    "transaction_drmt_days = account_info[['account_no', 'drmt_dys',]].groupby(['account_no']).sum().reset_index()\n",
    "transaction_drmt_days.head()"
   ]
  },
  {
   "cell_type": "code",
   "execution_count": 59,
   "metadata": {
    "ExecuteTime": {
     "end_time": "2017-07-30T14:38:12.435106Z",
     "start_time": "2017-07-30T14:38:12.422606Z"
    }
   },
   "outputs": [
    {
     "data": {
      "text/html": [
       "<div>\n",
       "<style>\n",
       "    .dataframe thead tr:only-child th {\n",
       "        text-align: right;\n",
       "    }\n",
       "\n",
       "    .dataframe thead th {\n",
       "        text-align: left;\n",
       "    }\n",
       "\n",
       "    .dataframe tbody tr th {\n",
       "        vertical-align: top;\n",
       "    }\n",
       "</style>\n",
       "<table border=\"1\" class=\"dataframe\">\n",
       "  <thead>\n",
       "    <tr style=\"text-align: right;\">\n",
       "      <th></th>\n",
       "      <th>account_no</th>\n",
       "      <th>CR_total</th>\n",
       "      <th>DR_total</th>\n",
       "      <th>CR_times</th>\n",
       "      <th>DR_times</th>\n",
       "      <th>drmt_dys</th>\n",
       "    </tr>\n",
       "  </thead>\n",
       "  <tbody>\n",
       "    <tr>\n",
       "      <th>0</th>\n",
       "      <td>3450000004</td>\n",
       "      <td>2000</td>\n",
       "      <td>800</td>\n",
       "      <td>4</td>\n",
       "      <td>4</td>\n",
       "      <td>3</td>\n",
       "    </tr>\n",
       "    <tr>\n",
       "      <th>1</th>\n",
       "      <td>3450000020</td>\n",
       "      <td>1336100</td>\n",
       "      <td>1227200</td>\n",
       "      <td>14</td>\n",
       "      <td>15</td>\n",
       "      <td>5</td>\n",
       "    </tr>\n",
       "    <tr>\n",
       "      <th>2</th>\n",
       "      <td>3450000023</td>\n",
       "      <td>279900</td>\n",
       "      <td>535200</td>\n",
       "      <td>2</td>\n",
       "      <td>2</td>\n",
       "      <td>0</td>\n",
       "    </tr>\n",
       "    <tr>\n",
       "      <th>3</th>\n",
       "      <td>3450000025</td>\n",
       "      <td>727100</td>\n",
       "      <td>2256200</td>\n",
       "      <td>12</td>\n",
       "      <td>21</td>\n",
       "      <td>0</td>\n",
       "    </tr>\n",
       "    <tr>\n",
       "      <th>4</th>\n",
       "      <td>3450000026</td>\n",
       "      <td>93900</td>\n",
       "      <td>166400</td>\n",
       "      <td>3</td>\n",
       "      <td>7</td>\n",
       "      <td>217</td>\n",
       "    </tr>\n",
       "  </tbody>\n",
       "</table>\n",
       "</div>"
      ],
      "text/plain": [
       "   account_no  CR_total  DR_total  CR_times  DR_times  drmt_dys\n",
       "0  3450000004      2000       800         4         4         3\n",
       "1  3450000020   1336100   1227200        14        15         5\n",
       "2  3450000023    279900    535200         2         2         0\n",
       "3  3450000025    727100   2256200        12        21         0\n",
       "4  3450000026     93900    166400         3         7       217"
      ]
     },
     "execution_count": 59,
     "metadata": {},
     "output_type": "execute_result"
    }
   ],
   "source": [
    "account_txn_summary = transaction_per_day_pivot.join(transaction_per_day_pivot_2.set_index('account_no'), on='account_no', how='left').join(transaction_drmt_days.set_index('account_no'), on='account_no')\n",
    "account_txn_summary.head()"
   ]
  },
  {
   "cell_type": "code",
   "execution_count": 60,
   "metadata": {
    "ExecuteTime": {
     "end_time": "2017-07-30T14:38:15.544843Z",
     "start_time": "2017-07-30T14:38:15.530842Z"
    }
   },
   "outputs": [
    {
     "data": {
      "text/html": [
       "<div>\n",
       "<style>\n",
       "    .dataframe thead tr:only-child th {\n",
       "        text-align: right;\n",
       "    }\n",
       "\n",
       "    .dataframe thead th {\n",
       "        text-align: left;\n",
       "    }\n",
       "\n",
       "    .dataframe tbody tr th {\n",
       "        vertical-align: top;\n",
       "    }\n",
       "</style>\n",
       "<table border=\"1\" class=\"dataframe\">\n",
       "  <thead>\n",
       "    <tr style=\"text-align: right;\">\n",
       "      <th></th>\n",
       "      <th>account_no</th>\n",
       "      <th>account_type</th>\n",
       "    </tr>\n",
       "  </thead>\n",
       "  <tbody>\n",
       "    <tr>\n",
       "      <th>0</th>\n",
       "      <td>3450002243</td>\n",
       "      <td>0</td>\n",
       "    </tr>\n",
       "    <tr>\n",
       "      <th>1</th>\n",
       "      <td>3450013179</td>\n",
       "      <td>0</td>\n",
       "    </tr>\n",
       "    <tr>\n",
       "      <th>2</th>\n",
       "      <td>3450005173</td>\n",
       "      <td>0</td>\n",
       "    </tr>\n",
       "    <tr>\n",
       "      <th>3</th>\n",
       "      <td>3450034206</td>\n",
       "      <td>0</td>\n",
       "    </tr>\n",
       "    <tr>\n",
       "      <th>4</th>\n",
       "      <td>3450033428</td>\n",
       "      <td>0</td>\n",
       "    </tr>\n",
       "    <tr>\n",
       "      <th>5</th>\n",
       "      <td>3450013510</td>\n",
       "      <td>1</td>\n",
       "    </tr>\n",
       "  </tbody>\n",
       "</table>\n",
       "</div>"
      ],
      "text/plain": [
       "   account_no account_type\n",
       "0  3450002243            0\n",
       "1  3450013179            0\n",
       "2  3450005173            0\n",
       "3  3450034206            0\n",
       "4  3450033428            0\n",
       "5  3450013510            1"
      ]
     },
     "execution_count": 60,
     "metadata": {},
     "output_type": "execute_result"
    }
   ],
   "source": [
    "data_training.loc[data_training[\"account_type\"] == \"sa\", \"account_type\"] = 0\n",
    "data_training.loc[data_training[\"account_type\"] == \"ca\", \"account_type\"] = 1\n",
    "data_training.head(6)"
   ]
  },
  {
   "cell_type": "code",
   "execution_count": 38,
   "metadata": {
    "ExecuteTime": {
     "end_time": "2017-07-30T14:33:19.968342Z",
     "start_time": "2017-07-30T14:33:19.958342Z"
    },
    "collapsed": true
   },
   "outputs": [],
   "source": [
    "mean = account_txn_summary.drmt_dys.mean()\n",
    "account_txn_summary.loc[account_txn_summary.drmt_dys < mean, \"drmt_dys\"] = 0\n",
    "account_txn_summary.loc[account_txn_summary.drmt_dys >= mean, \"drmt_dys\"] = 1"
   ]
  },
  {
   "cell_type": "code",
   "execution_count": 67,
   "metadata": {
    "ExecuteTime": {
     "end_time": "2017-07-30T14:39:44.083192Z",
     "start_time": "2017-07-30T14:39:44.070192Z"
    }
   },
   "outputs": [
    {
     "data": {
      "text/html": [
       "<div>\n",
       "<style>\n",
       "    .dataframe thead tr:only-child th {\n",
       "        text-align: right;\n",
       "    }\n",
       "\n",
       "    .dataframe thead th {\n",
       "        text-align: left;\n",
       "    }\n",
       "\n",
       "    .dataframe tbody tr th {\n",
       "        vertical-align: top;\n",
       "    }\n",
       "</style>\n",
       "<table border=\"1\" class=\"dataframe\">\n",
       "  <thead>\n",
       "    <tr style=\"text-align: right;\">\n",
       "      <th></th>\n",
       "      <th>account_no</th>\n",
       "      <th>CR_total</th>\n",
       "      <th>DR_total</th>\n",
       "      <th>CR_times</th>\n",
       "      <th>DR_times</th>\n",
       "      <th>drmt_dys</th>\n",
       "      <th>account_type</th>\n",
       "    </tr>\n",
       "  </thead>\n",
       "  <tbody>\n",
       "    <tr>\n",
       "      <th>0</th>\n",
       "      <td>3450000004</td>\n",
       "      <td>2000</td>\n",
       "      <td>800</td>\n",
       "      <td>4</td>\n",
       "      <td>4</td>\n",
       "      <td>3</td>\n",
       "      <td>1</td>\n",
       "    </tr>\n",
       "    <tr>\n",
       "      <th>1</th>\n",
       "      <td>3450000020</td>\n",
       "      <td>1336100</td>\n",
       "      <td>1227200</td>\n",
       "      <td>14</td>\n",
       "      <td>15</td>\n",
       "      <td>5</td>\n",
       "      <td>NaN</td>\n",
       "    </tr>\n",
       "    <tr>\n",
       "      <th>2</th>\n",
       "      <td>3450000023</td>\n",
       "      <td>279900</td>\n",
       "      <td>535200</td>\n",
       "      <td>2</td>\n",
       "      <td>2</td>\n",
       "      <td>0</td>\n",
       "      <td>1</td>\n",
       "    </tr>\n",
       "    <tr>\n",
       "      <th>3</th>\n",
       "      <td>3450000025</td>\n",
       "      <td>727100</td>\n",
       "      <td>2256200</td>\n",
       "      <td>12</td>\n",
       "      <td>21</td>\n",
       "      <td>0</td>\n",
       "      <td>1</td>\n",
       "    </tr>\n",
       "    <tr>\n",
       "      <th>4</th>\n",
       "      <td>3450000026</td>\n",
       "      <td>93900</td>\n",
       "      <td>166400</td>\n",
       "      <td>3</td>\n",
       "      <td>7</td>\n",
       "      <td>217</td>\n",
       "      <td>1</td>\n",
       "    </tr>\n",
       "  </tbody>\n",
       "</table>\n",
       "</div>"
      ],
      "text/plain": [
       "   account_no  CR_total  DR_total  CR_times  DR_times  drmt_dys account_type\n",
       "0  3450000004      2000       800         4         4         3            1\n",
       "1  3450000020   1336100   1227200        14        15         5          NaN\n",
       "2  3450000023    279900    535200         2         2         0            1\n",
       "3  3450000025    727100   2256200        12        21         0            1\n",
       "4  3450000026     93900    166400         3         7       217            1"
      ]
     },
     "execution_count": 67,
     "metadata": {},
     "output_type": "execute_result"
    }
   ],
   "source": [
    "data_features = account_txn_summary.join(data_training.set_index('account_no'), on='account_no', how='left')\n",
    "# data_features = data_features.dropna(axis=0, how='any')\n",
    "# data_features = data_features.drop(['CR_total', 'DR_total', 'CR_times', 'DR_times'], axis=1)\n",
    "data_features = data_features.reset_index(drop=True)\n",
    "data_features.head()"
   ]
  },
  {
   "cell_type": "code",
   "execution_count": 122,
   "metadata": {
    "ExecuteTime": {
     "end_time": "2017-07-30T15:22:23.299304Z",
     "start_time": "2017-07-30T15:22:23.287805Z"
    },
    "collapsed": true
   },
   "outputs": [],
   "source": [
    "from sklearn.model_selection import train_test_split\n",
    "\n",
    "training_data_features = data_features.dropna(axis=0, how='any')\n",
    "X_all = training_data_features.drop(['account_no', 'account_type'], axis=1).astype(int)\n",
    "y_all = training_data_features['account_type'].astype(int)\n",
    "\n",
    "num_test = 0.30\n",
    "X_train, X_test, y_train, y_test = train_test_split(X_all, y_all, test_size = num_test, random_state = 23)"
   ]
  },
  {
   "cell_type": "code",
   "execution_count": 15,
   "metadata": {
    "ExecuteTime": {
     "end_time": "2017-07-30T14:02:26.020518Z",
     "start_time": "2017-07-30T14:02:25.993519Z"
    },
    "collapsed": true
   },
   "outputs": [],
   "source": [
    "from sklearn.model_selection import train_test_split\n",
    "from sklearn.ensemble import RandomForestClassifier\n",
    "from sklearn.metrics import make_scorer, accuracy_score\n",
    "from sklearn.model_selection import GridSearchCV"
   ]
  },
  {
   "cell_type": "code",
   "execution_count": 118,
   "metadata": {
    "ExecuteTime": {
     "end_time": "2017-07-30T15:21:25.320452Z",
     "start_time": "2017-07-30T15:21:24.897451Z"
    }
   },
   "outputs": [
    {
     "name": "stdout",
     "output_type": "stream",
     "text": [
      "Fold 1 accuracy: 0.8518518518518519\n",
      "Fold 2 accuracy: 0.8472222222222222\n",
      "Fold 3 accuracy: 0.8796296296296297\n",
      "Fold 4 accuracy: 0.8634259259259259\n",
      "Fold 5 accuracy: 0.8726851851851852\n",
      "Fold 6 accuracy: 0.8773148148148148\n",
      "Fold 7 accuracy: 0.9189814814814815\n",
      "Fold 8 accuracy: 0.8611111111111112\n",
      "Fold 9 accuracy: 0.8495370370370371\n",
      "Fold 10 accuracy: 0.8425925925925926\n",
      "Mean Accuracy: 0.8664351851851851\n"
     ]
    },
    {
     "data": {
      "text/plain": [
       "RandomForestClassifier(bootstrap=True, class_weight=None, criterion='gini',\n",
       "            max_depth=None, max_features='auto', max_leaf_nodes=None,\n",
       "            min_impurity_split=1e-07, min_samples_leaf=1,\n",
       "            min_samples_split=2, min_weight_fraction_leaf=0.0,\n",
       "            n_estimators=10, n_jobs=1, oob_score=False, random_state=None,\n",
       "            verbose=0, warm_start=False)"
      ]
     },
     "execution_count": 118,
     "metadata": {},
     "output_type": "execute_result"
    }
   ],
   "source": [
    "from sklearn.neighbors import KNeighborsClassifier\n",
    "from sklearn.cross_validation import KFold\n",
    "from sklearn.ensemble import RandomForestClassifier\n",
    "from sklearn.metrics import make_scorer, accuracy_score\n",
    "from sklearn.model_selection import GridSearchCV\n",
    "\n",
    "# Choose the type of classifier. \n",
    "clf = RandomForestClassifier()\n",
    "# clf = KNeighborsClassifier()\n",
    "\n",
    "def run_kfold(clf):\n",
    "    kf = KFold(training_data_features.shape[0], n_folds=10)\n",
    "    outcomes = []\n",
    "    fold = 0\n",
    "    for train_index, test_index in kf:\n",
    "        fold += 1\n",
    "        X_train, X_test = X_all.values[train_index], X_all.values[test_index]\n",
    "        y_train, y_test = y_all.values[train_index], y_all.values[test_index]\n",
    "        clf.fit(X_train, y_train)\n",
    "        predictions = clf.predict(X_test)\n",
    "        accuracy = accuracy_score(y_test, predictions)\n",
    "        outcomes.append(accuracy)\n",
    "        print(\"Fold {0} accuracy: {1}\".format(fold, accuracy))     \n",
    "    mean_outcome = np.mean(outcomes)\n",
    "    print(\"Mean Accuracy: {0}\".format(mean_outcome)) \n",
    "\n",
    "run_kfold(clf)\n",
    "\n",
    "clf.fit(X_all, y_all)"
   ]
  },
  {
   "cell_type": "code",
   "execution_count": 124,
   "metadata": {
    "ExecuteTime": {
     "end_time": "2017-07-30T15:22:26.429205Z",
     "start_time": "2017-07-30T15:22:26.422205Z"
    }
   },
   "outputs": [
    {
     "name": "stdout",
     "output_type": "stream",
     "text": [
      "0.986111111111\n"
     ]
    }
   ],
   "source": [
    "predictions = clf.predict(X_test)\n",
    "print(accuracy_score(y_test, predictions))"
   ]
  },
  {
   "cell_type": "code",
   "execution_count": 123,
   "metadata": {
    "ExecuteTime": {
     "end_time": "2017-07-30T15:22:25.617563Z",
     "start_time": "2017-07-30T15:22:25.604063Z"
    }
   },
   "outputs": [
    {
     "data": {
      "text/plain": [
       "(0.98776455026455023, 0.98726851851851849)"
      ]
     },
     "execution_count": 123,
     "metadata": {},
     "output_type": "execute_result"
    }
   ],
   "source": [
    "clf.score(X_train, y_train), clf.score(X_all, y_all)"
   ]
  },
  {
   "cell_type": "code",
   "execution_count": 74,
   "metadata": {
    "ExecuteTime": {
     "end_time": "2017-07-30T15:05:17.528742Z",
     "start_time": "2017-07-30T14:58:39.138724Z"
    }
   },
   "outputs": [
    {
     "name": "stdout",
     "output_type": "stream",
     "text": [
      "0.880787037037\n"
     ]
    }
   ],
   "source": [
    "# Choose the type of classifier. \n",
    "random_forest = RandomForestClassifier()\n",
    "\n",
    "# Choose some parameter combinations to try\n",
    "parameters = {'n_estimators': [500], \n",
    "              'max_features': ['log2', 'sqrt', 'auto'], \n",
    "              'criterion': ['entropy', 'gini'],\n",
    "              'max_depth': [2, 3, 5, 10, 15], \n",
    "              'min_samples_split': [2, 3, 5, 8],\n",
    "              'min_samples_leaf': [1,5,8, 10]\n",
    "             }\n",
    "\n",
    "# Type of scoring used to compare parameter combinations\n",
    "acc_scorer = make_scorer(accuracy_score)\n",
    "\n",
    "# Run the grid search\n",
    "grid_obj = GridSearchCV(random_forest, parameters, scoring=acc_scorer, n_jobs=6)\n",
    "grid_obj = grid_obj.fit(X_train, y_train)\n",
    "\n",
    "# Set the clf to the best combination of parameters\n",
    "random_forest = grid_obj.best_estimator_\n",
    "\n",
    "# Fit the best algorithm to the data. \n",
    "random_forest.fit(X_train, y_train)\n",
    "\n",
    "predictions = random_forest.predict(X_test)\n",
    "print(accuracy_score(y_test, predictions))"
   ]
  },
  {
   "cell_type": "code",
   "execution_count": 116,
   "metadata": {
    "ExecuteTime": {
     "end_time": "2017-07-30T15:21:00.385701Z",
     "start_time": "2017-07-30T15:20:58.022199Z"
    }
   },
   "outputs": [
    {
     "data": {
      "text/html": [
       "<div>\n",
       "<style>\n",
       "    .dataframe thead tr:only-child th {\n",
       "        text-align: right;\n",
       "    }\n",
       "\n",
       "    .dataframe thead th {\n",
       "        text-align: left;\n",
       "    }\n",
       "\n",
       "    .dataframe tbody tr th {\n",
       "        vertical-align: top;\n",
       "    }\n",
       "</style>\n",
       "<table border=\"1\" class=\"dataframe\">\n",
       "  <thead>\n",
       "    <tr style=\"text-align: right;\">\n",
       "      <th></th>\n",
       "      <th>Model</th>\n",
       "      <th>Train Score</th>\n",
       "      <th>Test Score</th>\n",
       "    </tr>\n",
       "  </thead>\n",
       "  <tbody>\n",
       "    <tr>\n",
       "      <th>3</th>\n",
       "      <td>Random Forest</td>\n",
       "      <td>100.000</td>\n",
       "      <td>87.380</td>\n",
       "    </tr>\n",
       "    <tr>\n",
       "      <th>9</th>\n",
       "      <td>AdaBoost</td>\n",
       "      <td>89.210</td>\n",
       "      <td>87.040</td>\n",
       "    </tr>\n",
       "    <tr>\n",
       "      <th>8</th>\n",
       "      <td>Decision Tree</td>\n",
       "      <td>100.000</td>\n",
       "      <td>80.670</td>\n",
       "    </tr>\n",
       "    <tr>\n",
       "      <th>2</th>\n",
       "      <td>Logistic Regression</td>\n",
       "      <td>73.290</td>\n",
       "      <td>73.030</td>\n",
       "    </tr>\n",
       "    <tr>\n",
       "      <th>1</th>\n",
       "      <td>KNN</td>\n",
       "      <td>78.360</td>\n",
       "      <td>68.170</td>\n",
       "    </tr>\n",
       "    <tr>\n",
       "      <th>7</th>\n",
       "      <td>Linear SVC</td>\n",
       "      <td>53.880</td>\n",
       "      <td>53.360</td>\n",
       "    </tr>\n",
       "    <tr>\n",
       "      <th>0</th>\n",
       "      <td>Support Vector Machines</td>\n",
       "      <td>100.000</td>\n",
       "      <td>52.890</td>\n",
       "    </tr>\n",
       "    <tr>\n",
       "      <th>5</th>\n",
       "      <td>Perceptron</td>\n",
       "      <td>49.650</td>\n",
       "      <td>51.390</td>\n",
       "    </tr>\n",
       "    <tr>\n",
       "      <th>4</th>\n",
       "      <td>Naive Bayes</td>\n",
       "      <td>53.040</td>\n",
       "      <td>51.160</td>\n",
       "    </tr>\n",
       "    <tr>\n",
       "      <th>6</th>\n",
       "      <td>Stochastic Gradient Decent</td>\n",
       "      <td>44.130</td>\n",
       "      <td>42.710</td>\n",
       "    </tr>\n",
       "  </tbody>\n",
       "</table>\n",
       "</div>"
      ],
      "text/plain": [
       "                        Model  Train Score  Test Score\n",
       "3               Random Forest      100.000      87.380\n",
       "9                    AdaBoost       89.210      87.040\n",
       "8               Decision Tree      100.000      80.670\n",
       "2         Logistic Regression       73.290      73.030\n",
       "1                         KNN       78.360      68.170\n",
       "7                  Linear SVC       53.880      53.360\n",
       "0     Support Vector Machines      100.000      52.890\n",
       "5                  Perceptron       49.650      51.390\n",
       "4                 Naive Bayes       53.040      51.160\n",
       "6  Stochastic Gradient Decent       44.130      42.710"
      ]
     },
     "execution_count": 116,
     "metadata": {},
     "output_type": "execute_result"
    }
   ],
   "source": [
    "# machine learning\n",
    "from sklearn.linear_model import LogisticRegression\n",
    "from sklearn.svm import SVC, LinearSVC\n",
    "from sklearn.ensemble import RandomForestClassifier\n",
    "from sklearn.neighbors import KNeighborsClassifier\n",
    "from sklearn.naive_bayes import GaussianNB\n",
    "from sklearn.linear_model import Perceptron\n",
    "from sklearn.linear_model import SGDClassifier\n",
    "from sklearn.tree import DecisionTreeClassifier\n",
    "from sklearn.ensemble import AdaBoostClassifier\n",
    "from sklearn.model_selection import train_test_split\n",
    "\n",
    "\n",
    "adaboost = AdaBoostClassifier()\n",
    "adaboost.fit(X_train, y_train)\n",
    "predictions = adaboost.predict(X_test)\n",
    "acc_adaboost_train = round(adaboost.score(X_train, y_train) * 100, 2)\n",
    "acc_adaboost_test = round(adaboost.score(X_test, y_test) * 100, 2)\n",
    "acc_adaboost = acc_adaboost_train, acc_adaboost_test\n",
    "\n",
    "logreg = LogisticRegression()\n",
    "logreg.fit(X_train, y_train)\n",
    "Y_pred = logreg.predict(X_test)\n",
    "acc_log_train = round(logreg.score(X_train, y_train) * 100, 2)\n",
    "acc_log_test = round(logreg.score(X_test, y_test) * 100, 2)\n",
    "acc_log = acc_log_train, acc_log_test\n",
    "\n",
    "svc = SVC()\n",
    "svc.fit(X_train, y_train)\n",
    "Y_pred = svc.predict(X_test)\n",
    "acc_svc_train = round(svc.score(X_train, y_train) * 100, 2)\n",
    "acc_svc_test = round(svc.score(X_test, y_test) * 100, 2)\n",
    "acc_svc = acc_svc_train, acc_svc_test\n",
    "\n",
    "knn = KNeighborsClassifier(n_neighbors = X_train.shape[1])\n",
    "knn.fit(X_train, y_train)\n",
    "Y_pred = knn.predict(X_test)\n",
    "acc_knn_train = round(knn.score(X_train, y_train) * 100, 2)\n",
    "acc_knn_test = round(knn.score(X_test, y_test) * 100, 2)\n",
    "acc_knn = acc_knn_train, acc_knn_test\n",
    "\n",
    "gaussian = GaussianNB()\n",
    "gaussian.fit(X_train, y_train)\n",
    "Y_pred = gaussian.predict(X_test)\n",
    "acc_gaussian_train = round(gaussian.score(X_train, y_train) * 100, 2)\n",
    "acc_gaussian_test = round(gaussian.score(X_test, y_test) * 100, 2)\n",
    "acc_gaussian = acc_gaussian_train, acc_gaussian_test\n",
    "\n",
    "perceptron = Perceptron()\n",
    "perceptron.fit(X_train, y_train)\n",
    "Y_pred = perceptron.predict(X_test)\n",
    "acc_perceptron_train = round(perceptron.score(X_train, y_train) * 100, 2)\n",
    "acc_perceptron_test = round(perceptron.score(X_test, y_test) * 100, 2)\n",
    "acc_perceptron = acc_perceptron_train, acc_perceptron_test\n",
    "\n",
    "\n",
    "linear_svc = LinearSVC()\n",
    "linear_svc.fit(X_train, y_train)\n",
    "Y_pred = linear_svc.predict(X_test)\n",
    "acc_linear_svc_train = round(linear_svc.score(X_train, y_train) * 100, 2)\n",
    "acc_linear_svc_test = round(linear_svc.score(X_test, y_test) * 100, 2)\n",
    "acc_linear_svc = acc_linear_svc_train, acc_linear_svc_test\n",
    "\n",
    "sgd = SGDClassifier()\n",
    "sgd.fit(X_train, y_train)\n",
    "Y_pred = sgd.predict(X_test)\n",
    "acc_sgd_train = round(sgd.score(X_train, y_train) * 100, 2)\n",
    "acc_sgd_test = round(sgd.score(X_test, y_test) * 100, 2)\n",
    "acc_sgd = acc_sgd_train, acc_sgd_test\n",
    "\n",
    "decision_tree = DecisionTreeClassifier()\n",
    "decision_tree.fit(X_train, y_train)\n",
    "Y_pred = decision_tree.predict(X_test)\n",
    "acc_decision_tree_train = round(decision_tree.score(X_train, y_train) * 100, 2)\n",
    "acc_decision_tree_test = round(decision_tree.score(X_test, y_test) * 100, 2)\n",
    "acc_decision_tree = acc_decision_tree_train, acc_decision_tree_test\n",
    "\n",
    "random_forest = RandomForestClassifier(n_estimators=100)\n",
    "random_forest.fit(X_train, y_train)\n",
    "Y_pred = random_forest.predict(X_test)\n",
    "random_forest.score(X_train, y_train)\n",
    "acc_random_forest_train = round(random_forest.score(X_train, y_train) * 100, 2)\n",
    "acc_random_forest_test = round(random_forest.score(X_test, y_test) * 100, 2)\n",
    "acc_random_forest = acc_random_forest_train, acc_random_forest_test\n",
    "\n",
    "models = pd.DataFrame({\n",
    "    'Model': ['Support Vector Machines'\n",
    "              , 'KNN'\n",
    "              , 'Logistic Regression'\n",
    "              , 'Random Forest'\n",
    "              , 'Naive Bayes'\n",
    "              , 'Perceptron'\n",
    "              , 'Stochastic Gradient Decent'\n",
    "              , 'Linear SVC'\n",
    "              , 'Decision Tree'\n",
    "              , 'AdaBoost'],\n",
    "    'Score': [acc_svc\n",
    "              , acc_knn\n",
    "              , acc_log\n",
    "              , acc_random_forest\n",
    "              , acc_gaussian\n",
    "              , acc_perceptron\n",
    "              , acc_sgd\n",
    "              , acc_linear_svc\n",
    "              , acc_decision_tree\n",
    "              , acc_adaboost]})\n",
    "models['Train Score'] = models.Score.apply(lambda x: x[0])\n",
    "models['Test Score'] = models.Score.apply(lambda x: x[1])\n",
    "models = models.drop('Score', axis = 1)\n",
    "\n",
    "models.sort_values(by = 'Test Score', ascending = False)"
   ]
  },
  {
   "cell_type": "code",
   "execution_count": null,
   "metadata": {
    "ExecuteTime": {
     "end_time": "2017-07-30T14:05:12.210202Z",
     "start_time": "2017-07-30T14:02:23.330Z"
    },
    "collapsed": true
   },
   "outputs": [],
   "source": [
    "test_data_features = data_test.join(data_features.set_index('account_no'), on = 'account_no', how = 'left')\n",
    "test_data_features.head()"
   ]
  },
  {
   "cell_type": "code",
   "execution_count": 92,
   "metadata": {
    "ExecuteTime": {
     "end_time": "2017-07-30T15:17:08.706944Z",
     "start_time": "2017-07-30T15:17:08.681940Z"
    }
   },
   "outputs": [
    {
     "data": {
      "text/html": [
       "<div>\n",
       "<style>\n",
       "    .dataframe thead tr:only-child th {\n",
       "        text-align: right;\n",
       "    }\n",
       "\n",
       "    .dataframe thead th {\n",
       "        text-align: left;\n",
       "    }\n",
       "\n",
       "    .dataframe tbody tr th {\n",
       "        vertical-align: top;\n",
       "    }\n",
       "</style>\n",
       "<table border=\"1\" class=\"dataframe\">\n",
       "  <thead>\n",
       "    <tr style=\"text-align: right;\">\n",
       "      <th></th>\n",
       "      <th>account_type</th>\n",
       "    </tr>\n",
       "  </thead>\n",
       "  <tbody>\n",
       "    <tr>\n",
       "      <th>0</th>\n",
       "      <td>sa</td>\n",
       "    </tr>\n",
       "    <tr>\n",
       "      <th>1</th>\n",
       "      <td>ca</td>\n",
       "    </tr>\n",
       "    <tr>\n",
       "      <th>2</th>\n",
       "      <td>sa</td>\n",
       "    </tr>\n",
       "    <tr>\n",
       "      <th>3</th>\n",
       "      <td>sa</td>\n",
       "    </tr>\n",
       "    <tr>\n",
       "      <th>4</th>\n",
       "      <td>ca</td>\n",
       "    </tr>\n",
       "    <tr>\n",
       "      <th>5</th>\n",
       "      <td>sa</td>\n",
       "    </tr>\n",
       "    <tr>\n",
       "      <th>6</th>\n",
       "      <td>ca</td>\n",
       "    </tr>\n",
       "    <tr>\n",
       "      <th>7</th>\n",
       "      <td>sa</td>\n",
       "    </tr>\n",
       "    <tr>\n",
       "      <th>8</th>\n",
       "      <td>sa</td>\n",
       "    </tr>\n",
       "    <tr>\n",
       "      <th>9</th>\n",
       "      <td>sa</td>\n",
       "    </tr>\n",
       "  </tbody>\n",
       "</table>\n",
       "</div>"
      ],
      "text/plain": [
       "  account_type\n",
       "0           sa\n",
       "1           ca\n",
       "2           sa\n",
       "3           sa\n",
       "4           ca\n",
       "5           sa\n",
       "6           ca\n",
       "7           sa\n",
       "8           sa\n",
       "9           sa"
      ]
     },
     "execution_count": 92,
     "metadata": {},
     "output_type": "execute_result"
    }
   ],
   "source": [
    "test = data_test.join(account_txn_summary.set_index('account_no'), on='account_no', how='left')\n",
    "\n",
    "predictions = clf.predict(test.drop(['account_no'], axis = 1))\n",
    "\n",
    "output = pd.DataFrame({'account_type': predictions })\n",
    "output.loc[output['account_type'] == 0] = 'sa'\n",
    "output.loc[output['account_type'] == 1] = 'ca'\n",
    "output.to_csv('4.txt', index = False, header = None)\n",
    "output.head(10)"
   ]
  }
 ],
 "metadata": {
  "kernelspec": {
   "display_name": "Python 3",
   "language": "python",
   "name": "python3"
  },
  "language_info": {
   "codemirror_mode": {
    "name": "ipython",
    "version": 3
   },
   "file_extension": ".py",
   "mimetype": "text/x-python",
   "name": "python",
   "nbconvert_exporter": "python",
   "pygments_lexer": "ipython3",
   "version": "3.6.2"
  },
  "toc": {
   "colors": {
    "hover_highlight": "#DAA520",
    "navigate_num": "#000000",
    "navigate_text": "#333333",
    "running_highlight": "#FF0000",
    "selected_highlight": "#FFD700",
    "sidebar_border": "#EEEEEE",
    "wrapper_background": "#FFFFFF"
   },
   "moveMenuLeft": true,
   "nav_menu": {
    "height": "12px",
    "width": "252px"
   },
   "navigate_menu": true,
   "number_sections": true,
   "sideBar": true,
   "threshold": 4,
   "toc_cell": false,
   "toc_section_display": "block",
   "toc_window_display": false,
   "widenNotebook": false
  }
 },
 "nbformat": 4,
 "nbformat_minor": 2
}
